{
 "cells": [
  {
   "cell_type": "code",
   "execution_count": 5,
   "id": "b19b4a93",
   "metadata": {},
   "outputs": [],
   "source": [
    "import pandas as pd\n",
    "import numpy as np\n",
    "import matplotlib.pyplot as plt\n",
    "from math import sqrt\n",
    "from sklearn.linear_model import LinearRegression\n",
    "from sklearn.metrics import mean_squared_error, r2_score, explained_variance_score\n",
    "from explore import get_auto_mpg, train_val_test"
   ]
  },
  {
   "cell_type": "code",
   "execution_count": 6,
   "id": "43aa8eb1",
   "metadata": {},
   "outputs": [
    {
     "data": {
      "text/html": [
       "<div>\n",
       "<style scoped>\n",
       "    .dataframe tbody tr th:only-of-type {\n",
       "        vertical-align: middle;\n",
       "    }\n",
       "\n",
       "    .dataframe tbody tr th {\n",
       "        vertical-align: top;\n",
       "    }\n",
       "\n",
       "    .dataframe thead th {\n",
       "        text-align: right;\n",
       "    }\n",
       "</style>\n",
       "<table border=\"1\" class=\"dataframe\">\n",
       "  <thead>\n",
       "    <tr style=\"text-align: right;\">\n",
       "      <th></th>\n",
       "      <th>mpg</th>\n",
       "      <th>cylinders</th>\n",
       "      <th>displ</th>\n",
       "      <th>horsepower</th>\n",
       "      <th>weight</th>\n",
       "      <th>acc</th>\n",
       "      <th>model_year</th>\n",
       "      <th>origin</th>\n",
       "      <th>name</th>\n",
       "    </tr>\n",
       "  </thead>\n",
       "  <tbody>\n",
       "    <tr>\n",
       "      <th>0</th>\n",
       "      <td>18.0</td>\n",
       "      <td>8</td>\n",
       "      <td>307.0</td>\n",
       "      <td>130.0</td>\n",
       "      <td>3504.0</td>\n",
       "      <td>12.0</td>\n",
       "      <td>70</td>\n",
       "      <td>1</td>\n",
       "      <td>\"chevrolet chevelle malibu\"</td>\n",
       "    </tr>\n",
       "    <tr>\n",
       "      <th>1</th>\n",
       "      <td>15.0</td>\n",
       "      <td>8</td>\n",
       "      <td>350.0</td>\n",
       "      <td>165.0</td>\n",
       "      <td>3693.0</td>\n",
       "      <td>11.5</td>\n",
       "      <td>70</td>\n",
       "      <td>1</td>\n",
       "      <td>\"buick skylark 320\"</td>\n",
       "    </tr>\n",
       "    <tr>\n",
       "      <th>2</th>\n",
       "      <td>18.0</td>\n",
       "      <td>8</td>\n",
       "      <td>318.0</td>\n",
       "      <td>150.0</td>\n",
       "      <td>3436.0</td>\n",
       "      <td>11.0</td>\n",
       "      <td>70</td>\n",
       "      <td>1</td>\n",
       "      <td>\"plymouth satellite\"</td>\n",
       "    </tr>\n",
       "    <tr>\n",
       "      <th>3</th>\n",
       "      <td>16.0</td>\n",
       "      <td>8</td>\n",
       "      <td>304.0</td>\n",
       "      <td>150.0</td>\n",
       "      <td>3433.0</td>\n",
       "      <td>12.0</td>\n",
       "      <td>70</td>\n",
       "      <td>1</td>\n",
       "      <td>\"amc rebel sst\"</td>\n",
       "    </tr>\n",
       "    <tr>\n",
       "      <th>4</th>\n",
       "      <td>17.0</td>\n",
       "      <td>8</td>\n",
       "      <td>302.0</td>\n",
       "      <td>140.0</td>\n",
       "      <td>3449.0</td>\n",
       "      <td>10.5</td>\n",
       "      <td>70</td>\n",
       "      <td>1</td>\n",
       "      <td>\"ford torino\"</td>\n",
       "    </tr>\n",
       "  </tbody>\n",
       "</table>\n",
       "</div>"
      ],
      "text/plain": [
       "    mpg  cylinders  displ  horsepower  weight   acc  model_year  origin  \\\n",
       "0  18.0          8  307.0       130.0  3504.0  12.0          70       1   \n",
       "1  15.0          8  350.0       165.0  3693.0  11.5          70       1   \n",
       "2  18.0          8  318.0       150.0  3436.0  11.0          70       1   \n",
       "3  16.0          8  304.0       150.0  3433.0  12.0          70       1   \n",
       "4  17.0          8  302.0       140.0  3449.0  10.5          70       1   \n",
       "\n",
       "                          name  \n",
       "0  \"chevrolet chevelle malibu\"  \n",
       "1          \"buick skylark 320\"  \n",
       "2         \"plymouth satellite\"  \n",
       "3              \"amc rebel sst\"  \n",
       "4                \"ford torino\"  "
      ]
     },
     "execution_count": 6,
     "metadata": {},
     "output_type": "execute_result"
    }
   ],
   "source": [
    "df = get_auto_mpg()\n",
    "df.head()"
   ]
  },
  {
   "cell_type": "code",
   "execution_count": 9,
   "id": "77071b18",
   "metadata": {},
   "outputs": [
    {
     "data": {
      "text/plain": [
       "((235, 9), (78, 9), (79, 9))"
      ]
     },
     "execution_count": 9,
     "metadata": {},
     "output_type": "execute_result"
    }
   ],
   "source": [
    "train, val, test = train_val_test(df, stratify = 'mpg')\n",
    "train.shape, val.shape, test.shape"
   ]
  },
  {
   "cell_type": "markdown",
   "id": "4284a470",
   "metadata": {},
   "source": [
    "## Establish baseline and model predictions\n",
    "\n",
    "The baseline is the mean of the actual values.\n",
    "\n",
    "A basic LinearRegression model will be used to make predictions."
   ]
  },
  {
   "cell_type": "code",
   "execution_count": 10,
   "id": "ae4ec25e",
   "metadata": {},
   "outputs": [
    {
     "data": {
      "text/plain": [
       "23.503829787234046"
      ]
     },
     "execution_count": 10,
     "metadata": {},
     "output_type": "execute_result"
    }
   ],
   "source": [
    "train['mpg'].mean()"
   ]
  },
  {
   "cell_type": "code",
   "execution_count": 17,
   "id": "0573f24b",
   "metadata": {},
   "outputs": [
    {
     "data": {
      "text/plain": [
       "23.5"
      ]
     },
     "execution_count": 17,
     "metadata": {},
     "output_type": "execute_result"
    }
   ],
   "source": [
    "round(train['mpg'].mean(),2)"
   ]
  },
  {
   "cell_type": "code",
   "execution_count": 14,
   "id": "def54152",
   "metadata": {},
   "outputs": [],
   "source": [
    "preds = train[['horsepower', 'mpg']]"
   ]
  },
  {
   "cell_type": "code",
   "execution_count": 20,
   "id": "1d9d6e39",
   "metadata": {},
   "outputs": [
    {
     "data": {
      "text/html": [
       "<div>\n",
       "<style scoped>\n",
       "    .dataframe tbody tr th:only-of-type {\n",
       "        vertical-align: middle;\n",
       "    }\n",
       "\n",
       "    .dataframe tbody tr th {\n",
       "        vertical-align: top;\n",
       "    }\n",
       "\n",
       "    .dataframe thead th {\n",
       "        text-align: right;\n",
       "    }\n",
       "</style>\n",
       "<table border=\"1\" class=\"dataframe\">\n",
       "  <thead>\n",
       "    <tr style=\"text-align: right;\">\n",
       "      <th></th>\n",
       "      <th>horsepower</th>\n",
       "      <th>mpg</th>\n",
       "      <th>baseline_preds</th>\n",
       "      <th>yhat</th>\n",
       "    </tr>\n",
       "  </thead>\n",
       "  <tbody>\n",
       "    <tr>\n",
       "      <th>212</th>\n",
       "      <td>180.0</td>\n",
       "      <td>16.5</td>\n",
       "      <td>23.5</td>\n",
       "      <td>11.058302</td>\n",
       "    </tr>\n",
       "    <tr>\n",
       "      <th>346</th>\n",
       "      <td>67.0</td>\n",
       "      <td>32.3</td>\n",
       "      <td>23.5</td>\n",
       "      <td>30.114463</td>\n",
       "    </tr>\n",
       "    <tr>\n",
       "      <th>325</th>\n",
       "      <td>48.0</td>\n",
       "      <td>44.3</td>\n",
       "      <td>23.5</td>\n",
       "      <td>33.318596</td>\n",
       "    </tr>\n",
       "    <tr>\n",
       "      <th>90</th>\n",
       "      <td>198.0</td>\n",
       "      <td>12.0</td>\n",
       "      <td>23.5</td>\n",
       "      <td>8.022807</td>\n",
       "    </tr>\n",
       "    <tr>\n",
       "      <th>246</th>\n",
       "      <td>52.0</td>\n",
       "      <td>32.8</td>\n",
       "      <td>23.5</td>\n",
       "      <td>32.644042</td>\n",
       "    </tr>\n",
       "  </tbody>\n",
       "</table>\n",
       "</div>"
      ],
      "text/plain": [
       "     horsepower   mpg  baseline_preds       yhat\n",
       "212       180.0  16.5            23.5  11.058302\n",
       "346        67.0  32.3            23.5  30.114463\n",
       "325        48.0  44.3            23.5  33.318596\n",
       "90        198.0  12.0            23.5   8.022807\n",
       "246        52.0  32.8            23.5  32.644042"
      ]
     },
     "execution_count": 20,
     "metadata": {},
     "output_type": "execute_result"
    }
   ],
   "source": [
    "preds['baseline_preds'] = round(train['mpg'].mean(),2)\n",
    "preds.head()"
   ]
  },
  {
   "cell_type": "code",
   "execution_count": 21,
   "id": "3acabae0",
   "metadata": {},
   "outputs": [
    {
     "data": {
      "text/plain": [
       "LinearRegression()"
      ]
     },
     "execution_count": 21,
     "metadata": {},
     "output_type": "execute_result"
    }
   ],
   "source": [
    "ols_model = LinearRegression()\n",
    "\n",
    "ols_model.fit(train[['horsepower']], train[['mpg']])"
   ]
  },
  {
   "cell_type": "code",
   "execution_count": 31,
   "id": "992732fa",
   "metadata": {},
   "outputs": [
    {
     "data": {
      "text/html": [
       "<div>\n",
       "<style scoped>\n",
       "    .dataframe tbody tr th:only-of-type {\n",
       "        vertical-align: middle;\n",
       "    }\n",
       "\n",
       "    .dataframe tbody tr th {\n",
       "        vertical-align: top;\n",
       "    }\n",
       "\n",
       "    .dataframe thead th {\n",
       "        text-align: right;\n",
       "    }\n",
       "</style>\n",
       "<table border=\"1\" class=\"dataframe\">\n",
       "  <thead>\n",
       "    <tr style=\"text-align: right;\">\n",
       "      <th></th>\n",
       "      <th>horsepower</th>\n",
       "      <th>mpg</th>\n",
       "      <th>baseline_preds</th>\n",
       "      <th>yhat</th>\n",
       "      <th>baseline_res</th>\n",
       "    </tr>\n",
       "  </thead>\n",
       "  <tbody>\n",
       "    <tr>\n",
       "      <th>212</th>\n",
       "      <td>180.0</td>\n",
       "      <td>16.5</td>\n",
       "      <td>23.5</td>\n",
       "      <td>11.058302</td>\n",
       "      <td>-5.441698</td>\n",
       "    </tr>\n",
       "    <tr>\n",
       "      <th>346</th>\n",
       "      <td>67.0</td>\n",
       "      <td>32.3</td>\n",
       "      <td>23.5</td>\n",
       "      <td>30.114463</td>\n",
       "      <td>-2.185537</td>\n",
       "    </tr>\n",
       "    <tr>\n",
       "      <th>325</th>\n",
       "      <td>48.0</td>\n",
       "      <td>44.3</td>\n",
       "      <td>23.5</td>\n",
       "      <td>33.318596</td>\n",
       "      <td>-10.981404</td>\n",
       "    </tr>\n",
       "    <tr>\n",
       "      <th>90</th>\n",
       "      <td>198.0</td>\n",
       "      <td>12.0</td>\n",
       "      <td>23.5</td>\n",
       "      <td>8.022807</td>\n",
       "      <td>-3.977193</td>\n",
       "    </tr>\n",
       "    <tr>\n",
       "      <th>246</th>\n",
       "      <td>52.0</td>\n",
       "      <td>32.8</td>\n",
       "      <td>23.5</td>\n",
       "      <td>32.644042</td>\n",
       "      <td>-0.155958</td>\n",
       "    </tr>\n",
       "  </tbody>\n",
       "</table>\n",
       "</div>"
      ],
      "text/plain": [
       "     horsepower   mpg  baseline_preds       yhat  baseline_res\n",
       "212       180.0  16.5            23.5  11.058302     -5.441698\n",
       "346        67.0  32.3            23.5  30.114463     -2.185537\n",
       "325        48.0  44.3            23.5  33.318596    -10.981404\n",
       "90        198.0  12.0            23.5   8.022807     -3.977193\n",
       "246        52.0  32.8            23.5  32.644042     -0.155958"
      ]
     },
     "execution_count": 31,
     "metadata": {},
     "output_type": "execute_result"
    }
   ],
   "source": [
    "preds['yhat'] = ols_model.predict(train[['horsepower']]) #these are our model predictions\n",
    "preds.head()"
   ]
  },
  {
   "cell_type": "markdown",
   "id": "809788bb",
   "metadata": {},
   "source": [
    "## Compute residuals\n",
    "\n",
    "Predictions minus actual"
   ]
  },
  {
   "cell_type": "code",
   "execution_count": 39,
   "id": "f9c5f495",
   "metadata": {},
   "outputs": [
    {
     "data": {
      "text/html": [
       "<div>\n",
       "<style scoped>\n",
       "    .dataframe tbody tr th:only-of-type {\n",
       "        vertical-align: middle;\n",
       "    }\n",
       "\n",
       "    .dataframe tbody tr th {\n",
       "        vertical-align: top;\n",
       "    }\n",
       "\n",
       "    .dataframe thead th {\n",
       "        text-align: right;\n",
       "    }\n",
       "</style>\n",
       "<table border=\"1\" class=\"dataframe\">\n",
       "  <thead>\n",
       "    <tr style=\"text-align: right;\">\n",
       "      <th></th>\n",
       "      <th>horsepower</th>\n",
       "      <th>mpg</th>\n",
       "      <th>baseline_preds</th>\n",
       "      <th>yhat</th>\n",
       "      <th>baseline_res</th>\n",
       "      <th>yhat_res</th>\n",
       "      <th>baseline_res_squared</th>\n",
       "    </tr>\n",
       "  </thead>\n",
       "  <tbody>\n",
       "    <tr>\n",
       "      <th>212</th>\n",
       "      <td>180.0</td>\n",
       "      <td>16.5</td>\n",
       "      <td>23.5</td>\n",
       "      <td>11.058302</td>\n",
       "      <td>7.0</td>\n",
       "      <td>876.875357</td>\n",
       "      <td>49.00</td>\n",
       "    </tr>\n",
       "    <tr>\n",
       "      <th>346</th>\n",
       "      <td>67.0</td>\n",
       "      <td>32.3</td>\n",
       "      <td>23.5</td>\n",
       "      <td>30.114463</td>\n",
       "      <td>-8.8</td>\n",
       "      <td>22.815655</td>\n",
       "      <td>77.44</td>\n",
       "    </tr>\n",
       "    <tr>\n",
       "      <th>325</th>\n",
       "      <td>48.0</td>\n",
       "      <td>44.3</td>\n",
       "      <td>23.5</td>\n",
       "      <td>33.318596</td>\n",
       "      <td>-20.8</td>\n",
       "      <td>14542.246185</td>\n",
       "      <td>432.64</td>\n",
       "    </tr>\n",
       "    <tr>\n",
       "      <th>90</th>\n",
       "      <td>198.0</td>\n",
       "      <td>12.0</td>\n",
       "      <td>23.5</td>\n",
       "      <td>8.022807</td>\n",
       "      <td>11.5</td>\n",
       "      <td>250.211168</td>\n",
       "      <td>132.25</td>\n",
       "    </tr>\n",
       "    <tr>\n",
       "      <th>246</th>\n",
       "      <td>52.0</td>\n",
       "      <td>32.8</td>\n",
       "      <td>23.5</td>\n",
       "      <td>32.644042</td>\n",
       "      <td>-9.3</td>\n",
       "      <td>0.000592</td>\n",
       "      <td>86.49</td>\n",
       "    </tr>\n",
       "  </tbody>\n",
       "</table>\n",
       "</div>"
      ],
      "text/plain": [
       "     horsepower   mpg  baseline_preds       yhat  baseline_res      yhat_res  \\\n",
       "212       180.0  16.5            23.5  11.058302           7.0    876.875357   \n",
       "346        67.0  32.3            23.5  30.114463          -8.8     22.815655   \n",
       "325        48.0  44.3            23.5  33.318596         -20.8  14542.246185   \n",
       "90        198.0  12.0            23.5   8.022807          11.5    250.211168   \n",
       "246        52.0  32.8            23.5  32.644042          -9.3      0.000592   \n",
       "\n",
       "     baseline_res_squared  \n",
       "212                 49.00  \n",
       "346                 77.44  \n",
       "325                432.64  \n",
       "90                 132.25  \n",
       "246                 86.49  "
      ]
     },
     "execution_count": 39,
     "metadata": {},
     "output_type": "execute_result"
    }
   ],
   "source": [
    "preds['baseline_res'] = preds['baseline_preds'] - preds['mpg']\n",
    "preds.head()"
   ]
  },
  {
   "cell_type": "code",
   "execution_count": 40,
   "id": "15866d30",
   "metadata": {},
   "outputs": [
    {
     "data": {
      "image/png": "[encoded data removed]",
      "text/plain": [
       "<Figure size 640x480 with 1 Axes>"
      ]
     },
     "metadata": {},
     "output_type": "display_data"
    }
   ],
   "source": [
    "plt.scatter(preds['horsepower'], preds['baseline_res'])\n",
    "plt.xlabel('Horsepower')\n",
    "plt.ylabel('Baseline Residual')\n",
    "plt.show()\n"
   ]
  },
  {
   "cell_type": "code",
   "execution_count": 41,
   "id": "785d4a07",
   "metadata": {},
   "outputs": [
    {
     "data": {
      "text/html": [
       "<div>\n",
       "<style scoped>\n",
       "    .dataframe tbody tr th:only-of-type {\n",
       "        vertical-align: middle;\n",
       "    }\n",
       "\n",
       "    .dataframe tbody tr th {\n",
       "        vertical-align: top;\n",
       "    }\n",
       "\n",
       "    .dataframe thead th {\n",
       "        text-align: right;\n",
       "    }\n",
       "</style>\n",
       "<table border=\"1\" class=\"dataframe\">\n",
       "  <thead>\n",
       "    <tr style=\"text-align: right;\">\n",
       "      <th></th>\n",
       "      <th>horsepower</th>\n",
       "      <th>mpg</th>\n",
       "      <th>baseline_preds</th>\n",
       "      <th>yhat</th>\n",
       "      <th>baseline_res</th>\n",
       "      <th>yhat_res</th>\n",
       "      <th>baseline_res_squared</th>\n",
       "    </tr>\n",
       "  </thead>\n",
       "  <tbody>\n",
       "    <tr>\n",
       "      <th>212</th>\n",
       "      <td>180.0</td>\n",
       "      <td>16.5</td>\n",
       "      <td>23.5</td>\n",
       "      <td>11.058302</td>\n",
       "      <td>7.0</td>\n",
       "      <td>-5.441698</td>\n",
       "      <td>49.00</td>\n",
       "    </tr>\n",
       "    <tr>\n",
       "      <th>346</th>\n",
       "      <td>67.0</td>\n",
       "      <td>32.3</td>\n",
       "      <td>23.5</td>\n",
       "      <td>30.114463</td>\n",
       "      <td>-8.8</td>\n",
       "      <td>-2.185537</td>\n",
       "      <td>77.44</td>\n",
       "    </tr>\n",
       "    <tr>\n",
       "      <th>325</th>\n",
       "      <td>48.0</td>\n",
       "      <td>44.3</td>\n",
       "      <td>23.5</td>\n",
       "      <td>33.318596</td>\n",
       "      <td>-20.8</td>\n",
       "      <td>-10.981404</td>\n",
       "      <td>432.64</td>\n",
       "    </tr>\n",
       "    <tr>\n",
       "      <th>90</th>\n",
       "      <td>198.0</td>\n",
       "      <td>12.0</td>\n",
       "      <td>23.5</td>\n",
       "      <td>8.022807</td>\n",
       "      <td>11.5</td>\n",
       "      <td>-3.977193</td>\n",
       "      <td>132.25</td>\n",
       "    </tr>\n",
       "    <tr>\n",
       "      <th>246</th>\n",
       "      <td>52.0</td>\n",
       "      <td>32.8</td>\n",
       "      <td>23.5</td>\n",
       "      <td>32.644042</td>\n",
       "      <td>-9.3</td>\n",
       "      <td>-0.155958</td>\n",
       "      <td>86.49</td>\n",
       "    </tr>\n",
       "  </tbody>\n",
       "</table>\n",
       "</div>"
      ],
      "text/plain": [
       "     horsepower   mpg  baseline_preds       yhat  baseline_res   yhat_res  \\\n",
       "212       180.0  16.5            23.5  11.058302           7.0  -5.441698   \n",
       "346        67.0  32.3            23.5  30.114463          -8.8  -2.185537   \n",
       "325        48.0  44.3            23.5  33.318596         -20.8 -10.981404   \n",
       "90        198.0  12.0            23.5   8.022807          11.5  -3.977193   \n",
       "246        52.0  32.8            23.5  32.644042          -9.3  -0.155958   \n",
       "\n",
       "     baseline_res_squared  \n",
       "212                 49.00  \n",
       "346                 77.44  \n",
       "325                432.64  \n",
       "90                 132.25  \n",
       "246                 86.49  "
      ]
     },
     "execution_count": 41,
     "metadata": {},
     "output_type": "execute_result"
    }
   ],
   "source": [
    "preds['yhat_res'] = preds['yhat'] - preds['mpg']\n",
    "preds.head()"
   ]
  },
  {
   "cell_type": "code",
   "execution_count": 42,
   "id": "75c68d52",
   "metadata": {},
   "outputs": [
    {
     "data": {
      "image/png": "[encoded data removed]",
      "text/plain": [
       "<Figure size 640x480 with 1 Axes>"
      ]
     },
     "metadata": {},
     "output_type": "display_data"
    }
   ],
   "source": [
    "plt.scatter(preds['horsepower'], preds['yhat_res'])\n",
    "plt.xlabel('Horsepower')\n",
    "plt.ylabel('Predictions residuals')\n",
    "plt.show()"
   ]
  },
  {
   "cell_type": "markdown",
   "id": "7e3c9f89",
   "metadata": {},
   "source": [
    "## Compute SSE\n",
    "\n",
    "SSE - Sum of Squared Errors\n",
    "\n",
    "Also known as the RSS - Residual Sum of Squares\n",
    "\n",
    "Predicted minus actual, squuared and summed"
   ]
  },
  {
   "cell_type": "code",
   "execution_count": 65,
   "id": "153c49e0",
   "metadata": {},
   "outputs": [
    {
     "data": {
      "text/plain": [
       "Index(['horsepower', 'mpg', 'baseline_preds', 'yhat', 'baseline_res',\n",
       "       'yhat_res', 'baseline_res_squared', 'yhat_res_squared', 'yhat_mean_res',\n",
       "       'yhat_mean_res_squared'],\n",
       "      dtype='object')"
      ]
     },
     "execution_count": 65,
     "metadata": {},
     "output_type": "execute_result"
    }
   ],
   "source": [
    "preds.columns"
   ]
  },
  {
   "cell_type": "code",
   "execution_count": 66,
   "id": "1f74c99c",
   "metadata": {},
   "outputs": [
    {
     "data": {
      "text/html": [
       "<div>\n",
       "<style scoped>\n",
       "    .dataframe tbody tr th:only-of-type {\n",
       "        vertical-align: middle;\n",
       "    }\n",
       "\n",
       "    .dataframe tbody tr th {\n",
       "        vertical-align: top;\n",
       "    }\n",
       "\n",
       "    .dataframe thead th {\n",
       "        text-align: right;\n",
       "    }\n",
       "</style>\n",
       "<table border=\"1\" class=\"dataframe\">\n",
       "  <thead>\n",
       "    <tr style=\"text-align: right;\">\n",
       "      <th></th>\n",
       "      <th>horsepower</th>\n",
       "      <th>mpg</th>\n",
       "      <th>baseline_preds</th>\n",
       "      <th>yhat</th>\n",
       "      <th>baseline_res</th>\n",
       "      <th>yhat_res</th>\n",
       "      <th>baseline_res_squared</th>\n",
       "      <th>yhat_res_squared</th>\n",
       "      <th>yhat_mean_res</th>\n",
       "      <th>yhat_mean_res_squared</th>\n",
       "    </tr>\n",
       "  </thead>\n",
       "  <tbody>\n",
       "    <tr>\n",
       "      <th>212</th>\n",
       "      <td>180.0</td>\n",
       "      <td>16.5</td>\n",
       "      <td>23.5</td>\n",
       "      <td>11.058302</td>\n",
       "      <td>7.0</td>\n",
       "      <td>-5.441698</td>\n",
       "      <td>49.00</td>\n",
       "      <td>29.612081</td>\n",
       "      <td>-12.441698</td>\n",
       "      <td>154.795859</td>\n",
       "    </tr>\n",
       "    <tr>\n",
       "      <th>346</th>\n",
       "      <td>67.0</td>\n",
       "      <td>32.3</td>\n",
       "      <td>23.5</td>\n",
       "      <td>30.114463</td>\n",
       "      <td>-8.8</td>\n",
       "      <td>-2.185537</td>\n",
       "      <td>77.44</td>\n",
       "      <td>4.776574</td>\n",
       "      <td>6.614463</td>\n",
       "      <td>43.751116</td>\n",
       "    </tr>\n",
       "    <tr>\n",
       "      <th>325</th>\n",
       "      <td>48.0</td>\n",
       "      <td>44.3</td>\n",
       "      <td>23.5</td>\n",
       "      <td>33.318596</td>\n",
       "      <td>-20.8</td>\n",
       "      <td>-10.981404</td>\n",
       "      <td>432.64</td>\n",
       "      <td>120.591236</td>\n",
       "      <td>9.818596</td>\n",
       "      <td>96.404826</td>\n",
       "    </tr>\n",
       "    <tr>\n",
       "      <th>90</th>\n",
       "      <td>198.0</td>\n",
       "      <td>12.0</td>\n",
       "      <td>23.5</td>\n",
       "      <td>8.022807</td>\n",
       "      <td>11.5</td>\n",
       "      <td>-3.977193</td>\n",
       "      <td>132.25</td>\n",
       "      <td>15.818065</td>\n",
       "      <td>-15.477193</td>\n",
       "      <td>239.543505</td>\n",
       "    </tr>\n",
       "    <tr>\n",
       "      <th>246</th>\n",
       "      <td>52.0</td>\n",
       "      <td>32.8</td>\n",
       "      <td>23.5</td>\n",
       "      <td>32.644042</td>\n",
       "      <td>-9.3</td>\n",
       "      <td>-0.155958</td>\n",
       "      <td>86.49</td>\n",
       "      <td>0.024323</td>\n",
       "      <td>9.144042</td>\n",
       "      <td>83.613496</td>\n",
       "    </tr>\n",
       "  </tbody>\n",
       "</table>\n",
       "</div>"
      ],
      "text/plain": [
       "     horsepower   mpg  baseline_preds       yhat  baseline_res   yhat_res  \\\n",
       "212       180.0  16.5            23.5  11.058302           7.0  -5.441698   \n",
       "346        67.0  32.3            23.5  30.114463          -8.8  -2.185537   \n",
       "325        48.0  44.3            23.5  33.318596         -20.8 -10.981404   \n",
       "90        198.0  12.0            23.5   8.022807          11.5  -3.977193   \n",
       "246        52.0  32.8            23.5  32.644042          -9.3  -0.155958   \n",
       "\n",
       "     baseline_res_squared  yhat_res_squared  yhat_mean_res  \\\n",
       "212                 49.00         29.612081     -12.441698   \n",
       "346                 77.44          4.776574       6.614463   \n",
       "325                432.64        120.591236       9.818596   \n",
       "90                 132.25         15.818065     -15.477193   \n",
       "246                 86.49          0.024323       9.144042   \n",
       "\n",
       "     yhat_mean_res_squared  \n",
       "212             154.795859  \n",
       "346              43.751116  \n",
       "325              96.404826  \n",
       "90              239.543505  \n",
       "246              83.613496  "
      ]
     },
     "execution_count": 66,
     "metadata": {},
     "output_type": "execute_result"
    }
   ],
   "source": [
    "preds['baseline_res_squared'] = preds['baseline_res'] ** 2\n",
    "\n",
    "preds['yhat_res_squared'] = preds['yhat_res'] ** 2\n",
    "\n",
    "preds.head()"
   ]
  },
  {
   "cell_type": "code",
   "execution_count": 67,
   "id": "6ece7d8e",
   "metadata": {},
   "outputs": [
    {
     "data": {
      "text/plain": [
       "(15330.830000000002, 5355.469277811718)"
      ]
     },
     "execution_count": 67,
     "metadata": {},
     "output_type": "execute_result"
    }
   ],
   "source": [
    "sse_baseline = preds['baseline_res_squared'].sum()\n",
    "sse_yhat = preds['yhat_res_squared'].sum()\n",
    "sse_baseline, sse_yhat"
   ]
  },
  {
   "cell_type": "markdown",
   "id": "6da360bb",
   "metadata": {},
   "source": [
    "## Compute MSE\n",
    "\n",
    "MSE - Mean Squared Error\n",
    "\n",
    "Divide the SSe by the total number of data points"
   ]
  },
  {
   "cell_type": "code",
   "execution_count": 68,
   "id": "52efe1f5",
   "metadata": {},
   "outputs": [
    {
     "data": {
      "text/plain": [
       "(65.23757446808511, 22.789230969411566)"
      ]
     },
     "execution_count": 68,
     "metadata": {},
     "output_type": "execute_result"
    }
   ],
   "source": [
    "mse_baseline = sse_baseline / len(preds)\n",
    "mse_yhat = sse_yhat / len(preds)\n",
    "\n",
    "mse_baseline , mse_yhat"
   ]
  },
  {
   "cell_type": "markdown",
   "id": "69caa3d3",
   "metadata": {},
   "source": [
    "## Compute RMSE\n",
    "\n",
    "RMSE - Root Mean Squared Error"
   ]
  },
  {
   "cell_type": "code",
   "execution_count": 69,
   "id": "6334fb88",
   "metadata": {},
   "outputs": [
    {
     "data": {
      "text/plain": [
       "(8.076978052965423, 4.773806758700185)"
      ]
     },
     "execution_count": 69,
     "metadata": {},
     "output_type": "execute_result"
    }
   ],
   "source": [
    "rmse_baseline = sqrt(mse_baseline)\n",
    "rmse_yhat = sqrt(mse_yhat)\n",
    "rmse_baseline, rmse_yhat\n",
    "\n",
    "# This calculates the average amount of error any value has in the units of the original value"
   ]
  },
  {
   "cell_type": "markdown",
   "id": "78f1cff1",
   "metadata": {},
   "source": [
    "## Doing it all with the sklearn library\n",
    "\n",
    "mean_squared_error"
   ]
  },
  {
   "cell_type": "code",
   "execution_count": 70,
   "id": "02f3bf7e",
   "metadata": {},
   "outputs": [
    {
     "data": {
      "text/plain": [
       "8.076978052965423"
      ]
     },
     "execution_count": 70,
     "metadata": {},
     "output_type": "execute_result"
    }
   ],
   "source": [
    "sqrt(mean_squared_error(preds['mpg'], preds['baseline_preds']))"
   ]
  },
  {
   "cell_type": "markdown",
   "id": "f5afaf58",
   "metadata": {},
   "source": [
    "## Compute ESS\n",
    "\n",
    "ESS - Explained Sum of Squares\n",
    "\n",
    "Prediction minus mean of actual values, squared and summed"
   ]
  },
  {
   "cell_type": "code",
   "execution_count": 71,
   "id": "551c17f1",
   "metadata": {},
   "outputs": [
    {
     "data": {
      "text/html": [
       "<div>\n",
       "<style scoped>\n",
       "    .dataframe tbody tr th:only-of-type {\n",
       "        vertical-align: middle;\n",
       "    }\n",
       "\n",
       "    .dataframe tbody tr th {\n",
       "        vertical-align: top;\n",
       "    }\n",
       "\n",
       "    .dataframe thead th {\n",
       "        text-align: right;\n",
       "    }\n",
       "</style>\n",
       "<table border=\"1\" class=\"dataframe\">\n",
       "  <thead>\n",
       "    <tr style=\"text-align: right;\">\n",
       "      <th></th>\n",
       "      <th>horsepower</th>\n",
       "      <th>mpg</th>\n",
       "      <th>baseline_preds</th>\n",
       "      <th>yhat</th>\n",
       "      <th>baseline_res</th>\n",
       "      <th>yhat_res</th>\n",
       "      <th>baseline_res_squared</th>\n",
       "      <th>yhat_res_squared</th>\n",
       "      <th>yhat_mean_res</th>\n",
       "      <th>yhat_mean_res_squared</th>\n",
       "    </tr>\n",
       "  </thead>\n",
       "  <tbody>\n",
       "    <tr>\n",
       "      <th>212</th>\n",
       "      <td>180.0</td>\n",
       "      <td>16.5</td>\n",
       "      <td>23.5</td>\n",
       "      <td>11.058302</td>\n",
       "      <td>7.0</td>\n",
       "      <td>-5.441698</td>\n",
       "      <td>49.00</td>\n",
       "      <td>29.612081</td>\n",
       "      <td>-12.441698</td>\n",
       "      <td>154.795859</td>\n",
       "    </tr>\n",
       "    <tr>\n",
       "      <th>346</th>\n",
       "      <td>67.0</td>\n",
       "      <td>32.3</td>\n",
       "      <td>23.5</td>\n",
       "      <td>30.114463</td>\n",
       "      <td>-8.8</td>\n",
       "      <td>-2.185537</td>\n",
       "      <td>77.44</td>\n",
       "      <td>4.776574</td>\n",
       "      <td>6.614463</td>\n",
       "      <td>43.751116</td>\n",
       "    </tr>\n",
       "    <tr>\n",
       "      <th>325</th>\n",
       "      <td>48.0</td>\n",
       "      <td>44.3</td>\n",
       "      <td>23.5</td>\n",
       "      <td>33.318596</td>\n",
       "      <td>-20.8</td>\n",
       "      <td>-10.981404</td>\n",
       "      <td>432.64</td>\n",
       "      <td>120.591236</td>\n",
       "      <td>9.818596</td>\n",
       "      <td>96.404826</td>\n",
       "    </tr>\n",
       "    <tr>\n",
       "      <th>90</th>\n",
       "      <td>198.0</td>\n",
       "      <td>12.0</td>\n",
       "      <td>23.5</td>\n",
       "      <td>8.022807</td>\n",
       "      <td>11.5</td>\n",
       "      <td>-3.977193</td>\n",
       "      <td>132.25</td>\n",
       "      <td>15.818065</td>\n",
       "      <td>-15.477193</td>\n",
       "      <td>239.543505</td>\n",
       "    </tr>\n",
       "    <tr>\n",
       "      <th>246</th>\n",
       "      <td>52.0</td>\n",
       "      <td>32.8</td>\n",
       "      <td>23.5</td>\n",
       "      <td>32.644042</td>\n",
       "      <td>-9.3</td>\n",
       "      <td>-0.155958</td>\n",
       "      <td>86.49</td>\n",
       "      <td>0.024323</td>\n",
       "      <td>9.144042</td>\n",
       "      <td>83.613496</td>\n",
       "    </tr>\n",
       "  </tbody>\n",
       "</table>\n",
       "</div>"
      ],
      "text/plain": [
       "     horsepower   mpg  baseline_preds       yhat  baseline_res   yhat_res  \\\n",
       "212       180.0  16.5            23.5  11.058302           7.0  -5.441698   \n",
       "346        67.0  32.3            23.5  30.114463          -8.8  -2.185537   \n",
       "325        48.0  44.3            23.5  33.318596         -20.8 -10.981404   \n",
       "90        198.0  12.0            23.5   8.022807          11.5  -3.977193   \n",
       "246        52.0  32.8            23.5  32.644042          -9.3  -0.155958   \n",
       "\n",
       "     baseline_res_squared  yhat_res_squared  yhat_mean_res  \\\n",
       "212                 49.00         29.612081     -12.441698   \n",
       "346                 77.44          4.776574       6.614463   \n",
       "325                432.64        120.591236       9.818596   \n",
       "90                 132.25         15.818065     -15.477193   \n",
       "246                 86.49          0.024323       9.144042   \n",
       "\n",
       "     yhat_mean_res_squared  \n",
       "212             154.795859  \n",
       "346              43.751116  \n",
       "325              96.404826  \n",
       "90              239.543505  \n",
       "246              83.613496  "
      ]
     },
     "execution_count": 71,
     "metadata": {},
     "output_type": "execute_result"
    }
   ],
   "source": [
    "preds.head()"
   ]
  },
  {
   "cell_type": "code",
   "execution_count": 72,
   "id": "3e9dc8ce",
   "metadata": {},
   "outputs": [
    {
     "data": {
      "text/html": [
       "<div>\n",
       "<style scoped>\n",
       "    .dataframe tbody tr th:only-of-type {\n",
       "        vertical-align: middle;\n",
       "    }\n",
       "\n",
       "    .dataframe tbody tr th {\n",
       "        vertical-align: top;\n",
       "    }\n",
       "\n",
       "    .dataframe thead th {\n",
       "        text-align: right;\n",
       "    }\n",
       "</style>\n",
       "<table border=\"1\" class=\"dataframe\">\n",
       "  <thead>\n",
       "    <tr style=\"text-align: right;\">\n",
       "      <th></th>\n",
       "      <th>horsepower</th>\n",
       "      <th>mpg</th>\n",
       "      <th>baseline_preds</th>\n",
       "      <th>yhat</th>\n",
       "      <th>baseline_res</th>\n",
       "      <th>yhat_res</th>\n",
       "      <th>baseline_res_squared</th>\n",
       "      <th>yhat_res_squared</th>\n",
       "      <th>yhat_mean_res</th>\n",
       "      <th>yhat_mean_res_squared</th>\n",
       "    </tr>\n",
       "  </thead>\n",
       "  <tbody>\n",
       "    <tr>\n",
       "      <th>212</th>\n",
       "      <td>180.0</td>\n",
       "      <td>16.5</td>\n",
       "      <td>23.5</td>\n",
       "      <td>11.058302</td>\n",
       "      <td>7.0</td>\n",
       "      <td>-5.441698</td>\n",
       "      <td>49.00</td>\n",
       "      <td>29.612081</td>\n",
       "      <td>-12.441698</td>\n",
       "      <td>154.795859</td>\n",
       "    </tr>\n",
       "    <tr>\n",
       "      <th>346</th>\n",
       "      <td>67.0</td>\n",
       "      <td>32.3</td>\n",
       "      <td>23.5</td>\n",
       "      <td>30.114463</td>\n",
       "      <td>-8.8</td>\n",
       "      <td>-2.185537</td>\n",
       "      <td>77.44</td>\n",
       "      <td>4.776574</td>\n",
       "      <td>6.614463</td>\n",
       "      <td>43.751116</td>\n",
       "    </tr>\n",
       "    <tr>\n",
       "      <th>325</th>\n",
       "      <td>48.0</td>\n",
       "      <td>44.3</td>\n",
       "      <td>23.5</td>\n",
       "      <td>33.318596</td>\n",
       "      <td>-20.8</td>\n",
       "      <td>-10.981404</td>\n",
       "      <td>432.64</td>\n",
       "      <td>120.591236</td>\n",
       "      <td>9.818596</td>\n",
       "      <td>96.404826</td>\n",
       "    </tr>\n",
       "    <tr>\n",
       "      <th>90</th>\n",
       "      <td>198.0</td>\n",
       "      <td>12.0</td>\n",
       "      <td>23.5</td>\n",
       "      <td>8.022807</td>\n",
       "      <td>11.5</td>\n",
       "      <td>-3.977193</td>\n",
       "      <td>132.25</td>\n",
       "      <td>15.818065</td>\n",
       "      <td>-15.477193</td>\n",
       "      <td>239.543505</td>\n",
       "    </tr>\n",
       "    <tr>\n",
       "      <th>246</th>\n",
       "      <td>52.0</td>\n",
       "      <td>32.8</td>\n",
       "      <td>23.5</td>\n",
       "      <td>32.644042</td>\n",
       "      <td>-9.3</td>\n",
       "      <td>-0.155958</td>\n",
       "      <td>86.49</td>\n",
       "      <td>0.024323</td>\n",
       "      <td>9.144042</td>\n",
       "      <td>83.613496</td>\n",
       "    </tr>\n",
       "  </tbody>\n",
       "</table>\n",
       "</div>"
      ],
      "text/plain": [
       "     horsepower   mpg  baseline_preds       yhat  baseline_res   yhat_res  \\\n",
       "212       180.0  16.5            23.5  11.058302           7.0  -5.441698   \n",
       "346        67.0  32.3            23.5  30.114463          -8.8  -2.185537   \n",
       "325        48.0  44.3            23.5  33.318596         -20.8 -10.981404   \n",
       "90        198.0  12.0            23.5   8.022807          11.5  -3.977193   \n",
       "246        52.0  32.8            23.5  32.644042          -9.3  -0.155958   \n",
       "\n",
       "     baseline_res_squared  yhat_res_squared  yhat_mean_res  \\\n",
       "212                 49.00         29.612081     -12.441698   \n",
       "346                 77.44          4.776574       6.614463   \n",
       "325                432.64        120.591236       9.818596   \n",
       "90                 132.25         15.818065     -15.477193   \n",
       "246                 86.49          0.024323       9.144042   \n",
       "\n",
       "     yhat_mean_res_squared  \n",
       "212             154.795859  \n",
       "346              43.751116  \n",
       "325              96.404826  \n",
       "90              239.543505  \n",
       "246              83.613496  "
      ]
     },
     "execution_count": 72,
     "metadata": {},
     "output_type": "execute_result"
    }
   ],
   "source": [
    "preds['yhat_mean_res'] = preds['yhat'] - preds['baseline_preds']\n",
    "preds.head()\n"
   ]
  },
  {
   "cell_type": "code",
   "execution_count": 73,
   "id": "f91764ab",
   "metadata": {},
   "outputs": [
    {
     "data": {
      "text/html": [
       "<div>\n",
       "<style scoped>\n",
       "    .dataframe tbody tr th:only-of-type {\n",
       "        vertical-align: middle;\n",
       "    }\n",
       "\n",
       "    .dataframe tbody tr th {\n",
       "        vertical-align: top;\n",
       "    }\n",
       "\n",
       "    .dataframe thead th {\n",
       "        text-align: right;\n",
       "    }\n",
       "</style>\n",
       "<table border=\"1\" class=\"dataframe\">\n",
       "  <thead>\n",
       "    <tr style=\"text-align: right;\">\n",
       "      <th></th>\n",
       "      <th>horsepower</th>\n",
       "      <th>mpg</th>\n",
       "      <th>baseline_preds</th>\n",
       "      <th>yhat</th>\n",
       "      <th>baseline_res</th>\n",
       "      <th>yhat_res</th>\n",
       "      <th>baseline_res_squared</th>\n",
       "      <th>yhat_res_squared</th>\n",
       "      <th>yhat_mean_res</th>\n",
       "      <th>yhat_mean_res_squared</th>\n",
       "    </tr>\n",
       "  </thead>\n",
       "  <tbody>\n",
       "    <tr>\n",
       "      <th>212</th>\n",
       "      <td>180.0</td>\n",
       "      <td>16.5</td>\n",
       "      <td>23.5</td>\n",
       "      <td>11.058302</td>\n",
       "      <td>7.0</td>\n",
       "      <td>-5.441698</td>\n",
       "      <td>49.00</td>\n",
       "      <td>29.612081</td>\n",
       "      <td>-12.441698</td>\n",
       "      <td>154.795859</td>\n",
       "    </tr>\n",
       "    <tr>\n",
       "      <th>346</th>\n",
       "      <td>67.0</td>\n",
       "      <td>32.3</td>\n",
       "      <td>23.5</td>\n",
       "      <td>30.114463</td>\n",
       "      <td>-8.8</td>\n",
       "      <td>-2.185537</td>\n",
       "      <td>77.44</td>\n",
       "      <td>4.776574</td>\n",
       "      <td>6.614463</td>\n",
       "      <td>43.751116</td>\n",
       "    </tr>\n",
       "    <tr>\n",
       "      <th>325</th>\n",
       "      <td>48.0</td>\n",
       "      <td>44.3</td>\n",
       "      <td>23.5</td>\n",
       "      <td>33.318596</td>\n",
       "      <td>-20.8</td>\n",
       "      <td>-10.981404</td>\n",
       "      <td>432.64</td>\n",
       "      <td>120.591236</td>\n",
       "      <td>9.818596</td>\n",
       "      <td>96.404826</td>\n",
       "    </tr>\n",
       "    <tr>\n",
       "      <th>90</th>\n",
       "      <td>198.0</td>\n",
       "      <td>12.0</td>\n",
       "      <td>23.5</td>\n",
       "      <td>8.022807</td>\n",
       "      <td>11.5</td>\n",
       "      <td>-3.977193</td>\n",
       "      <td>132.25</td>\n",
       "      <td>15.818065</td>\n",
       "      <td>-15.477193</td>\n",
       "      <td>239.543505</td>\n",
       "    </tr>\n",
       "    <tr>\n",
       "      <th>246</th>\n",
       "      <td>52.0</td>\n",
       "      <td>32.8</td>\n",
       "      <td>23.5</td>\n",
       "      <td>32.644042</td>\n",
       "      <td>-9.3</td>\n",
       "      <td>-0.155958</td>\n",
       "      <td>86.49</td>\n",
       "      <td>0.024323</td>\n",
       "      <td>9.144042</td>\n",
       "      <td>83.613496</td>\n",
       "    </tr>\n",
       "  </tbody>\n",
       "</table>\n",
       "</div>"
      ],
      "text/plain": [
       "     horsepower   mpg  baseline_preds       yhat  baseline_res   yhat_res  \\\n",
       "212       180.0  16.5            23.5  11.058302           7.0  -5.441698   \n",
       "346        67.0  32.3            23.5  30.114463          -8.8  -2.185537   \n",
       "325        48.0  44.3            23.5  33.318596         -20.8 -10.981404   \n",
       "90        198.0  12.0            23.5   8.022807          11.5  -3.977193   \n",
       "246        52.0  32.8            23.5  32.644042          -9.3  -0.155958   \n",
       "\n",
       "     baseline_res_squared  yhat_res_squared  yhat_mean_res  \\\n",
       "212                 49.00         29.612081     -12.441698   \n",
       "346                 77.44          4.776574       6.614463   \n",
       "325                432.64        120.591236       9.818596   \n",
       "90                 132.25         15.818065     -15.477193   \n",
       "246                 86.49          0.024323       9.144042   \n",
       "\n",
       "     yhat_mean_res_squared  \n",
       "212             154.795859  \n",
       "346              43.751116  \n",
       "325              96.404826  \n",
       "90              239.543505  \n",
       "246              83.613496  "
      ]
     },
     "execution_count": 73,
     "metadata": {},
     "output_type": "execute_result"
    }
   ],
   "source": [
    "preds['yhat_mean_res_squared'] = preds['yhat_mean_res'] ** 2\n",
    "preds.head()"
   ]
  },
  {
   "cell_type": "code",
   "execution_count": 74,
   "id": "c680f7f9",
   "metadata": {},
   "outputs": [
    {
     "data": {
      "text/plain": [
       "9975.360722188278"
      ]
     },
     "execution_count": 74,
     "metadata": {},
     "output_type": "execute_result"
    }
   ],
   "source": [
    "ess_baseline = 0\n",
    "ess_yhat = preds['yhat_mean_res_squared'].sum()\n",
    "ess_yhat"
   ]
  },
  {
   "cell_type": "markdown",
   "id": "eb2a4e7a",
   "metadata": {},
   "source": [
    "## Compute TSS\n",
    "\n",
    "TSS - Total Sum of Squares\n",
    "\n",
    "ESS + SSE\n"
   ]
  },
  {
   "cell_type": "code",
   "execution_count": 80,
   "id": "0f38b9d4",
   "metadata": {},
   "outputs": [
    {
     "data": {
      "text/plain": [
       "15330.830000000002"
      ]
     },
     "execution_count": 80,
     "metadata": {},
     "output_type": "execute_result"
    }
   ],
   "source": [
    "tss_baseline = sse_baseline + ess_baseline\n",
    "tss_baseline"
   ]
  },
  {
   "cell_type": "code",
   "execution_count": 81,
   "id": "6b34f95b",
   "metadata": {},
   "outputs": [
    {
     "data": {
      "text/plain": [
       "15330.829999999994"
      ]
     },
     "execution_count": 81,
     "metadata": {},
     "output_type": "execute_result"
    }
   ],
   "source": [
    "tss_yhat = sse_yhat + ess_yhat\n",
    "tss_yhat"
   ]
  },
  {
   "cell_type": "code",
   "execution_count": 79,
   "id": "fc84a8ce",
   "metadata": {},
   "outputs": [
    {
     "data": {
      "text/plain": [
       "0.0"
      ]
     },
     "execution_count": 79,
     "metadata": {},
     "output_type": "execute_result"
    }
   ],
   "source": [
    "ess_baseline / tss_baseline"
   ]
  },
  {
   "cell_type": "code",
   "execution_count": 82,
   "id": "fa57bc4d",
   "metadata": {},
   "outputs": [
    {
     "data": {
      "text/plain": [
       "0.6506732330988134"
      ]
     },
     "execution_count": 82,
     "metadata": {},
     "output_type": "execute_result"
    }
   ],
   "source": [
    "ess_yhat / tss_yhat"
   ]
  },
  {
   "cell_type": "markdown",
   "id": "c75d9f1d",
   "metadata": {},
   "source": [
    "## Using the sklean library instead\n",
    "\n",
    "explained_variance_score"
   ]
  },
  {
   "cell_type": "code",
   "execution_count": 84,
   "id": "6b1de365",
   "metadata": {},
   "outputs": [
    {
     "data": {
      "text/plain": [
       "0.6506731545601601"
      ]
     },
     "execution_count": 84,
     "metadata": {},
     "output_type": "execute_result"
    }
   ],
   "source": [
    "explained_variance_score(preds['mpg'], preds['yhat'])"
   ]
  },
  {
   "cell_type": "code",
   "execution_count": null,
   "id": "069d9201",
   "metadata": {},
   "outputs": [],
   "source": []
  }
 ],
 "metadata": {
  "kernelspec": {
   "display_name": "Python 3 (ipykernel)",
   "language": "python",
   "name": "python3"
  },
  "language_info": {
   "codemirror_mode": {
    "name": "ipython",
    "version": 3
   },
   "file_extension": ".py",
   "mimetype": "text/x-python",
   "name": "python",
   "nbconvert_exporter": "python",
   "pygments_lexer": "ipython3",
   "version": "3.9.13"
  }
 },
 "nbformat": 4,
 "nbformat_minor": 5
}
