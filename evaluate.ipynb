{
 "cells": [
  {
   "cell_type": "code",
   "execution_count": 1,
   "id": "16a1cfcf",
   "metadata": {},
   "outputs": [],
   "source": [
    "import pandas as pd\n",
    "import numpy as np\n",
    "import matplotlib.pyplot as plt\n",
    "from math import sqrt\n",
    "from sklearn.linear_model import LinearRegression\n",
    "from sklearn.metrics import mean_squared_error, r2_score, explained_variance_score\n",
    "from explore import get_auto_mpg, train_val_test\n",
    "\n",
    "import wrangle"
   ]
  },
  {
   "cell_type": "code",
   "execution_count": 2,
   "id": "14067056",
   "metadata": {},
   "outputs": [
    {
     "data": {
      "text/html": [
       "<div>\n",
       "<style scoped>\n",
       "    .dataframe tbody tr th:only-of-type {\n",
       "        vertical-align: middle;\n",
       "    }\n",
       "\n",
       "    .dataframe tbody tr th {\n",
       "        vertical-align: top;\n",
       "    }\n",
       "\n",
       "    .dataframe thead th {\n",
       "        text-align: right;\n",
       "    }\n",
       "</style>\n",
       "<table border=\"1\" class=\"dataframe\">\n",
       "  <thead>\n",
       "    <tr style=\"text-align: right;\">\n",
       "      <th></th>\n",
       "      <th>mpg</th>\n",
       "      <th>cylinders</th>\n",
       "      <th>displ</th>\n",
       "      <th>horsepower</th>\n",
       "      <th>weight</th>\n",
       "      <th>acc</th>\n",
       "      <th>model_year</th>\n",
       "      <th>origin</th>\n",
       "      <th>name</th>\n",
       "    </tr>\n",
       "  </thead>\n",
       "  <tbody>\n",
       "    <tr>\n",
       "      <th>0</th>\n",
       "      <td>18.0</td>\n",
       "      <td>8</td>\n",
       "      <td>307.0</td>\n",
       "      <td>130.0</td>\n",
       "      <td>3504.0</td>\n",
       "      <td>12.0</td>\n",
       "      <td>70</td>\n",
       "      <td>1</td>\n",
       "      <td>\"chevrolet chevelle malibu\"</td>\n",
       "    </tr>\n",
       "    <tr>\n",
       "      <th>1</th>\n",
       "      <td>15.0</td>\n",
       "      <td>8</td>\n",
       "      <td>350.0</td>\n",
       "      <td>165.0</td>\n",
       "      <td>3693.0</td>\n",
       "      <td>11.5</td>\n",
       "      <td>70</td>\n",
       "      <td>1</td>\n",
       "      <td>\"buick skylark 320\"</td>\n",
       "    </tr>\n",
       "    <tr>\n",
       "      <th>2</th>\n",
       "      <td>18.0</td>\n",
       "      <td>8</td>\n",
       "      <td>318.0</td>\n",
       "      <td>150.0</td>\n",
       "      <td>3436.0</td>\n",
       "      <td>11.0</td>\n",
       "      <td>70</td>\n",
       "      <td>1</td>\n",
       "      <td>\"plymouth satellite\"</td>\n",
       "    </tr>\n",
       "    <tr>\n",
       "      <th>3</th>\n",
       "      <td>16.0</td>\n",
       "      <td>8</td>\n",
       "      <td>304.0</td>\n",
       "      <td>150.0</td>\n",
       "      <td>3433.0</td>\n",
       "      <td>12.0</td>\n",
       "      <td>70</td>\n",
       "      <td>1</td>\n",
       "      <td>\"amc rebel sst\"</td>\n",
       "    </tr>\n",
       "    <tr>\n",
       "      <th>4</th>\n",
       "      <td>17.0</td>\n",
       "      <td>8</td>\n",
       "      <td>302.0</td>\n",
       "      <td>140.0</td>\n",
       "      <td>3449.0</td>\n",
       "      <td>10.5</td>\n",
       "      <td>70</td>\n",
       "      <td>1</td>\n",
       "      <td>\"ford torino\"</td>\n",
       "    </tr>\n",
       "  </tbody>\n",
       "</table>\n",
       "</div>"
      ],
      "text/plain": [
       "    mpg  cylinders  displ  horsepower  weight   acc  model_year  origin  \\\n",
       "0  18.0          8  307.0       130.0  3504.0  12.0          70       1   \n",
       "1  15.0          8  350.0       165.0  3693.0  11.5          70       1   \n",
       "2  18.0          8  318.0       150.0  3436.0  11.0          70       1   \n",
       "3  16.0          8  304.0       150.0  3433.0  12.0          70       1   \n",
       "4  17.0          8  302.0       140.0  3449.0  10.5          70       1   \n",
       "\n",
       "                          name  \n",
       "0  \"chevrolet chevelle malibu\"  \n",
       "1          \"buick skylark 320\"  \n",
       "2         \"plymouth satellite\"  \n",
       "3              \"amc rebel sst\"  \n",
       "4                \"ford torino\"  "
      ]
     },
     "execution_count": 2,
     "metadata": {},
     "output_type": "execute_result"
    }
   ],
   "source": [
    "df = get_auto_mpg()\n",
    "df.head()"
   ]
  },
  {
   "cell_type": "code",
   "execution_count": 3,
   "id": "960a5c59",
   "metadata": {},
   "outputs": [
    {
     "data": {
      "text/plain": [
       "((235, 9), (78, 9), (79, 9))"
      ]
     },
     "execution_count": 3,
     "metadata": {},
     "output_type": "execute_result"
    }
   ],
   "source": [
    "train, val, test = train_val_test(df, stratify = 'mpg')\n",
    "train.shape, val.shape, test.shape"
   ]
  },
  {
   "cell_type": "markdown",
   "id": "e5839c9b",
   "metadata": {},
   "source": [
    "## Establish baseline and model predictions\n",
    "\n",
    "The baseline is the mean of the actual values.\n",
    "\n",
    "A basic LinearRegression model will be used to make predictions."
   ]
  },
  {
   "cell_type": "code",
   "execution_count": 4,
   "id": "a92b8f21",
   "metadata": {},
   "outputs": [
    {
     "data": {
      "text/plain": [
       "23.503829787234046"
      ]
     },
     "execution_count": 4,
     "metadata": {},
     "output_type": "execute_result"
    }
   ],
   "source": [
    "train['mpg'].mean()"
   ]
  },
  {
   "cell_type": "code",
   "execution_count": 5,
   "id": "84f25a1e",
   "metadata": {},
   "outputs": [
    {
     "data": {
      "text/plain": [
       "23.5"
      ]
     },
     "execution_count": 5,
     "metadata": {},
     "output_type": "execute_result"
    }
   ],
   "source": [
    "round(train['mpg'].mean(),2)"
   ]
  },
  {
   "cell_type": "code",
   "execution_count": 6,
   "id": "dceedcb9",
   "metadata": {},
   "outputs": [],
   "source": [
    "preds = train[['horsepower', 'mpg']]"
   ]
  },
  {
   "cell_type": "code",
   "execution_count": 7,
   "id": "f6f3e4ce",
   "metadata": {},
   "outputs": [
    {
     "data": {
      "text/html": [
       "<div>\n",
       "<style scoped>\n",
       "    .dataframe tbody tr th:only-of-type {\n",
       "        vertical-align: middle;\n",
       "    }\n",
       "\n",
       "    .dataframe tbody tr th {\n",
       "        vertical-align: top;\n",
       "    }\n",
       "\n",
       "    .dataframe thead th {\n",
       "        text-align: right;\n",
       "    }\n",
       "</style>\n",
       "<table border=\"1\" class=\"dataframe\">\n",
       "  <thead>\n",
       "    <tr style=\"text-align: right;\">\n",
       "      <th></th>\n",
       "      <th>horsepower</th>\n",
       "      <th>mpg</th>\n",
       "      <th>baseline_preds</th>\n",
       "    </tr>\n",
       "  </thead>\n",
       "  <tbody>\n",
       "    <tr>\n",
       "      <th>212</th>\n",
       "      <td>180.0</td>\n",
       "      <td>16.5</td>\n",
       "      <td>23.5</td>\n",
       "    </tr>\n",
       "    <tr>\n",
       "      <th>346</th>\n",
       "      <td>67.0</td>\n",
       "      <td>32.3</td>\n",
       "      <td>23.5</td>\n",
       "    </tr>\n",
       "    <tr>\n",
       "      <th>325</th>\n",
       "      <td>48.0</td>\n",
       "      <td>44.3</td>\n",
       "      <td>23.5</td>\n",
       "    </tr>\n",
       "    <tr>\n",
       "      <th>90</th>\n",
       "      <td>198.0</td>\n",
       "      <td>12.0</td>\n",
       "      <td>23.5</td>\n",
       "    </tr>\n",
       "    <tr>\n",
       "      <th>246</th>\n",
       "      <td>52.0</td>\n",
       "      <td>32.8</td>\n",
       "      <td>23.5</td>\n",
       "    </tr>\n",
       "  </tbody>\n",
       "</table>\n",
       "</div>"
      ],
      "text/plain": [
       "     horsepower   mpg  baseline_preds\n",
       "212       180.0  16.5            23.5\n",
       "346        67.0  32.3            23.5\n",
       "325        48.0  44.3            23.5\n",
       "90        198.0  12.0            23.5\n",
       "246        52.0  32.8            23.5"
      ]
     },
     "execution_count": 7,
     "metadata": {},
     "output_type": "execute_result"
    }
   ],
   "source": [
    "preds['baseline_preds'] = round(train['mpg'].mean(),2)\n",
    "preds.head()"
   ]
  },
  {
   "cell_type": "code",
   "execution_count": 8,
   "id": "0fbee420",
   "metadata": {},
   "outputs": [
    {
     "data": {
      "text/plain": [
       "LinearRegression()"
      ]
     },
     "execution_count": 8,
     "metadata": {},
     "output_type": "execute_result"
    }
   ],
   "source": [
    "ols_model = LinearRegression()\n",
    "\n",
    "ols_model.fit(train[['horsepower']], train[['mpg']])"
   ]
  },
  {
   "cell_type": "code",
   "execution_count": 9,
   "id": "2bc879c8",
   "metadata": {},
   "outputs": [
    {
     "data": {
      "text/html": [
       "<div>\n",
       "<style scoped>\n",
       "    .dataframe tbody tr th:only-of-type {\n",
       "        vertical-align: middle;\n",
       "    }\n",
       "\n",
       "    .dataframe tbody tr th {\n",
       "        vertical-align: top;\n",
       "    }\n",
       "\n",
       "    .dataframe thead th {\n",
       "        text-align: right;\n",
       "    }\n",
       "</style>\n",
       "<table border=\"1\" class=\"dataframe\">\n",
       "  <thead>\n",
       "    <tr style=\"text-align: right;\">\n",
       "      <th></th>\n",
       "      <th>horsepower</th>\n",
       "      <th>mpg</th>\n",
       "      <th>baseline_preds</th>\n",
       "      <th>yhat</th>\n",
       "    </tr>\n",
       "  </thead>\n",
       "  <tbody>\n",
       "    <tr>\n",
       "      <th>212</th>\n",
       "      <td>180.0</td>\n",
       "      <td>16.5</td>\n",
       "      <td>23.5</td>\n",
       "      <td>11.058302</td>\n",
       "    </tr>\n",
       "    <tr>\n",
       "      <th>346</th>\n",
       "      <td>67.0</td>\n",
       "      <td>32.3</td>\n",
       "      <td>23.5</td>\n",
       "      <td>30.114463</td>\n",
       "    </tr>\n",
       "    <tr>\n",
       "      <th>325</th>\n",
       "      <td>48.0</td>\n",
       "      <td>44.3</td>\n",
       "      <td>23.5</td>\n",
       "      <td>33.318596</td>\n",
       "    </tr>\n",
       "    <tr>\n",
       "      <th>90</th>\n",
       "      <td>198.0</td>\n",
       "      <td>12.0</td>\n",
       "      <td>23.5</td>\n",
       "      <td>8.022807</td>\n",
       "    </tr>\n",
       "    <tr>\n",
       "      <th>246</th>\n",
       "      <td>52.0</td>\n",
       "      <td>32.8</td>\n",
       "      <td>23.5</td>\n",
       "      <td>32.644042</td>\n",
       "    </tr>\n",
       "  </tbody>\n",
       "</table>\n",
       "</div>"
      ],
      "text/plain": [
       "     horsepower   mpg  baseline_preds       yhat\n",
       "212       180.0  16.5            23.5  11.058302\n",
       "346        67.0  32.3            23.5  30.114463\n",
       "325        48.0  44.3            23.5  33.318596\n",
       "90        198.0  12.0            23.5   8.022807\n",
       "246        52.0  32.8            23.5  32.644042"
      ]
     },
     "execution_count": 9,
     "metadata": {},
     "output_type": "execute_result"
    }
   ],
   "source": [
    "preds['yhat'] = ols_model.predict(train[['horsepower']]) #these are our model predictions\n",
    "preds.head()"
   ]
  },
  {
   "cell_type": "markdown",
   "id": "4bdef821",
   "metadata": {},
   "source": [
    "## Compute residuals\n",
    "\n",
    "Predictions minus actual"
   ]
  },
  {
   "cell_type": "code",
   "execution_count": 10,
   "id": "27feda65",
   "metadata": {},
   "outputs": [
    {
     "data": {
      "text/html": [
       "<div>\n",
       "<style scoped>\n",
       "    .dataframe tbody tr th:only-of-type {\n",
       "        vertical-align: middle;\n",
       "    }\n",
       "\n",
       "    .dataframe tbody tr th {\n",
       "        vertical-align: top;\n",
       "    }\n",
       "\n",
       "    .dataframe thead th {\n",
       "        text-align: right;\n",
       "    }\n",
       "</style>\n",
       "<table border=\"1\" class=\"dataframe\">\n",
       "  <thead>\n",
       "    <tr style=\"text-align: right;\">\n",
       "      <th></th>\n",
       "      <th>horsepower</th>\n",
       "      <th>mpg</th>\n",
       "      <th>baseline_preds</th>\n",
       "      <th>yhat</th>\n",
       "      <th>baseline_res</th>\n",
       "    </tr>\n",
       "  </thead>\n",
       "  <tbody>\n",
       "    <tr>\n",
       "      <th>212</th>\n",
       "      <td>180.0</td>\n",
       "      <td>16.5</td>\n",
       "      <td>23.5</td>\n",
       "      <td>11.058302</td>\n",
       "      <td>7.0</td>\n",
       "    </tr>\n",
       "    <tr>\n",
       "      <th>346</th>\n",
       "      <td>67.0</td>\n",
       "      <td>32.3</td>\n",
       "      <td>23.5</td>\n",
       "      <td>30.114463</td>\n",
       "      <td>-8.8</td>\n",
       "    </tr>\n",
       "    <tr>\n",
       "      <th>325</th>\n",
       "      <td>48.0</td>\n",
       "      <td>44.3</td>\n",
       "      <td>23.5</td>\n",
       "      <td>33.318596</td>\n",
       "      <td>-20.8</td>\n",
       "    </tr>\n",
       "    <tr>\n",
       "      <th>90</th>\n",
       "      <td>198.0</td>\n",
       "      <td>12.0</td>\n",
       "      <td>23.5</td>\n",
       "      <td>8.022807</td>\n",
       "      <td>11.5</td>\n",
       "    </tr>\n",
       "    <tr>\n",
       "      <th>246</th>\n",
       "      <td>52.0</td>\n",
       "      <td>32.8</td>\n",
       "      <td>23.5</td>\n",
       "      <td>32.644042</td>\n",
       "      <td>-9.3</td>\n",
       "    </tr>\n",
       "  </tbody>\n",
       "</table>\n",
       "</div>"
      ],
      "text/plain": [
       "     horsepower   mpg  baseline_preds       yhat  baseline_res\n",
       "212       180.0  16.5            23.5  11.058302           7.0\n",
       "346        67.0  32.3            23.5  30.114463          -8.8\n",
       "325        48.0  44.3            23.5  33.318596         -20.8\n",
       "90        198.0  12.0            23.5   8.022807          11.5\n",
       "246        52.0  32.8            23.5  32.644042          -9.3"
      ]
     },
     "execution_count": 10,
     "metadata": {},
     "output_type": "execute_result"
    }
   ],
   "source": [
    "preds['baseline_res'] = preds['baseline_preds'] - preds['mpg']\n",
    "preds.head()"
   ]
  },
  {
   "cell_type": "code",
   "execution_count": 11,
   "id": "1dc714af",
   "metadata": {},
   "outputs": [
    {
     "data": {
      "image/png": "[encoded data removed]",
      "text/plain": [
       "<Figure size 640x480 with 1 Axes>"
      ]
     },
     "metadata": {},
     "output_type": "display_data"
    }
   ],
   "source": [
    "plt.scatter(preds['horsepower'], preds['baseline_res'])\n",
    "plt.xlabel('Horsepower')\n",
    "plt.ylabel('Baseline Residual')\n",
    "plt.show()\n"
   ]
  },
  {
   "cell_type": "code",
   "execution_count": 12,
   "id": "87de2e01",
   "metadata": {},
   "outputs": [
    {
     "data": {
      "text/html": [
       "<div>\n",
       "<style scoped>\n",
       "    .dataframe tbody tr th:only-of-type {\n",
       "        vertical-align: middle;\n",
       "    }\n",
       "\n",
       "    .dataframe tbody tr th {\n",
       "        vertical-align: top;\n",
       "    }\n",
       "\n",
       "    .dataframe thead th {\n",
       "        text-align: right;\n",
       "    }\n",
       "</style>\n",
       "<table border=\"1\" class=\"dataframe\">\n",
       "  <thead>\n",
       "    <tr style=\"text-align: right;\">\n",
       "      <th></th>\n",
       "      <th>horsepower</th>\n",
       "      <th>mpg</th>\n",
       "      <th>baseline_preds</th>\n",
       "      <th>yhat</th>\n",
       "      <th>baseline_res</th>\n",
       "      <th>yhat_res</th>\n",
       "    </tr>\n",
       "  </thead>\n",
       "  <tbody>\n",
       "    <tr>\n",
       "      <th>212</th>\n",
       "      <td>180.0</td>\n",
       "      <td>16.5</td>\n",
       "      <td>23.5</td>\n",
       "      <td>11.058302</td>\n",
       "      <td>7.0</td>\n",
       "      <td>-5.441698</td>\n",
       "    </tr>\n",
       "    <tr>\n",
       "      <th>346</th>\n",
       "      <td>67.0</td>\n",
       "      <td>32.3</td>\n",
       "      <td>23.5</td>\n",
       "      <td>30.114463</td>\n",
       "      <td>-8.8</td>\n",
       "      <td>-2.185537</td>\n",
       "    </tr>\n",
       "    <tr>\n",
       "      <th>325</th>\n",
       "      <td>48.0</td>\n",
       "      <td>44.3</td>\n",
       "      <td>23.5</td>\n",
       "      <td>33.318596</td>\n",
       "      <td>-20.8</td>\n",
       "      <td>-10.981404</td>\n",
       "    </tr>\n",
       "    <tr>\n",
       "      <th>90</th>\n",
       "      <td>198.0</td>\n",
       "      <td>12.0</td>\n",
       "      <td>23.5</td>\n",
       "      <td>8.022807</td>\n",
       "      <td>11.5</td>\n",
       "      <td>-3.977193</td>\n",
       "    </tr>\n",
       "    <tr>\n",
       "      <th>246</th>\n",
       "      <td>52.0</td>\n",
       "      <td>32.8</td>\n",
       "      <td>23.5</td>\n",
       "      <td>32.644042</td>\n",
       "      <td>-9.3</td>\n",
       "      <td>-0.155958</td>\n",
       "    </tr>\n",
       "  </tbody>\n",
       "</table>\n",
       "</div>"
      ],
      "text/plain": [
       "     horsepower   mpg  baseline_preds       yhat  baseline_res   yhat_res\n",
       "212       180.0  16.5            23.5  11.058302           7.0  -5.441698\n",
       "346        67.0  32.3            23.5  30.114463          -8.8  -2.185537\n",
       "325        48.0  44.3            23.5  33.318596         -20.8 -10.981404\n",
       "90        198.0  12.0            23.5   8.022807          11.5  -3.977193\n",
       "246        52.0  32.8            23.5  32.644042          -9.3  -0.155958"
      ]
     },
     "execution_count": 12,
     "metadata": {},
     "output_type": "execute_result"
    }
   ],
   "source": [
    "preds['yhat_res'] = preds['yhat'] - preds['mpg']\n",
    "preds.head()"
   ]
  },
  {
   "cell_type": "code",
   "execution_count": 13,
   "id": "22197b14",
   "metadata": {},
   "outputs": [
    {
     "data": {
      "image/png": "[encoded data removed]",
      "text/plain": [
       "<Figure size 640x480 with 1 Axes>"
      ]
     },
     "metadata": {},
     "output_type": "display_data"
    }
   ],
   "source": [
    "plt.scatter(preds['horsepower'], preds['yhat_res'])\n",
    "plt.xlabel('Horsepower')\n",
    "plt.ylabel('Predictions residuals')\n",
    "plt.show()"
   ]
  },
  {
   "cell_type": "markdown",
   "id": "481fbd8c",
   "metadata": {},
   "source": [
    "## Compute SSE\n",
    "\n",
    "SSE - Sum of Squared Errors\n",
    "\n",
    "Also known as the RSS - Residual Sum of Squares\n",
    "\n",
    "Predicted minus actual, squuared and summed"
   ]
  },
  {
   "cell_type": "code",
   "execution_count": 14,
   "id": "a2cdf686",
   "metadata": {},
   "outputs": [
    {
     "data": {
      "text/plain": [
       "Index(['horsepower', 'mpg', 'baseline_preds', 'yhat', 'baseline_res',\n",
       "       'yhat_res'],\n",
       "      dtype='object')"
      ]
     },
     "execution_count": 14,
     "metadata": {},
     "output_type": "execute_result"
    }
   ],
   "source": [
    "preds.columns"
   ]
  },
  {
   "cell_type": "code",
   "execution_count": 15,
   "id": "4900c38e",
   "metadata": {},
   "outputs": [
    {
     "data": {
      "text/html": [
       "<div>\n",
       "<style scoped>\n",
       "    .dataframe tbody tr th:only-of-type {\n",
       "        vertical-align: middle;\n",
       "    }\n",
       "\n",
       "    .dataframe tbody tr th {\n",
       "        vertical-align: top;\n",
       "    }\n",
       "\n",
       "    .dataframe thead th {\n",
       "        text-align: right;\n",
       "    }\n",
       "</style>\n",
       "<table border=\"1\" class=\"dataframe\">\n",
       "  <thead>\n",
       "    <tr style=\"text-align: right;\">\n",
       "      <th></th>\n",
       "      <th>horsepower</th>\n",
       "      <th>mpg</th>\n",
       "      <th>baseline_preds</th>\n",
       "      <th>yhat</th>\n",
       "      <th>baseline_res</th>\n",
       "      <th>yhat_res</th>\n",
       "      <th>baseline_res_squared</th>\n",
       "      <th>yhat_res_squared</th>\n",
       "    </tr>\n",
       "  </thead>\n",
       "  <tbody>\n",
       "    <tr>\n",
       "      <th>212</th>\n",
       "      <td>180.0</td>\n",
       "      <td>16.5</td>\n",
       "      <td>23.5</td>\n",
       "      <td>11.058302</td>\n",
       "      <td>7.0</td>\n",
       "      <td>-5.441698</td>\n",
       "      <td>49.00</td>\n",
       "      <td>29.612081</td>\n",
       "    </tr>\n",
       "    <tr>\n",
       "      <th>346</th>\n",
       "      <td>67.0</td>\n",
       "      <td>32.3</td>\n",
       "      <td>23.5</td>\n",
       "      <td>30.114463</td>\n",
       "      <td>-8.8</td>\n",
       "      <td>-2.185537</td>\n",
       "      <td>77.44</td>\n",
       "      <td>4.776574</td>\n",
       "    </tr>\n",
       "    <tr>\n",
       "      <th>325</th>\n",
       "      <td>48.0</td>\n",
       "      <td>44.3</td>\n",
       "      <td>23.5</td>\n",
       "      <td>33.318596</td>\n",
       "      <td>-20.8</td>\n",
       "      <td>-10.981404</td>\n",
       "      <td>432.64</td>\n",
       "      <td>120.591236</td>\n",
       "    </tr>\n",
       "    <tr>\n",
       "      <th>90</th>\n",
       "      <td>198.0</td>\n",
       "      <td>12.0</td>\n",
       "      <td>23.5</td>\n",
       "      <td>8.022807</td>\n",
       "      <td>11.5</td>\n",
       "      <td>-3.977193</td>\n",
       "      <td>132.25</td>\n",
       "      <td>15.818065</td>\n",
       "    </tr>\n",
       "    <tr>\n",
       "      <th>246</th>\n",
       "      <td>52.0</td>\n",
       "      <td>32.8</td>\n",
       "      <td>23.5</td>\n",
       "      <td>32.644042</td>\n",
       "      <td>-9.3</td>\n",
       "      <td>-0.155958</td>\n",
       "      <td>86.49</td>\n",
       "      <td>0.024323</td>\n",
       "    </tr>\n",
       "  </tbody>\n",
       "</table>\n",
       "</div>"
      ],
      "text/plain": [
       "     horsepower   mpg  baseline_preds       yhat  baseline_res   yhat_res  \\\n",
       "212       180.0  16.5            23.5  11.058302           7.0  -5.441698   \n",
       "346        67.0  32.3            23.5  30.114463          -8.8  -2.185537   \n",
       "325        48.0  44.3            23.5  33.318596         -20.8 -10.981404   \n",
       "90        198.0  12.0            23.5   8.022807          11.5  -3.977193   \n",
       "246        52.0  32.8            23.5  32.644042          -9.3  -0.155958   \n",
       "\n",
       "     baseline_res_squared  yhat_res_squared  \n",
       "212                 49.00         29.612081  \n",
       "346                 77.44          4.776574  \n",
       "325                432.64        120.591236  \n",
       "90                 132.25         15.818065  \n",
       "246                 86.49          0.024323  "
      ]
     },
     "execution_count": 15,
     "metadata": {},
     "output_type": "execute_result"
    }
   ],
   "source": [
    "preds['baseline_res_squared'] = preds['baseline_res'] ** 2\n",
    "\n",
    "preds['yhat_res_squared'] = preds['yhat_res'] ** 2\n",
    "\n",
    "preds.head()"
   ]
  },
  {
   "cell_type": "code",
   "execution_count": 16,
   "id": "06951502",
   "metadata": {},
   "outputs": [
    {
     "data": {
      "text/plain": [
       "(15330.830000000002, 5355.469277811718)"
      ]
     },
     "execution_count": 16,
     "metadata": {},
     "output_type": "execute_result"
    }
   ],
   "source": [
    "sse_baseline = preds['baseline_res_squared'].sum()\n",
    "sse_yhat = preds['yhat_res_squared'].sum()\n",
    "sse_baseline, sse_yhat"
   ]
  },
  {
   "cell_type": "markdown",
   "id": "4f2fc85a",
   "metadata": {},
   "source": [
    "## Compute MSE\n",
    "\n",
    "MSE - Mean Squared Error\n",
    "\n",
    "Divide the SSe by the total number of data points"
   ]
  },
  {
   "cell_type": "code",
   "execution_count": 17,
   "id": "35adfc1e",
   "metadata": {},
   "outputs": [
    {
     "data": {
      "text/plain": [
       "(65.23757446808511, 22.789230969411566)"
      ]
     },
     "execution_count": 17,
     "metadata": {},
     "output_type": "execute_result"
    }
   ],
   "source": [
    "mse_baseline = sse_baseline / len(preds)\n",
    "mse_yhat = sse_yhat / len(preds)\n",
    "\n",
    "mse_baseline , mse_yhat"
   ]
  },
  {
   "cell_type": "markdown",
   "id": "131e2b82",
   "metadata": {},
   "source": [
    "## Compute RMSE\n",
    "\n",
    "RMSE - Root Mean Squared Error"
   ]
  },
  {
   "cell_type": "code",
   "execution_count": 18,
   "id": "be6da972",
   "metadata": {},
   "outputs": [
    {
     "data": {
      "text/plain": [
       "(8.076978052965423, 4.773806758700185)"
      ]
     },
     "execution_count": 18,
     "metadata": {},
     "output_type": "execute_result"
    }
   ],
   "source": [
    "rmse_baseline = sqrt(mse_baseline)\n",
    "rmse_yhat = sqrt(mse_yhat)\n",
    "rmse_baseline, rmse_yhat\n",
    "\n",
    "# This calculates the average amount of error any value has in the units of the original value"
   ]
  },
  {
   "cell_type": "markdown",
   "id": "94c017ae",
   "metadata": {},
   "source": [
    "## Doing it all with the sklearn library\n",
    "\n",
    "mean_squared_error"
   ]
  },
  {
   "cell_type": "code",
   "execution_count": 19,
   "id": "a03b209a",
   "metadata": {},
   "outputs": [
    {
     "data": {
      "text/plain": [
       "8.076978052965423"
      ]
     },
     "execution_count": 19,
     "metadata": {},
     "output_type": "execute_result"
    }
   ],
   "source": [
    "sqrt(mean_squared_error(preds['mpg'], preds['baseline_preds']))"
   ]
  },
  {
   "cell_type": "markdown",
   "id": "0ff279e5",
   "metadata": {},
   "source": [
    "## Compute ESS\n",
    "\n",
    "ESS - Explained Sum of Squares\n",
    "\n",
    "Prediction minus mean of actual values, squared and summed"
   ]
  },
  {
   "cell_type": "code",
   "execution_count": 20,
   "id": "dde384ba",
   "metadata": {},
   "outputs": [
    {
     "data": {
      "text/html": [
       "<div>\n",
       "<style scoped>\n",
       "    .dataframe tbody tr th:only-of-type {\n",
       "        vertical-align: middle;\n",
       "    }\n",
       "\n",
       "    .dataframe tbody tr th {\n",
       "        vertical-align: top;\n",
       "    }\n",
       "\n",
       "    .dataframe thead th {\n",
       "        text-align: right;\n",
       "    }\n",
       "</style>\n",
       "<table border=\"1\" class=\"dataframe\">\n",
       "  <thead>\n",
       "    <tr style=\"text-align: right;\">\n",
       "      <th></th>\n",
       "      <th>horsepower</th>\n",
       "      <th>mpg</th>\n",
       "      <th>baseline_preds</th>\n",
       "      <th>yhat</th>\n",
       "      <th>baseline_res</th>\n",
       "      <th>yhat_res</th>\n",
       "      <th>baseline_res_squared</th>\n",
       "      <th>yhat_res_squared</th>\n",
       "    </tr>\n",
       "  </thead>\n",
       "  <tbody>\n",
       "    <tr>\n",
       "      <th>212</th>\n",
       "      <td>180.0</td>\n",
       "      <td>16.5</td>\n",
       "      <td>23.5</td>\n",
       "      <td>11.058302</td>\n",
       "      <td>7.0</td>\n",
       "      <td>-5.441698</td>\n",
       "      <td>49.00</td>\n",
       "      <td>29.612081</td>\n",
       "    </tr>\n",
       "    <tr>\n",
       "      <th>346</th>\n",
       "      <td>67.0</td>\n",
       "      <td>32.3</td>\n",
       "      <td>23.5</td>\n",
       "      <td>30.114463</td>\n",
       "      <td>-8.8</td>\n",
       "      <td>-2.185537</td>\n",
       "      <td>77.44</td>\n",
       "      <td>4.776574</td>\n",
       "    </tr>\n",
       "    <tr>\n",
       "      <th>325</th>\n",
       "      <td>48.0</td>\n",
       "      <td>44.3</td>\n",
       "      <td>23.5</td>\n",
       "      <td>33.318596</td>\n",
       "      <td>-20.8</td>\n",
       "      <td>-10.981404</td>\n",
       "      <td>432.64</td>\n",
       "      <td>120.591236</td>\n",
       "    </tr>\n",
       "    <tr>\n",
       "      <th>90</th>\n",
       "      <td>198.0</td>\n",
       "      <td>12.0</td>\n",
       "      <td>23.5</td>\n",
       "      <td>8.022807</td>\n",
       "      <td>11.5</td>\n",
       "      <td>-3.977193</td>\n",
       "      <td>132.25</td>\n",
       "      <td>15.818065</td>\n",
       "    </tr>\n",
       "    <tr>\n",
       "      <th>246</th>\n",
       "      <td>52.0</td>\n",
       "      <td>32.8</td>\n",
       "      <td>23.5</td>\n",
       "      <td>32.644042</td>\n",
       "      <td>-9.3</td>\n",
       "      <td>-0.155958</td>\n",
       "      <td>86.49</td>\n",
       "      <td>0.024323</td>\n",
       "    </tr>\n",
       "  </tbody>\n",
       "</table>\n",
       "</div>"
      ],
      "text/plain": [
       "     horsepower   mpg  baseline_preds       yhat  baseline_res   yhat_res  \\\n",
       "212       180.0  16.5            23.5  11.058302           7.0  -5.441698   \n",
       "346        67.0  32.3            23.5  30.114463          -8.8  -2.185537   \n",
       "325        48.0  44.3            23.5  33.318596         -20.8 -10.981404   \n",
       "90        198.0  12.0            23.5   8.022807          11.5  -3.977193   \n",
       "246        52.0  32.8            23.5  32.644042          -9.3  -0.155958   \n",
       "\n",
       "     baseline_res_squared  yhat_res_squared  \n",
       "212                 49.00         29.612081  \n",
       "346                 77.44          4.776574  \n",
       "325                432.64        120.591236  \n",
       "90                 132.25         15.818065  \n",
       "246                 86.49          0.024323  "
      ]
     },
     "execution_count": 20,
     "metadata": {},
     "output_type": "execute_result"
    }
   ],
   "source": [
    "preds.head()"
   ]
  },
  {
   "cell_type": "code",
   "execution_count": 21,
   "id": "24a1bbc5",
   "metadata": {},
   "outputs": [
    {
     "data": {
      "text/html": [
       "<div>\n",
       "<style scoped>\n",
       "    .dataframe tbody tr th:only-of-type {\n",
       "        vertical-align: middle;\n",
       "    }\n",
       "\n",
       "    .dataframe tbody tr th {\n",
       "        vertical-align: top;\n",
       "    }\n",
       "\n",
       "    .dataframe thead th {\n",
       "        text-align: right;\n",
       "    }\n",
       "</style>\n",
       "<table border=\"1\" class=\"dataframe\">\n",
       "  <thead>\n",
       "    <tr style=\"text-align: right;\">\n",
       "      <th></th>\n",
       "      <th>horsepower</th>\n",
       "      <th>mpg</th>\n",
       "      <th>baseline_preds</th>\n",
       "      <th>yhat</th>\n",
       "      <th>baseline_res</th>\n",
       "      <th>yhat_res</th>\n",
       "      <th>baseline_res_squared</th>\n",
       "      <th>yhat_res_squared</th>\n",
       "      <th>yhat_mean_res</th>\n",
       "    </tr>\n",
       "  </thead>\n",
       "  <tbody>\n",
       "    <tr>\n",
       "      <th>212</th>\n",
       "      <td>180.0</td>\n",
       "      <td>16.5</td>\n",
       "      <td>23.5</td>\n",
       "      <td>11.058302</td>\n",
       "      <td>7.0</td>\n",
       "      <td>-5.441698</td>\n",
       "      <td>49.00</td>\n",
       "      <td>29.612081</td>\n",
       "      <td>-12.441698</td>\n",
       "    </tr>\n",
       "    <tr>\n",
       "      <th>346</th>\n",
       "      <td>67.0</td>\n",
       "      <td>32.3</td>\n",
       "      <td>23.5</td>\n",
       "      <td>30.114463</td>\n",
       "      <td>-8.8</td>\n",
       "      <td>-2.185537</td>\n",
       "      <td>77.44</td>\n",
       "      <td>4.776574</td>\n",
       "      <td>6.614463</td>\n",
       "    </tr>\n",
       "    <tr>\n",
       "      <th>325</th>\n",
       "      <td>48.0</td>\n",
       "      <td>44.3</td>\n",
       "      <td>23.5</td>\n",
       "      <td>33.318596</td>\n",
       "      <td>-20.8</td>\n",
       "      <td>-10.981404</td>\n",
       "      <td>432.64</td>\n",
       "      <td>120.591236</td>\n",
       "      <td>9.818596</td>\n",
       "    </tr>\n",
       "    <tr>\n",
       "      <th>90</th>\n",
       "      <td>198.0</td>\n",
       "      <td>12.0</td>\n",
       "      <td>23.5</td>\n",
       "      <td>8.022807</td>\n",
       "      <td>11.5</td>\n",
       "      <td>-3.977193</td>\n",
       "      <td>132.25</td>\n",
       "      <td>15.818065</td>\n",
       "      <td>-15.477193</td>\n",
       "    </tr>\n",
       "    <tr>\n",
       "      <th>246</th>\n",
       "      <td>52.0</td>\n",
       "      <td>32.8</td>\n",
       "      <td>23.5</td>\n",
       "      <td>32.644042</td>\n",
       "      <td>-9.3</td>\n",
       "      <td>-0.155958</td>\n",
       "      <td>86.49</td>\n",
       "      <td>0.024323</td>\n",
       "      <td>9.144042</td>\n",
       "    </tr>\n",
       "  </tbody>\n",
       "</table>\n",
       "</div>"
      ],
      "text/plain": [
       "     horsepower   mpg  baseline_preds       yhat  baseline_res   yhat_res  \\\n",
       "212       180.0  16.5            23.5  11.058302           7.0  -5.441698   \n",
       "346        67.0  32.3            23.5  30.114463          -8.8  -2.185537   \n",
       "325        48.0  44.3            23.5  33.318596         -20.8 -10.981404   \n",
       "90        198.0  12.0            23.5   8.022807          11.5  -3.977193   \n",
       "246        52.0  32.8            23.5  32.644042          -9.3  -0.155958   \n",
       "\n",
       "     baseline_res_squared  yhat_res_squared  yhat_mean_res  \n",
       "212                 49.00         29.612081     -12.441698  \n",
       "346                 77.44          4.776574       6.614463  \n",
       "325                432.64        120.591236       9.818596  \n",
       "90                 132.25         15.818065     -15.477193  \n",
       "246                 86.49          0.024323       9.144042  "
      ]
     },
     "execution_count": 21,
     "metadata": {},
     "output_type": "execute_result"
    }
   ],
   "source": [
    "preds['yhat_mean_res'] = preds['yhat'] - preds['baseline_preds']\n",
    "preds.head()\n"
   ]
  },
  {
   "cell_type": "code",
   "execution_count": 22,
   "id": "1d55f50b",
   "metadata": {},
   "outputs": [
    {
     "data": {
      "text/html": [
       "<div>\n",
       "<style scoped>\n",
       "    .dataframe tbody tr th:only-of-type {\n",
       "        vertical-align: middle;\n",
       "    }\n",
       "\n",
       "    .dataframe tbody tr th {\n",
       "        vertical-align: top;\n",
       "    }\n",
       "\n",
       "    .dataframe thead th {\n",
       "        text-align: right;\n",
       "    }\n",
       "</style>\n",
       "<table border=\"1\" class=\"dataframe\">\n",
       "  <thead>\n",
       "    <tr style=\"text-align: right;\">\n",
       "      <th></th>\n",
       "      <th>horsepower</th>\n",
       "      <th>mpg</th>\n",
       "      <th>baseline_preds</th>\n",
       "      <th>yhat</th>\n",
       "      <th>baseline_res</th>\n",
       "      <th>yhat_res</th>\n",
       "      <th>baseline_res_squared</th>\n",
       "      <th>yhat_res_squared</th>\n",
       "      <th>yhat_mean_res</th>\n",
       "      <th>yhat_mean_res_squared</th>\n",
       "    </tr>\n",
       "  </thead>\n",
       "  <tbody>\n",
       "    <tr>\n",
       "      <th>212</th>\n",
       "      <td>180.0</td>\n",
       "      <td>16.5</td>\n",
       "      <td>23.5</td>\n",
       "      <td>11.058302</td>\n",
       "      <td>7.0</td>\n",
       "      <td>-5.441698</td>\n",
       "      <td>49.00</td>\n",
       "      <td>29.612081</td>\n",
       "      <td>-12.441698</td>\n",
       "      <td>154.795859</td>\n",
       "    </tr>\n",
       "    <tr>\n",
       "      <th>346</th>\n",
       "      <td>67.0</td>\n",
       "      <td>32.3</td>\n",
       "      <td>23.5</td>\n",
       "      <td>30.114463</td>\n",
       "      <td>-8.8</td>\n",
       "      <td>-2.185537</td>\n",
       "      <td>77.44</td>\n",
       "      <td>4.776574</td>\n",
       "      <td>6.614463</td>\n",
       "      <td>43.751116</td>\n",
       "    </tr>\n",
       "    <tr>\n",
       "      <th>325</th>\n",
       "      <td>48.0</td>\n",
       "      <td>44.3</td>\n",
       "      <td>23.5</td>\n",
       "      <td>33.318596</td>\n",
       "      <td>-20.8</td>\n",
       "      <td>-10.981404</td>\n",
       "      <td>432.64</td>\n",
       "      <td>120.591236</td>\n",
       "      <td>9.818596</td>\n",
       "      <td>96.404826</td>\n",
       "    </tr>\n",
       "    <tr>\n",
       "      <th>90</th>\n",
       "      <td>198.0</td>\n",
       "      <td>12.0</td>\n",
       "      <td>23.5</td>\n",
       "      <td>8.022807</td>\n",
       "      <td>11.5</td>\n",
       "      <td>-3.977193</td>\n",
       "      <td>132.25</td>\n",
       "      <td>15.818065</td>\n",
       "      <td>-15.477193</td>\n",
       "      <td>239.543505</td>\n",
       "    </tr>\n",
       "    <tr>\n",
       "      <th>246</th>\n",
       "      <td>52.0</td>\n",
       "      <td>32.8</td>\n",
       "      <td>23.5</td>\n",
       "      <td>32.644042</td>\n",
       "      <td>-9.3</td>\n",
       "      <td>-0.155958</td>\n",
       "      <td>86.49</td>\n",
       "      <td>0.024323</td>\n",
       "      <td>9.144042</td>\n",
       "      <td>83.613496</td>\n",
       "    </tr>\n",
       "  </tbody>\n",
       "</table>\n",
       "</div>"
      ],
      "text/plain": [
       "     horsepower   mpg  baseline_preds       yhat  baseline_res   yhat_res  \\\n",
       "212       180.0  16.5            23.5  11.058302           7.0  -5.441698   \n",
       "346        67.0  32.3            23.5  30.114463          -8.8  -2.185537   \n",
       "325        48.0  44.3            23.5  33.318596         -20.8 -10.981404   \n",
       "90        198.0  12.0            23.5   8.022807          11.5  -3.977193   \n",
       "246        52.0  32.8            23.5  32.644042          -9.3  -0.155958   \n",
       "\n",
       "     baseline_res_squared  yhat_res_squared  yhat_mean_res  \\\n",
       "212                 49.00         29.612081     -12.441698   \n",
       "346                 77.44          4.776574       6.614463   \n",
       "325                432.64        120.591236       9.818596   \n",
       "90                 132.25         15.818065     -15.477193   \n",
       "246                 86.49          0.024323       9.144042   \n",
       "\n",
       "     yhat_mean_res_squared  \n",
       "212             154.795859  \n",
       "346              43.751116  \n",
       "325              96.404826  \n",
       "90              239.543505  \n",
       "246              83.613496  "
      ]
     },
     "execution_count": 22,
     "metadata": {},
     "output_type": "execute_result"
    }
   ],
   "source": [
    "preds['yhat_mean_res_squared'] = preds['yhat_mean_res'] ** 2\n",
    "preds.head()"
   ]
  },
  {
   "cell_type": "code",
   "execution_count": 23,
   "id": "042d9149",
   "metadata": {},
   "outputs": [
    {
     "data": {
      "text/plain": [
       "9975.360722188278"
      ]
     },
     "execution_count": 23,
     "metadata": {},
     "output_type": "execute_result"
    }
   ],
   "source": [
    "ess_baseline = 0\n",
    "ess_yhat = preds['yhat_mean_res_squared'].sum()\n",
    "ess_yhat"
   ]
  },
  {
   "cell_type": "markdown",
   "id": "e1dae382",
   "metadata": {},
   "source": [
    "## Compute TSS\n",
    "\n",
    "TSS - Total Sum of Squares\n",
    "\n",
    "ESS + SSE\n"
   ]
  },
  {
   "cell_type": "code",
   "execution_count": 24,
   "id": "41daf227",
   "metadata": {},
   "outputs": [
    {
     "data": {
      "text/plain": [
       "15330.830000000002"
      ]
     },
     "execution_count": 24,
     "metadata": {},
     "output_type": "execute_result"
    }
   ],
   "source": [
    "tss_baseline = sse_baseline + ess_baseline\n",
    "tss_baseline"
   ]
  },
  {
   "cell_type": "code",
   "execution_count": 25,
   "id": "190f1eb7",
   "metadata": {},
   "outputs": [
    {
     "data": {
      "text/plain": [
       "15330.829999999994"
      ]
     },
     "execution_count": 25,
     "metadata": {},
     "output_type": "execute_result"
    }
   ],
   "source": [
    "tss_yhat = sse_yhat + ess_yhat\n",
    "tss_yhat"
   ]
  },
  {
   "cell_type": "code",
   "execution_count": 26,
   "id": "948cc514",
   "metadata": {},
   "outputs": [
    {
     "data": {
      "text/plain": [
       "0.0"
      ]
     },
     "execution_count": 26,
     "metadata": {},
     "output_type": "execute_result"
    }
   ],
   "source": [
    "ess_baseline / tss_baseline"
   ]
  },
  {
   "cell_type": "code",
   "execution_count": 27,
   "id": "b5a6f332",
   "metadata": {},
   "outputs": [
    {
     "data": {
      "text/plain": [
       "0.6506732330988134"
      ]
     },
     "execution_count": 27,
     "metadata": {},
     "output_type": "execute_result"
    }
   ],
   "source": [
    "ess_yhat / tss_yhat"
   ]
  },
  {
   "cell_type": "markdown",
   "id": "f04e46cb",
   "metadata": {},
   "source": [
    "## Using the sklean library instead\n",
    "\n",
    "explained_variance_score"
   ]
  },
  {
   "cell_type": "code",
   "execution_count": 28,
   "id": "bd79adef",
   "metadata": {},
   "outputs": [
    {
     "data": {
      "text/plain": [
       "0.6506731545601601"
      ]
     },
     "execution_count": 28,
     "metadata": {},
     "output_type": "execute_result"
    }
   ],
   "source": [
    "explained_variance_score(preds['mpg'], preds['yhat'])"
   ]
  },
  {
   "cell_type": "markdown",
   "id": "36ac4977",
   "metadata": {},
   "source": [
    "# Exercises"
   ]
  },
  {
   "cell_type": "code",
   "execution_count": 29,
   "id": "c65761a1",
   "metadata": {},
   "outputs": [],
   "source": [
    "train, val, test = wrangle.wrangle_zillow() #function that acquires, preps, and splits zillow data"
   ]
  },
  {
   "cell_type": "code",
   "execution_count": 30,
   "id": "783acb7f",
   "metadata": {},
   "outputs": [],
   "source": [
    "from sklearn.linear_model import LinearRegression"
   ]
  },
  {
   "cell_type": "code",
   "execution_count": 31,
   "id": "8e44b49e",
   "metadata": {},
   "outputs": [],
   "source": [
    "def drop_outliers(train, column):\n",
    "    Q1 = np.percentile(train[column], 25, interpolation = 'midpoint')\n",
    "    Q3 = np.percentile(train[column], 75, interpolation = 'midpoint')\n",
    "    IQR = Q3 - Q1\n",
    "    \n",
    "    train = train[(train[column] <= Q3 + (1.5 * IQR)) & (train[column] >= Q1 - (1.5 * IQR))]\n",
    "    return train"
   ]
  },
  {
   "cell_type": "code",
   "execution_count": 32,
   "id": "894d3580",
   "metadata": {},
   "outputs": [
    {
     "data": {
      "text/plain": [
       "(1116041, 7)"
      ]
     },
     "execution_count": 32,
     "metadata": {},
     "output_type": "execute_result"
    }
   ],
   "source": [
    "train = drop_outliers(train, 'tax_value')\n",
    "train.shape"
   ]
  },
  {
   "cell_type": "code",
   "execution_count": 33,
   "id": "51f05d6d",
   "metadata": {},
   "outputs": [
    {
     "data": {
      "text/html": [
       "<div>\n",
       "<style scoped>\n",
       "    .dataframe tbody tr th:only-of-type {\n",
       "        vertical-align: middle;\n",
       "    }\n",
       "\n",
       "    .dataframe tbody tr th {\n",
       "        vertical-align: top;\n",
       "    }\n",
       "\n",
       "    .dataframe thead th {\n",
       "        text-align: right;\n",
       "    }\n",
       "</style>\n",
       "<table border=\"1\" class=\"dataframe\">\n",
       "  <thead>\n",
       "    <tr style=\"text-align: right;\">\n",
       "      <th></th>\n",
       "      <th>bedrooms</th>\n",
       "      <th>bathrooms</th>\n",
       "      <th>area</th>\n",
       "      <th>tax_value</th>\n",
       "      <th>year_built</th>\n",
       "      <th>taxamount</th>\n",
       "      <th>fips</th>\n",
       "    </tr>\n",
       "  </thead>\n",
       "  <tbody>\n",
       "    <tr>\n",
       "      <th>553191</th>\n",
       "      <td>4.0</td>\n",
       "      <td>2.0</td>\n",
       "      <td>1556.0</td>\n",
       "      <td>373090.0</td>\n",
       "      <td>1923.0</td>\n",
       "      <td>4579.25</td>\n",
       "      <td>6037.0</td>\n",
       "    </tr>\n",
       "    <tr>\n",
       "      <th>1209132</th>\n",
       "      <td>3.0</td>\n",
       "      <td>2.0</td>\n",
       "      <td>1513.0</td>\n",
       "      <td>74070.0</td>\n",
       "      <td>1937.0</td>\n",
       "      <td>986.55</td>\n",
       "      <td>6037.0</td>\n",
       "    </tr>\n",
       "    <tr>\n",
       "      <th>174634</th>\n",
       "      <td>4.0</td>\n",
       "      <td>2.0</td>\n",
       "      <td>2040.0</td>\n",
       "      <td>138000.0</td>\n",
       "      <td>1954.0</td>\n",
       "      <td>2553.05</td>\n",
       "      <td>6037.0</td>\n",
       "    </tr>\n",
       "    <tr>\n",
       "      <th>170584</th>\n",
       "      <td>3.0</td>\n",
       "      <td>2.0</td>\n",
       "      <td>1834.0</td>\n",
       "      <td>263870.0</td>\n",
       "      <td>1959.0</td>\n",
       "      <td>3139.76</td>\n",
       "      <td>6059.0</td>\n",
       "    </tr>\n",
       "    <tr>\n",
       "      <th>2001226</th>\n",
       "      <td>2.0</td>\n",
       "      <td>2.0</td>\n",
       "      <td>1225.0</td>\n",
       "      <td>335603.0</td>\n",
       "      <td>1975.0</td>\n",
       "      <td>3461.38</td>\n",
       "      <td>6059.0</td>\n",
       "    </tr>\n",
       "  </tbody>\n",
       "</table>\n",
       "</div>"
      ],
      "text/plain": [
       "         bedrooms  bathrooms    area  tax_value  year_built  taxamount    fips\n",
       "553191        4.0        2.0  1556.0   373090.0      1923.0    4579.25  6037.0\n",
       "1209132       3.0        2.0  1513.0    74070.0      1937.0     986.55  6037.0\n",
       "174634        4.0        2.0  2040.0   138000.0      1954.0    2553.05  6037.0\n",
       "170584        3.0        2.0  1834.0   263870.0      1959.0    3139.76  6059.0\n",
       "2001226       2.0        2.0  1225.0   335603.0      1975.0    3461.38  6059.0"
      ]
     },
     "execution_count": 33,
     "metadata": {},
     "output_type": "execute_result"
    }
   ],
   "source": [
    "train.head()"
   ]
  },
  {
   "cell_type": "code",
   "execution_count": 34,
   "id": "021fdcf5",
   "metadata": {},
   "outputs": [],
   "source": [
    "train = drop_outliers(train, 'area')"
   ]
  },
  {
   "cell_type": "code",
   "execution_count": 35,
   "id": "e63fefb5",
   "metadata": {},
   "outputs": [],
   "source": [
    "from sklearn.preprocessing import MinMaxScaler #these are notes from class"
   ]
  },
  {
   "cell_type": "code",
   "execution_count": 36,
   "id": "ea7426a3",
   "metadata": {},
   "outputs": [],
   "source": [
    "MinMax = MinMaxScaler()\n",
    "train['area'] = MinMax.fit_transform(train[['area']])"
   ]
  },
  {
   "cell_type": "code",
   "execution_count": 37,
   "id": "e02b50d0",
   "metadata": {},
   "outputs": [],
   "source": [
    "MinMax = MinMaxScaler()\n",
    "train['tax_value'] = MinMax.fit_transform(train[['tax_value']])"
   ]
  },
  {
   "cell_type": "code",
   "execution_count": 38,
   "id": "fdb6a49a",
   "metadata": {},
   "outputs": [
    {
     "data": {
      "text/html": [
       "<div>\n",
       "<style scoped>\n",
       "    .dataframe tbody tr th:only-of-type {\n",
       "        vertical-align: middle;\n",
       "    }\n",
       "\n",
       "    .dataframe tbody tr th {\n",
       "        vertical-align: top;\n",
       "    }\n",
       "\n",
       "    .dataframe thead th {\n",
       "        text-align: right;\n",
       "    }\n",
       "</style>\n",
       "<table border=\"1\" class=\"dataframe\">\n",
       "  <thead>\n",
       "    <tr style=\"text-align: right;\">\n",
       "      <th></th>\n",
       "      <th>tax_value</th>\n",
       "      <th>area</th>\n",
       "    </tr>\n",
       "  </thead>\n",
       "  <tbody>\n",
       "    <tr>\n",
       "      <th>553191</th>\n",
       "      <td>0.354295</td>\n",
       "      <td>0.465430</td>\n",
       "    </tr>\n",
       "    <tr>\n",
       "      <th>1209132</th>\n",
       "      <td>0.070322</td>\n",
       "      <td>0.452559</td>\n",
       "    </tr>\n",
       "    <tr>\n",
       "      <th>174634</th>\n",
       "      <td>0.131035</td>\n",
       "      <td>0.610296</td>\n",
       "    </tr>\n",
       "    <tr>\n",
       "      <th>170584</th>\n",
       "      <td>0.250571</td>\n",
       "      <td>0.548638</td>\n",
       "    </tr>\n",
       "    <tr>\n",
       "      <th>2001226</th>\n",
       "      <td>0.318694</td>\n",
       "      <td>0.366357</td>\n",
       "    </tr>\n",
       "  </tbody>\n",
       "</table>\n",
       "</div>"
      ],
      "text/plain": [
       "         tax_value      area\n",
       "553191    0.354295  0.465430\n",
       "1209132   0.070322  0.452559\n",
       "174634    0.131035  0.610296\n",
       "170584    0.250571  0.548638\n",
       "2001226   0.318694  0.366357"
      ]
     },
     "execution_count": 38,
     "metadata": {},
     "output_type": "execute_result"
    }
   ],
   "source": [
    "reg_zillow = train[['tax_value', 'area']] \n",
    "#creating dataframe with just the two variables that I am interested in modeling\n",
    "reg_zillow.head()"
   ]
  },
  {
   "cell_type": "markdown",
   "id": "bcca30e6",
   "metadata": {},
   "source": [
    "## Fitting the model"
   ]
  },
  {
   "cell_type": "code",
   "execution_count": 39,
   "id": "e758e39c",
   "metadata": {},
   "outputs": [
    {
     "data": {
      "text/plain": [
       "LinearRegression()"
      ]
     },
     "execution_count": 39,
     "metadata": {},
     "output_type": "execute_result"
    }
   ],
   "source": [
    "\n",
    "\n",
    "zols_model = LinearRegression()\n",
    "\n",
    "zols_model.fit(reg_zillow[['area']], reg_zillow[['tax_value']])"
   ]
  },
  {
   "cell_type": "markdown",
   "id": "87b4268c",
   "metadata": {},
   "source": [
    "## Calculating yhat and SSE"
   ]
  },
  {
   "cell_type": "code",
   "execution_count": 40,
   "id": "d2818925",
   "metadata": {},
   "outputs": [
    {
     "data": {
      "text/html": [
       "<div>\n",
       "<style scoped>\n",
       "    .dataframe tbody tr th:only-of-type {\n",
       "        vertical-align: middle;\n",
       "    }\n",
       "\n",
       "    .dataframe tbody tr th {\n",
       "        vertical-align: top;\n",
       "    }\n",
       "\n",
       "    .dataframe thead th {\n",
       "        text-align: right;\n",
       "    }\n",
       "</style>\n",
       "<table border=\"1\" class=\"dataframe\">\n",
       "  <thead>\n",
       "    <tr style=\"text-align: right;\">\n",
       "      <th></th>\n",
       "      <th>tax_value</th>\n",
       "      <th>area</th>\n",
       "      <th>yhats</th>\n",
       "    </tr>\n",
       "  </thead>\n",
       "  <tbody>\n",
       "    <tr>\n",
       "      <th>553191</th>\n",
       "      <td>0.354295</td>\n",
       "      <td>0.465430</td>\n",
       "      <td>0.247813</td>\n",
       "    </tr>\n",
       "    <tr>\n",
       "      <th>1209132</th>\n",
       "      <td>0.070322</td>\n",
       "      <td>0.452559</td>\n",
       "      <td>0.096864</td>\n",
       "    </tr>\n",
       "    <tr>\n",
       "      <th>174634</th>\n",
       "      <td>0.131035</td>\n",
       "      <td>0.610296</td>\n",
       "      <td>0.129137</td>\n",
       "    </tr>\n",
       "    <tr>\n",
       "      <th>170584</th>\n",
       "      <td>0.250571</td>\n",
       "      <td>0.548638</td>\n",
       "      <td>0.192677</td>\n",
       "    </tr>\n",
       "    <tr>\n",
       "      <th>2001226</th>\n",
       "      <td>0.318694</td>\n",
       "      <td>0.366357</td>\n",
       "      <td>0.228889</td>\n",
       "    </tr>\n",
       "  </tbody>\n",
       "</table>\n",
       "</div>"
      ],
      "text/plain": [
       "         tax_value      area     yhats\n",
       "553191    0.354295  0.465430  0.247813\n",
       "1209132   0.070322  0.452559  0.096864\n",
       "174634    0.131035  0.610296  0.129137\n",
       "170584    0.250571  0.548638  0.192677\n",
       "2001226   0.318694  0.366357  0.228889"
      ]
     },
     "execution_count": 40,
     "metadata": {},
     "output_type": "execute_result"
    }
   ],
   "source": [
    "reg_zillow['yhats'] = zols_model.predict(reg_zillow[['tax_value']]) #these are our model predictions\n",
    "reg_zillow.head()"
   ]
  },
  {
   "cell_type": "code",
   "execution_count": 41,
   "id": "28da6dba",
   "metadata": {},
   "outputs": [
    {
     "data": {
      "text/html": [
       "<div>\n",
       "<style scoped>\n",
       "    .dataframe tbody tr th:only-of-type {\n",
       "        vertical-align: middle;\n",
       "    }\n",
       "\n",
       "    .dataframe tbody tr th {\n",
       "        vertical-align: top;\n",
       "    }\n",
       "\n",
       "    .dataframe thead th {\n",
       "        text-align: right;\n",
       "    }\n",
       "</style>\n",
       "<table border=\"1\" class=\"dataframe\">\n",
       "  <thead>\n",
       "    <tr style=\"text-align: right;\">\n",
       "      <th></th>\n",
       "      <th>tax_value</th>\n",
       "      <th>area</th>\n",
       "      <th>yhats</th>\n",
       "      <th>yhats_res</th>\n",
       "      <th>yhat_res_squared</th>\n",
       "      <th>baseline</th>\n",
       "      <th>baseline_res</th>\n",
       "      <th>baseline_res_squared</th>\n",
       "    </tr>\n",
       "  </thead>\n",
       "  <tbody>\n",
       "    <tr>\n",
       "      <th>553191</th>\n",
       "      <td>0.354295</td>\n",
       "      <td>0.465430</td>\n",
       "      <td>0.247813</td>\n",
       "      <td>-0.106482</td>\n",
       "      <td>0.011338</td>\n",
       "      <td>0.324228</td>\n",
       "      <td>-0.030067</td>\n",
       "      <td>0.000904</td>\n",
       "    </tr>\n",
       "    <tr>\n",
       "      <th>1209132</th>\n",
       "      <td>0.070322</td>\n",
       "      <td>0.452559</td>\n",
       "      <td>0.096864</td>\n",
       "      <td>0.026542</td>\n",
       "      <td>0.000704</td>\n",
       "      <td>0.324228</td>\n",
       "      <td>0.253906</td>\n",
       "      <td>0.064468</td>\n",
       "    </tr>\n",
       "    <tr>\n",
       "      <th>174634</th>\n",
       "      <td>0.131035</td>\n",
       "      <td>0.610296</td>\n",
       "      <td>0.129137</td>\n",
       "      <td>-0.001898</td>\n",
       "      <td>0.000004</td>\n",
       "      <td>0.324228</td>\n",
       "      <td>0.193193</td>\n",
       "      <td>0.037323</td>\n",
       "    </tr>\n",
       "    <tr>\n",
       "      <th>170584</th>\n",
       "      <td>0.250571</td>\n",
       "      <td>0.548638</td>\n",
       "      <td>0.192677</td>\n",
       "      <td>-0.057894</td>\n",
       "      <td>0.003352</td>\n",
       "      <td>0.324228</td>\n",
       "      <td>0.073657</td>\n",
       "      <td>0.005425</td>\n",
       "    </tr>\n",
       "    <tr>\n",
       "      <th>2001226</th>\n",
       "      <td>0.318694</td>\n",
       "      <td>0.366357</td>\n",
       "      <td>0.228889</td>\n",
       "      <td>-0.089805</td>\n",
       "      <td>0.008065</td>\n",
       "      <td>0.324228</td>\n",
       "      <td>0.005533</td>\n",
       "      <td>0.000031</td>\n",
       "    </tr>\n",
       "  </tbody>\n",
       "</table>\n",
       "</div>"
      ],
      "text/plain": [
       "         tax_value      area     yhats  yhats_res  yhat_res_squared  baseline  \\\n",
       "553191    0.354295  0.465430  0.247813  -0.106482          0.011338  0.324228   \n",
       "1209132   0.070322  0.452559  0.096864   0.026542          0.000704  0.324228   \n",
       "174634    0.131035  0.610296  0.129137  -0.001898          0.000004  0.324228   \n",
       "170584    0.250571  0.548638  0.192677  -0.057894          0.003352  0.324228   \n",
       "2001226   0.318694  0.366357  0.228889  -0.089805          0.008065  0.324228   \n",
       "\n",
       "         baseline_res  baseline_res_squared  \n",
       "553191      -0.030067              0.000904  \n",
       "1209132      0.253906              0.064468  \n",
       "174634       0.193193              0.037323  \n",
       "170584       0.073657              0.005425  \n",
       "2001226      0.005533              0.000031  "
      ]
     },
     "execution_count": 41,
     "metadata": {},
     "output_type": "execute_result"
    }
   ],
   "source": [
    "reg_zillow['yhats_res'] = reg_zillow['yhats'] - reg_zillow['tax_value']\n",
    "reg_zillow['yhat_res_squared'] = reg_zillow['yhats_res'] ** 2\n",
    "reg_zillow['baseline'] = reg_zillow['tax_value'].mean()\n",
    "reg_zillow['baseline_res'] = reg_zillow['baseline'] - reg_zillow['tax_value']\n",
    "reg_zillow['baseline_res_squared'] = reg_zillow['baseline_res'] ** 2\n",
    "reg_zillow.head()\n"
   ]
  },
  {
   "cell_type": "code",
   "execution_count": 42,
   "id": "d12d65c9",
   "metadata": {},
   "outputs": [
    {
     "data": {
      "text/plain": [
       "(19356.97399551715, 46102.77398029525)"
      ]
     },
     "execution_count": 42,
     "metadata": {},
     "output_type": "execute_result"
    }
   ],
   "source": [
    "zillow_sse = reg_zillow['yhat_res_squared'].sum()\n",
    "base_sse = reg_zillow['baseline_res_squared'].sum()\n",
    "zillow_sse, base_sse"
   ]
  },
  {
   "cell_type": "markdown",
   "id": "778ddb9b",
   "metadata": {},
   "source": [
    "## Plotting residuals"
   ]
  },
  {
   "cell_type": "code",
   "execution_count": 43,
   "id": "c4057401",
   "metadata": {},
   "outputs": [
    {
     "data": {
      "image/png": "[encoded data removed]",
      "text/plain": [
       "<Figure size 640x480 with 1 Axes>"
      ]
     },
     "metadata": {},
     "output_type": "display_data"
    }
   ],
   "source": [
    "plt.scatter(reg_zillow['area'], reg_zillow['yhats_res'])\n",
    "plt.xlabel('area')\n",
    "plt.ylabel('Predictions residuals')\n",
    "plt.title('Model residuals')\n",
    "plt.show()"
   ]
  },
  {
   "cell_type": "code",
   "execution_count": 44,
   "id": "3932ca95",
   "metadata": {},
   "outputs": [
    {
     "data": {
      "image/png": "[encoded data removed]",
      "text/plain": [
       "<Figure size 640x480 with 1 Axes>"
      ]
     },
     "metadata": {},
     "output_type": "display_data"
    }
   ],
   "source": [
    "plt.scatter(reg_zillow['area'], reg_zillow['baseline_res'])\n",
    "plt.xlabel('area')\n",
    "plt.ylabel('Baseline Residual')\n",
    "plt.title('Baseline residuals')\n",
    "plt.show()\n"
   ]
  },
  {
   "cell_type": "markdown",
   "id": "65e0a6c3",
   "metadata": {},
   "source": [
    "## Calculating mean squared errors "
   ]
  },
  {
   "cell_type": "code",
   "execution_count": 45,
   "id": "f97da5d2",
   "metadata": {},
   "outputs": [
    {
     "data": {
      "text/plain": [
       "(0.04259503061418639, 0.01788419283163886)"
      ]
     },
     "execution_count": 45,
     "metadata": {},
     "output_type": "execute_result"
    }
   ],
   "source": [
    "mse_base = base_sse / len(reg_zillow)\n",
    "mse_yhat = zillow_sse / len(reg_zillow)\n",
    "\n",
    "mse_base , mse_yhat"
   ]
  },
  {
   "cell_type": "markdown",
   "id": "c712ad09",
   "metadata": {},
   "source": [
    "## Calculating Root mean squared errors"
   ]
  },
  {
   "cell_type": "code",
   "execution_count": 46,
   "id": "0828d334",
   "metadata": {},
   "outputs": [
    {
     "data": {
      "text/plain": [
       "(0.2063856356779376, 0.13373179439325136)"
      ]
     },
     "execution_count": 46,
     "metadata": {},
     "output_type": "execute_result"
    }
   ],
   "source": [
    "rmse_base = sqrt(mse_base)\n",
    "rmse_yhat = sqrt(mse_yhat)\n",
    "rmse_base, rmse_yhat"
   ]
  },
  {
   "cell_type": "code",
   "execution_count": 47,
   "id": "0e69f9c9",
   "metadata": {},
   "outputs": [
    {
     "data": {
      "text/plain": [
       "0.2063856356779376"
      ]
     },
     "execution_count": 47,
     "metadata": {},
     "output_type": "execute_result"
    }
   ],
   "source": [
    "sqrt(mean_squared_error(reg_zillow['tax_value'], reg_zillow['baseline']))"
   ]
  },
  {
   "cell_type": "code",
   "execution_count": 48,
   "id": "933857d9",
   "metadata": {},
   "outputs": [
    {
     "data": {
      "text/html": [
       "<div>\n",
       "<style scoped>\n",
       "    .dataframe tbody tr th:only-of-type {\n",
       "        vertical-align: middle;\n",
       "    }\n",
       "\n",
       "    .dataframe tbody tr th {\n",
       "        vertical-align: top;\n",
       "    }\n",
       "\n",
       "    .dataframe thead th {\n",
       "        text-align: right;\n",
       "    }\n",
       "</style>\n",
       "<table border=\"1\" class=\"dataframe\">\n",
       "  <thead>\n",
       "    <tr style=\"text-align: right;\">\n",
       "      <th></th>\n",
       "      <th>tax_value</th>\n",
       "      <th>area</th>\n",
       "      <th>yhats</th>\n",
       "      <th>yhats_res</th>\n",
       "      <th>yhat_res_squared</th>\n",
       "      <th>baseline</th>\n",
       "      <th>baseline_res</th>\n",
       "      <th>baseline_res_squared</th>\n",
       "    </tr>\n",
       "  </thead>\n",
       "  <tbody>\n",
       "    <tr>\n",
       "      <th>553191</th>\n",
       "      <td>0.354295</td>\n",
       "      <td>0.465430</td>\n",
       "      <td>0.247813</td>\n",
       "      <td>-0.106482</td>\n",
       "      <td>0.011338</td>\n",
       "      <td>0.324228</td>\n",
       "      <td>-0.030067</td>\n",
       "      <td>0.000904</td>\n",
       "    </tr>\n",
       "    <tr>\n",
       "      <th>1209132</th>\n",
       "      <td>0.070322</td>\n",
       "      <td>0.452559</td>\n",
       "      <td>0.096864</td>\n",
       "      <td>0.026542</td>\n",
       "      <td>0.000704</td>\n",
       "      <td>0.324228</td>\n",
       "      <td>0.253906</td>\n",
       "      <td>0.064468</td>\n",
       "    </tr>\n",
       "    <tr>\n",
       "      <th>174634</th>\n",
       "      <td>0.131035</td>\n",
       "      <td>0.610296</td>\n",
       "      <td>0.129137</td>\n",
       "      <td>-0.001898</td>\n",
       "      <td>0.000004</td>\n",
       "      <td>0.324228</td>\n",
       "      <td>0.193193</td>\n",
       "      <td>0.037323</td>\n",
       "    </tr>\n",
       "    <tr>\n",
       "      <th>170584</th>\n",
       "      <td>0.250571</td>\n",
       "      <td>0.548638</td>\n",
       "      <td>0.192677</td>\n",
       "      <td>-0.057894</td>\n",
       "      <td>0.003352</td>\n",
       "      <td>0.324228</td>\n",
       "      <td>0.073657</td>\n",
       "      <td>0.005425</td>\n",
       "    </tr>\n",
       "    <tr>\n",
       "      <th>2001226</th>\n",
       "      <td>0.318694</td>\n",
       "      <td>0.366357</td>\n",
       "      <td>0.228889</td>\n",
       "      <td>-0.089805</td>\n",
       "      <td>0.008065</td>\n",
       "      <td>0.324228</td>\n",
       "      <td>0.005533</td>\n",
       "      <td>0.000031</td>\n",
       "    </tr>\n",
       "  </tbody>\n",
       "</table>\n",
       "</div>"
      ],
      "text/plain": [
       "         tax_value      area     yhats  yhats_res  yhat_res_squared  baseline  \\\n",
       "553191    0.354295  0.465430  0.247813  -0.106482          0.011338  0.324228   \n",
       "1209132   0.070322  0.452559  0.096864   0.026542          0.000704  0.324228   \n",
       "174634    0.131035  0.610296  0.129137  -0.001898          0.000004  0.324228   \n",
       "170584    0.250571  0.548638  0.192677  -0.057894          0.003352  0.324228   \n",
       "2001226   0.318694  0.366357  0.228889  -0.089805          0.008065  0.324228   \n",
       "\n",
       "         baseline_res  baseline_res_squared  \n",
       "553191      -0.030067              0.000904  \n",
       "1209132      0.253906              0.064468  \n",
       "174634       0.193193              0.037323  \n",
       "170584       0.073657              0.005425  \n",
       "2001226      0.005533              0.000031  "
      ]
     },
     "execution_count": 48,
     "metadata": {},
     "output_type": "execute_result"
    }
   ],
   "source": [
    "reg_zillow.head()"
   ]
  },
  {
   "cell_type": "markdown",
   "id": "2d1259e8",
   "metadata": {},
   "source": [
    "## Calculating Explained sum of squares"
   ]
  },
  {
   "cell_type": "code",
   "execution_count": 49,
   "id": "76b73467",
   "metadata": {},
   "outputs": [
    {
     "data": {
      "text/plain": [
       "22266.94363715272"
      ]
     },
     "execution_count": 49,
     "metadata": {},
     "output_type": "execute_result"
    }
   ],
   "source": [
    "reg_zillow['yhat_mean_res'] = reg_zillow['yhats'] - reg_zillow['baseline']\n",
    "\n",
    "reg_zillow['yhat_mean_res_squared'] = reg_zillow['yhat_mean_res'] ** 2\n",
    "\n",
    "ess_baseline = 0\n",
    "ess_yhat = reg_zillow['yhat_mean_res_squared'].sum()\n",
    "ess_yhat"
   ]
  },
  {
   "cell_type": "code",
   "execution_count": 50,
   "id": "3806a592",
   "metadata": {},
   "outputs": [
    {
     "data": {
      "text/html": [
       "<div>\n",
       "<style scoped>\n",
       "    .dataframe tbody tr th:only-of-type {\n",
       "        vertical-align: middle;\n",
       "    }\n",
       "\n",
       "    .dataframe tbody tr th {\n",
       "        vertical-align: top;\n",
       "    }\n",
       "\n",
       "    .dataframe thead th {\n",
       "        text-align: right;\n",
       "    }\n",
       "</style>\n",
       "<table border=\"1\" class=\"dataframe\">\n",
       "  <thead>\n",
       "    <tr style=\"text-align: right;\">\n",
       "      <th></th>\n",
       "      <th>tax_value</th>\n",
       "      <th>area</th>\n",
       "      <th>yhats</th>\n",
       "      <th>yhats_res</th>\n",
       "      <th>yhat_res_squared</th>\n",
       "      <th>baseline</th>\n",
       "      <th>baseline_res</th>\n",
       "      <th>baseline_res_squared</th>\n",
       "      <th>yhat_mean_res</th>\n",
       "      <th>yhat_mean_res_squared</th>\n",
       "    </tr>\n",
       "  </thead>\n",
       "  <tbody>\n",
       "    <tr>\n",
       "      <th>553191</th>\n",
       "      <td>0.354295</td>\n",
       "      <td>0.465430</td>\n",
       "      <td>0.247813</td>\n",
       "      <td>-0.106482</td>\n",
       "      <td>0.011338</td>\n",
       "      <td>0.324228</td>\n",
       "      <td>-0.030067</td>\n",
       "      <td>0.000904</td>\n",
       "      <td>-0.076415</td>\n",
       "      <td>0.005839</td>\n",
       "    </tr>\n",
       "    <tr>\n",
       "      <th>1209132</th>\n",
       "      <td>0.070322</td>\n",
       "      <td>0.452559</td>\n",
       "      <td>0.096864</td>\n",
       "      <td>0.026542</td>\n",
       "      <td>0.000704</td>\n",
       "      <td>0.324228</td>\n",
       "      <td>0.253906</td>\n",
       "      <td>0.064468</td>\n",
       "      <td>-0.227364</td>\n",
       "      <td>0.051694</td>\n",
       "    </tr>\n",
       "    <tr>\n",
       "      <th>174634</th>\n",
       "      <td>0.131035</td>\n",
       "      <td>0.610296</td>\n",
       "      <td>0.129137</td>\n",
       "      <td>-0.001898</td>\n",
       "      <td>0.000004</td>\n",
       "      <td>0.324228</td>\n",
       "      <td>0.193193</td>\n",
       "      <td>0.037323</td>\n",
       "      <td>-0.195091</td>\n",
       "      <td>0.038060</td>\n",
       "    </tr>\n",
       "    <tr>\n",
       "      <th>170584</th>\n",
       "      <td>0.250571</td>\n",
       "      <td>0.548638</td>\n",
       "      <td>0.192677</td>\n",
       "      <td>-0.057894</td>\n",
       "      <td>0.003352</td>\n",
       "      <td>0.324228</td>\n",
       "      <td>0.073657</td>\n",
       "      <td>0.005425</td>\n",
       "      <td>-0.131550</td>\n",
       "      <td>0.017306</td>\n",
       "    </tr>\n",
       "    <tr>\n",
       "      <th>2001226</th>\n",
       "      <td>0.318694</td>\n",
       "      <td>0.366357</td>\n",
       "      <td>0.228889</td>\n",
       "      <td>-0.089805</td>\n",
       "      <td>0.008065</td>\n",
       "      <td>0.324228</td>\n",
       "      <td>0.005533</td>\n",
       "      <td>0.000031</td>\n",
       "      <td>-0.095339</td>\n",
       "      <td>0.009089</td>\n",
       "    </tr>\n",
       "  </tbody>\n",
       "</table>\n",
       "</div>"
      ],
      "text/plain": [
       "         tax_value      area     yhats  yhats_res  yhat_res_squared  baseline  \\\n",
       "553191    0.354295  0.465430  0.247813  -0.106482          0.011338  0.324228   \n",
       "1209132   0.070322  0.452559  0.096864   0.026542          0.000704  0.324228   \n",
       "174634    0.131035  0.610296  0.129137  -0.001898          0.000004  0.324228   \n",
       "170584    0.250571  0.548638  0.192677  -0.057894          0.003352  0.324228   \n",
       "2001226   0.318694  0.366357  0.228889  -0.089805          0.008065  0.324228   \n",
       "\n",
       "         baseline_res  baseline_res_squared  yhat_mean_res  \\\n",
       "553191      -0.030067              0.000904      -0.076415   \n",
       "1209132      0.253906              0.064468      -0.227364   \n",
       "174634       0.193193              0.037323      -0.195091   \n",
       "170584       0.073657              0.005425      -0.131550   \n",
       "2001226      0.005533              0.000031      -0.095339   \n",
       "\n",
       "         yhat_mean_res_squared  \n",
       "553191                0.005839  \n",
       "1209132               0.051694  \n",
       "174634                0.038060  \n",
       "170584                0.017306  \n",
       "2001226               0.009089  "
      ]
     },
     "execution_count": 50,
     "metadata": {},
     "output_type": "execute_result"
    }
   ],
   "source": [
    "reg_zillow.head()"
   ]
  },
  {
   "cell_type": "markdown",
   "id": "1efac301",
   "metadata": {},
   "source": [
    "## Calculating total sum of squares"
   ]
  },
  {
   "cell_type": "code",
   "execution_count": 51,
   "id": "7d0b7179",
   "metadata": {},
   "outputs": [
    {
     "data": {
      "text/plain": [
       "46102.77398029525"
      ]
     },
     "execution_count": 51,
     "metadata": {},
     "output_type": "execute_result"
    }
   ],
   "source": [
    "tss_baseline = base_sse + ess_baseline\n",
    "tss_baseline"
   ]
  },
  {
   "cell_type": "code",
   "execution_count": 52,
   "id": "789d8c2f",
   "metadata": {},
   "outputs": [
    {
     "data": {
      "text/plain": [
       "41623.917632669865"
      ]
     },
     "execution_count": 52,
     "metadata": {},
     "output_type": "execute_result"
    }
   ],
   "source": [
    "tss_yhat = zillow_sse + ess_yhat\n",
    "tss_yhat"
   ]
  },
  {
   "cell_type": "code",
   "execution_count": 53,
   "id": "7cb01ca6",
   "metadata": {},
   "outputs": [
    {
     "data": {
      "text/plain": [
       "0.0"
      ]
     },
     "execution_count": 53,
     "metadata": {},
     "output_type": "execute_result"
    }
   ],
   "source": [
    "ess_baseline / tss_baseline"
   ]
  },
  {
   "cell_type": "code",
   "execution_count": 54,
   "id": "fcbe5708",
   "metadata": {},
   "outputs": [
    {
     "data": {
      "text/plain": [
       "0.5349554992314274"
      ]
     },
     "execution_count": 54,
     "metadata": {},
     "output_type": "execute_result"
    }
   ],
   "source": [
    "ess_yhat / tss_yhat"
   ]
  },
  {
   "cell_type": "code",
   "execution_count": 55,
   "id": "90a923ef",
   "metadata": {},
   "outputs": [
    {
     "data": {
      "text/plain": [
       "0.7805635858583906"
      ]
     },
     "execution_count": 55,
     "metadata": {},
     "output_type": "execute_result"
    }
   ],
   "source": [
    "explained_variance_score(reg_zillow['tax_value'], reg_zillow['yhats'])"
   ]
  },
  {
   "cell_type": "code",
   "execution_count": null,
   "id": "1111ccf5",
   "metadata": {},
   "outputs": [],
   "source": []
  }
 ],
 "metadata": {
  "kernelspec": {
   "display_name": "Python 3 (ipykernel)",
   "language": "python",
   "name": "python3"
  },
  "language_info": {
   "codemirror_mode": {
    "name": "ipython",
    "version": 3
   },
   "file_extension": ".py",
   "mimetype": "text/x-python",
   "name": "python",
   "nbconvert_exporter": "python",
   "pygments_lexer": "ipython3",
   "version": "3.9.13"
  }
 },
 "nbformat": 4,
 "nbformat_minor": 5
}
