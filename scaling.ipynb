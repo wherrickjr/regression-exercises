{
 "cells": [
  {
   "cell_type": "code",
   "execution_count": 1,
   "id": "d1a1617d",
   "metadata": {},
   "outputs": [],
   "source": [
    "import pandas as pd\n",
    "import numpy as np\n",
    "import matplotlib.pyplot as plt\n",
    "import seaborn as sns\n",
    "from sklearn.model_selection import train_test_split\n",
    "import wrangle"
   ]
  },
  {
   "cell_type": "code",
   "execution_count": 2,
   "id": "7ce20f83",
   "metadata": {},
   "outputs": [
    {
     "data": {
      "text/html": [
       "<div>\n",
       "<style scoped>\n",
       "    .dataframe tbody tr th:only-of-type {\n",
       "        vertical-align: middle;\n",
       "    }\n",
       "\n",
       "    .dataframe tbody tr th {\n",
       "        vertical-align: top;\n",
       "    }\n",
       "\n",
       "    .dataframe thead th {\n",
       "        text-align: right;\n",
       "    }\n",
       "</style>\n",
       "<table border=\"1\" class=\"dataframe\">\n",
       "  <thead>\n",
       "    <tr style=\"text-align: right;\">\n",
       "      <th></th>\n",
       "      <th>0</th>\n",
       "      <th>1</th>\n",
       "      <th>2</th>\n",
       "      <th>3</th>\n",
       "      <th>4</th>\n",
       "      <th>5</th>\n",
       "      <th>6</th>\n",
       "      <th>7</th>\n",
       "      <th>8</th>\n",
       "    </tr>\n",
       "  </thead>\n",
       "  <tbody>\n",
       "    <tr>\n",
       "      <th>0</th>\n",
       "      <td>18.0</td>\n",
       "      <td>8</td>\n",
       "      <td>307.0</td>\n",
       "      <td>130.0</td>\n",
       "      <td>3504.0</td>\n",
       "      <td>12.0</td>\n",
       "      <td>70</td>\n",
       "      <td>1</td>\n",
       "      <td>\"chevrolet chevelle malibu\"</td>\n",
       "    </tr>\n",
       "    <tr>\n",
       "      <th>1</th>\n",
       "      <td>15.0</td>\n",
       "      <td>8</td>\n",
       "      <td>350.0</td>\n",
       "      <td>165.0</td>\n",
       "      <td>3693.0</td>\n",
       "      <td>11.5</td>\n",
       "      <td>70</td>\n",
       "      <td>1</td>\n",
       "      <td>\"buick skylark 320\"</td>\n",
       "    </tr>\n",
       "    <tr>\n",
       "      <th>2</th>\n",
       "      <td>18.0</td>\n",
       "      <td>8</td>\n",
       "      <td>318.0</td>\n",
       "      <td>150.0</td>\n",
       "      <td>3436.0</td>\n",
       "      <td>11.0</td>\n",
       "      <td>70</td>\n",
       "      <td>1</td>\n",
       "      <td>\"plymouth satellite\"</td>\n",
       "    </tr>\n",
       "    <tr>\n",
       "      <th>3</th>\n",
       "      <td>16.0</td>\n",
       "      <td>8</td>\n",
       "      <td>304.0</td>\n",
       "      <td>150.0</td>\n",
       "      <td>3433.0</td>\n",
       "      <td>12.0</td>\n",
       "      <td>70</td>\n",
       "      <td>1</td>\n",
       "      <td>\"amc rebel sst\"</td>\n",
       "    </tr>\n",
       "    <tr>\n",
       "      <th>4</th>\n",
       "      <td>17.0</td>\n",
       "      <td>8</td>\n",
       "      <td>302.0</td>\n",
       "      <td>140.0</td>\n",
       "      <td>3449.0</td>\n",
       "      <td>10.5</td>\n",
       "      <td>70</td>\n",
       "      <td>1</td>\n",
       "      <td>\"ford torino\"</td>\n",
       "    </tr>\n",
       "  </tbody>\n",
       "</table>\n",
       "</div>"
      ],
      "text/plain": [
       "      0  1      2      3       4     5   6  7                            8\n",
       "0  18.0  8  307.0  130.0  3504.0  12.0  70  1  \"chevrolet chevelle malibu\"\n",
       "1  15.0  8  350.0  165.0  3693.0  11.5  70  1          \"buick skylark 320\"\n",
       "2  18.0  8  318.0  150.0  3436.0  11.0  70  1         \"plymouth satellite\"\n",
       "3  16.0  8  304.0  150.0  3433.0  12.0  70  1              \"amc rebel sst\"\n",
       "4  17.0  8  302.0  140.0  3449.0  10.5  70  1                \"ford torino\""
      ]
     },
     "execution_count": 2,
     "metadata": {},
     "output_type": "execute_result"
    }
   ],
   "source": [
    "df = pd.read_fwf('auto-mpg.data', header=None) #these are notes from class\n",
    "df.head()"
   ]
  },
  {
   "cell_type": "markdown",
   "id": "557ce8b3",
   "metadata": {},
   "source": [
    "1. mpg: continuous\n",
    "2. cylinders: multi-valued discrete\n",
    "3. displacement: continuous\n",
    "4. horsepower: continuous\n",
    "5. weight: continuous\n",
    "6. acceleration: continuous\n",
    "7. model year: multi-valued discrete\n",
    "8. origin: multi-valued discrete\n",
    "9. car name: string (unique for each instance)"
   ]
  },
  {
   "cell_type": "code",
   "execution_count": 3,
   "id": "0c0e5e52",
   "metadata": {},
   "outputs": [
    {
     "data": {
      "text/html": [
       "<div>\n",
       "<style scoped>\n",
       "    .dataframe tbody tr th:only-of-type {\n",
       "        vertical-align: middle;\n",
       "    }\n",
       "\n",
       "    .dataframe tbody tr th {\n",
       "        vertical-align: top;\n",
       "    }\n",
       "\n",
       "    .dataframe thead th {\n",
       "        text-align: right;\n",
       "    }\n",
       "</style>\n",
       "<table border=\"1\" class=\"dataframe\">\n",
       "  <thead>\n",
       "    <tr style=\"text-align: right;\">\n",
       "      <th></th>\n",
       "      <th>mpg</th>\n",
       "      <th>cylinders</th>\n",
       "      <th>displ</th>\n",
       "      <th>horsepower</th>\n",
       "      <th>weight</th>\n",
       "      <th>acceleration</th>\n",
       "      <th>model_year</th>\n",
       "      <th>origin</th>\n",
       "      <th>make_model</th>\n",
       "    </tr>\n",
       "  </thead>\n",
       "  <tbody>\n",
       "    <tr>\n",
       "      <th>0</th>\n",
       "      <td>18.0</td>\n",
       "      <td>8</td>\n",
       "      <td>307.0</td>\n",
       "      <td>130.0</td>\n",
       "      <td>3504.0</td>\n",
       "      <td>12.0</td>\n",
       "      <td>70</td>\n",
       "      <td>1</td>\n",
       "      <td>\"chevrolet chevelle malibu\"</td>\n",
       "    </tr>\n",
       "    <tr>\n",
       "      <th>1</th>\n",
       "      <td>15.0</td>\n",
       "      <td>8</td>\n",
       "      <td>350.0</td>\n",
       "      <td>165.0</td>\n",
       "      <td>3693.0</td>\n",
       "      <td>11.5</td>\n",
       "      <td>70</td>\n",
       "      <td>1</td>\n",
       "      <td>\"buick skylark 320\"</td>\n",
       "    </tr>\n",
       "    <tr>\n",
       "      <th>2</th>\n",
       "      <td>18.0</td>\n",
       "      <td>8</td>\n",
       "      <td>318.0</td>\n",
       "      <td>150.0</td>\n",
       "      <td>3436.0</td>\n",
       "      <td>11.0</td>\n",
       "      <td>70</td>\n",
       "      <td>1</td>\n",
       "      <td>\"plymouth satellite\"</td>\n",
       "    </tr>\n",
       "    <tr>\n",
       "      <th>3</th>\n",
       "      <td>16.0</td>\n",
       "      <td>8</td>\n",
       "      <td>304.0</td>\n",
       "      <td>150.0</td>\n",
       "      <td>3433.0</td>\n",
       "      <td>12.0</td>\n",
       "      <td>70</td>\n",
       "      <td>1</td>\n",
       "      <td>\"amc rebel sst\"</td>\n",
       "    </tr>\n",
       "    <tr>\n",
       "      <th>4</th>\n",
       "      <td>17.0</td>\n",
       "      <td>8</td>\n",
       "      <td>302.0</td>\n",
       "      <td>140.0</td>\n",
       "      <td>3449.0</td>\n",
       "      <td>10.5</td>\n",
       "      <td>70</td>\n",
       "      <td>1</td>\n",
       "      <td>\"ford torino\"</td>\n",
       "    </tr>\n",
       "  </tbody>\n",
       "</table>\n",
       "</div>"
      ],
      "text/plain": [
       "    mpg  cylinders  displ horsepower  weight  acceleration  model_year  \\\n",
       "0  18.0          8  307.0      130.0  3504.0          12.0          70   \n",
       "1  15.0          8  350.0      165.0  3693.0          11.5          70   \n",
       "2  18.0          8  318.0      150.0  3436.0          11.0          70   \n",
       "3  16.0          8  304.0      150.0  3433.0          12.0          70   \n",
       "4  17.0          8  302.0      140.0  3449.0          10.5          70   \n",
       "\n",
       "   origin                   make_model  \n",
       "0       1  \"chevrolet chevelle malibu\"  \n",
       "1       1          \"buick skylark 320\"  \n",
       "2       1         \"plymouth satellite\"  \n",
       "3       1              \"amc rebel sst\"  \n",
       "4       1                \"ford torino\"  "
      ]
     },
     "execution_count": 3,
     "metadata": {},
     "output_type": "execute_result"
    }
   ],
   "source": [
    "df.columns = ['mpg', 'cylinders', 'displ', 'horsepower', 'weight', 'acceleration', #these are notes from class\n",
    "            'model_year', 'origin', 'make_model']\n",
    "df.head()"
   ]
  },
  {
   "cell_type": "code",
   "execution_count": 4,
   "id": "40e1f45c",
   "metadata": {},
   "outputs": [
    {
     "data": {
      "text/plain": [
       "mpg             0\n",
       "cylinders       0\n",
       "displ           0\n",
       "horsepower      0\n",
       "weight          0\n",
       "acceleration    0\n",
       "model_year      0\n",
       "origin          0\n",
       "make_model      0\n",
       "dtype: int64"
      ]
     },
     "execution_count": 4,
     "metadata": {},
     "output_type": "execute_result"
    }
   ],
   "source": [
    "df.isna().sum()#these are notes from class"
   ]
  },
  {
   "cell_type": "code",
   "execution_count": 5,
   "id": "9576c4d5",
   "metadata": {},
   "outputs": [
    {
     "data": {
      "text/plain": [
       "<seaborn.axisgrid.FacetGrid at 0x7ff46bfb7be0>"
      ]
     },
     "execution_count": 5,
     "metadata": {},
     "output_type": "execute_result"
    },
    {
     "data": {
      "image/png": "[encoded data removed]",
      "text/plain": [
       "<Figure size 500x500 with 1 Axes>"
      ]
     },
     "metadata": {},
     "output_type": "display_data"
    }
   ],
   "source": [
    "sns.displot(df['horsepower']) #these are notes from class"
   ]
  },
  {
   "cell_type": "code",
   "execution_count": 6,
   "id": "77d92754",
   "metadata": {},
   "outputs": [],
   "source": [
    "df = df[df['horsepower'] !='?'] #these are notes from class"
   ]
  },
  {
   "cell_type": "code",
   "execution_count": 7,
   "id": "57b2872a",
   "metadata": {},
   "outputs": [],
   "source": [
    "df['horsepower'] = df['horsepower'].astype('float') #these are notes from class"
   ]
  },
  {
   "cell_type": "code",
   "execution_count": 8,
   "id": "fc18654f",
   "metadata": {},
   "outputs": [
    {
     "data": {
      "text/plain": [
       "((274, 9), (118, 9))"
      ]
     },
     "execution_count": 8,
     "metadata": {},
     "output_type": "execute_result"
    }
   ],
   "source": [
    "train, test = train_test_split(df, train_size=0.7, random_state=42)\n",
    "train.shape, test.shape #these are notes from class"
   ]
  },
  {
   "cell_type": "code",
   "execution_count": 9,
   "id": "b41a8a94",
   "metadata": {},
   "outputs": [],
   "source": [
    "from sklearn.preprocessing import MinMaxScaler #these are notes from class"
   ]
  },
  {
   "cell_type": "code",
   "execution_count": 10,
   "id": "019acd19",
   "metadata": {},
   "outputs": [],
   "source": [
    " mm_scaler = MinMaxScaler()#these are notes from class"
   ]
  },
  {
   "cell_type": "code",
   "execution_count": 11,
   "id": "f88e130b",
   "metadata": {},
   "outputs": [
    {
     "data": {
      "text/plain": [
       "MinMaxScaler()"
      ]
     },
     "execution_count": 11,
     "metadata": {},
     "output_type": "execute_result"
    }
   ],
   "source": [
    "mm_scaler.fit(train[['horsepower']])#these are notes from class"
   ]
  },
  {
   "cell_type": "code",
   "execution_count": 12,
   "id": "61360bb8",
   "metadata": {},
   "outputs": [],
   "source": [
    "mm_horsepower = mm_scaler.transform(train[['horsepower']])#these are notes from class"
   ]
  },
  {
   "cell_type": "code",
   "execution_count": 13,
   "id": "803491c7",
   "metadata": {},
   "outputs": [],
   "source": [
    "#these are notes from classtrain['horsepower'].head()"
   ]
  },
  {
   "cell_type": "code",
   "execution_count": 14,
   "id": "0a93e91c",
   "metadata": {},
   "outputs": [
    {
     "data": {
      "text/plain": [
       "array([[0.25274725],\n",
       "       [0.2032967 ],\n",
       "       [0.24175824],\n",
       "       [0.23076923],\n",
       "       [0.28571429]])"
      ]
     },
     "execution_count": 14,
     "metadata": {},
     "output_type": "execute_result"
    }
   ],
   "source": [
    "mm_horsepower[:5] #give first 5 elements but not the 5th index"
   ]
  },
  {
   "cell_type": "code",
   "execution_count": 15,
   "id": "4ab49b44",
   "metadata": {},
   "outputs": [
    {
     "data": {
      "image/png": "[encoded data removed]",
      "text/plain": [
       "<Figure size 558.875x500 with 1 Axes>"
      ]
     },
     "metadata": {},
     "output_type": "display_data"
    }
   ],
   "source": [
    "sns.displot(mm_horsepower)\n",
    "plt.show()#these are notes from class\n"
   ]
  },
  {
   "cell_type": "markdown",
   "id": "aa728baa",
   "metadata": {},
   "source": [
    "# Standard Scaling"
   ]
  },
  {
   "cell_type": "code",
   "execution_count": 16,
   "id": "bd814048",
   "metadata": {},
   "outputs": [],
   "source": [
    "from sklearn.preprocessing import StandardScaler#these are notes from class"
   ]
  },
  {
   "cell_type": "code",
   "execution_count": 17,
   "id": "d8a6c068",
   "metadata": {},
   "outputs": [],
   "source": [
    "ss_scaler = StandardScaler()#these are notes from class"
   ]
  },
  {
   "cell_type": "code",
   "execution_count": 18,
   "id": "7f6ae4bb",
   "metadata": {},
   "outputs": [
    {
     "data": {
      "text/plain": [
       "StandardScaler()"
      ]
     },
     "execution_count": 18,
     "metadata": {},
     "output_type": "execute_result"
    }
   ],
   "source": [
    "ss_scaler.fit(train[['horsepower']])#these are notes from class"
   ]
  },
  {
   "cell_type": "code",
   "execution_count": 19,
   "id": "02a460fc",
   "metadata": {},
   "outputs": [],
   "source": [
    "ss_horsepower = ss_scaler.transform(train[['horsepower']])#these are notes from class"
   ]
  },
  {
   "cell_type": "code",
   "execution_count": 20,
   "id": "54fa2c36",
   "metadata": {},
   "outputs": [
    {
     "data": {
      "image/png": "[encoded data removed]",
      "text/plain": [
       "<Figure size 640x480 with 2 Axes>"
      ]
     },
     "metadata": {},
     "output_type": "display_data"
    }
   ],
   "source": [
    "plt.subplot(121)\n",
    "plt.hist(train['horsepower'], bins=25)\n",
    "plt.title('Original data')\n",
    "\n",
    "plt.subplot(122)\n",
    "plt.hist(ss_horsepower)\n",
    "plt.title('Transformed data')\n",
    "plt.show()#these are notes from class"
   ]
  },
  {
   "cell_type": "code",
   "execution_count": 21,
   "id": "f51aebae",
   "metadata": {},
   "outputs": [],
   "source": [
    "def compare_plots(transformed_data, original_data=train['horsepower']):\n",
    "    plt.subplot(121)\n",
    "    plt.hist(train['horsepower'], bins=25)\n",
    "    plt.title('Original data')\n",
    "\n",
    "    plt.subplot(122)\n",
    "    plt.hist(ss_horsepower)\n",
    "    plt.title('Transformed data')\n",
    "    plt.show()#these are notes from class"
   ]
  },
  {
   "cell_type": "markdown",
   "id": "1900ca2d",
   "metadata": {},
   "source": [
    "# Robust Scaling"
   ]
  },
  {
   "cell_type": "code",
   "execution_count": 22,
   "id": "6280f662",
   "metadata": {},
   "outputs": [],
   "source": [
    "from sklearn.preprocessing import RobustScaler#these are notes from class"
   ]
  },
  {
   "cell_type": "code",
   "execution_count": 23,
   "id": "ae7c4834",
   "metadata": {},
   "outputs": [],
   "source": [
    "rs_scaler = RobustScaler()#these are notes from class"
   ]
  },
  {
   "cell_type": "code",
   "execution_count": 24,
   "id": "2829c80c",
   "metadata": {},
   "outputs": [
    {
     "data": {
      "text/plain": [
       "RobustScaler()"
      ]
     },
     "execution_count": 24,
     "metadata": {},
     "output_type": "execute_result"
    }
   ],
   "source": [
    "rs_scaler.fit(df[['horsepower']])#these are notes from class"
   ]
  },
  {
   "cell_type": "code",
   "execution_count": 25,
   "id": "d3ec5e1d",
   "metadata": {},
   "outputs": [],
   "source": [
    "rs_horsepower = rs_scaler.transform(train[['horsepower']])#these are notes from class"
   ]
  },
  {
   "cell_type": "code",
   "execution_count": 26,
   "id": "80883f50",
   "metadata": {},
   "outputs": [
    {
     "data": {
      "image/png": "[encoded data removed]",
      "text/plain": [
       "<Figure size 640x480 with 2 Axes>"
      ]
     },
     "metadata": {},
     "output_type": "display_data"
    }
   ],
   "source": [
    "compare_plots(rs_horsepower)#these are notes from class"
   ]
  },
  {
   "cell_type": "code",
   "execution_count": 27,
   "id": "9287d39f",
   "metadata": {},
   "outputs": [
    {
     "data": {
      "text/plain": [
       "RobustScaler()"
      ]
     },
     "execution_count": 27,
     "metadata": {},
     "output_type": "execute_result"
    }
   ],
   "source": [
    "rs_scaler.fit(train[['horsepower', 'weight']])#these are notes from class"
   ]
  },
  {
   "cell_type": "code",
   "execution_count": 28,
   "id": "9a6901a9",
   "metadata": {},
   "outputs": [
    {
     "data": {
      "text/plain": [
       "array([[ 0.00930233, -0.31836291],\n",
       "       [-0.15813953, -0.16769286],\n",
       "       [-0.02790698, -0.27852227],\n",
       "       [-0.06511628, -0.12350598],\n",
       "       [ 0.12093023,  0.37486418],\n",
       "       [-0.4744186 , -0.61463238],\n",
       "       [ 0.02790698, -0.09018472],\n",
       "       [-0.10232558, -0.05686346],\n",
       "       [-0.77209302, -0.56754799],\n",
       "       [-0.28837209, -0.45526983]])"
      ]
     },
     "execution_count": 28,
     "metadata": {},
     "output_type": "execute_result"
    }
   ],
   "source": [
    "double_trouble = rs_scaler.transform(train[['horsepower', 'weight']])#these are notes from class\n",
    "double_trouble[:10]"
   ]
  },
  {
   "cell_type": "code",
   "execution_count": 29,
   "id": "c53e6805",
   "metadata": {},
   "outputs": [
    {
     "data": {
      "text/plain": [
       "array([[ 0.00980392],\n",
       "       [-0.16666667],\n",
       "       [-0.02941176],\n",
       "       [-0.06862745],\n",
       "       [ 0.12745098],\n",
       "       [-0.5       ],\n",
       "       [ 0.02941176],\n",
       "       [-0.10784314],\n",
       "       [-0.81372549],\n",
       "       [-0.30392157]])"
      ]
     },
     "execution_count": 29,
     "metadata": {},
     "output_type": "execute_result"
    }
   ],
   "source": [
    "rs_horsepower[:10]#these are notes from class"
   ]
  },
  {
   "cell_type": "markdown",
   "id": "71db4d5c",
   "metadata": {},
   "source": [
    "# Start of Exercises"
   ]
  },
  {
   "cell_type": "markdown",
   "id": "64023a02",
   "metadata": {},
   "source": [
    "### Showing the scaled and unscaled "
   ]
  },
  {
   "cell_type": "code",
   "execution_count": 30,
   "id": "7cf807fe",
   "metadata": {},
   "outputs": [],
   "source": [
    "df = wrangle.get_zillow_data()"
   ]
  },
  {
   "cell_type": "code",
   "execution_count": 31,
   "id": "cca65a0c",
   "metadata": {},
   "outputs": [],
   "source": [
    "train, validate, test = wrangle.wrangle_zillow()"
   ]
  },
  {
   "cell_type": "code",
   "execution_count": 32,
   "id": "a983df1c",
   "metadata": {},
   "outputs": [
    {
     "name": "stdout",
     "output_type": "stream",
     "text": [
      "<class 'pandas.core.frame.DataFrame'>\n",
      "Int64Index: 1192919 entries, 553191 to 1333156\n",
      "Data columns (total 7 columns):\n",
      " #   Column      Non-Null Count    Dtype  \n",
      "---  ------      --------------    -----  \n",
      " 0   bedrooms    1192919 non-null  float64\n",
      " 1   bathrooms   1192919 non-null  float64\n",
      " 2   area        1192919 non-null  float64\n",
      " 3   tax_value   1192919 non-null  float64\n",
      " 4   year_built  1192919 non-null  float64\n",
      " 5   taxamount   1192919 non-null  float64\n",
      " 6   fips        1192919 non-null  float64\n",
      "dtypes: float64(7)\n",
      "memory usage: 72.8 MB\n"
     ]
    }
   ],
   "source": [
    "train.info()"
   ]
  },
  {
   "cell_type": "code",
   "execution_count": 53,
   "id": "d14dceab",
   "metadata": {},
   "outputs": [
    {
     "data": {
      "image/png": "[encoded data removed]",
      "text/plain": [
       "<Figure size 640x480 with 1 Axes>"
      ]
     },
     "metadata": {},
     "output_type": "display_data"
    }
   ],
   "source": [
    "sns.histplot(test['tax_value'])\n",
    "plt.xlim(0,6000000)\n",
    "plt.show()"
   ]
  },
  {
   "cell_type": "code",
   "execution_count": 54,
   "id": "4d761495",
   "metadata": {},
   "outputs": [
    {
     "data": {
      "image/png": "[encoded data removed]",
      "text/plain": [
       "<Figure size 640x480 with 1 Axes>"
      ]
     },
     "metadata": {},
     "output_type": "display_data"
    }
   ],
   "source": [
    "\n",
    "rs_scaler = RobustScaler()#these are notes from class\n",
    "rs_scaler.fit(test[['tax_value']])#these are notes from class\n",
    "rs_tax_value = rs_scaler.transform(test[['tax_value']])#these are notes from class\n",
    "sns.histplot(rs_tax_value)\n",
    "plt.xlim(-1,6)\n",
    "plt.show()"
   ]
  },
  {
   "cell_type": "code",
   "execution_count": 36,
   "id": "75d9fc75",
   "metadata": {},
   "outputs": [],
   "source": [
    "taxes = test['tax_value']"
   ]
  },
  {
   "cell_type": "code",
   "execution_count": 37,
   "id": "b391b223",
   "metadata": {},
   "outputs": [],
   "source": [
    "taxes_adjusted = taxes[taxes.between(taxes.quantile(.05), taxes.quantile(.95))] "
   ]
  },
  {
   "cell_type": "code",
   "execution_count": 38,
   "id": "70c836cb",
   "metadata": {},
   "outputs": [
    {
     "data": {
      "image/png": "[encoded data removed]",
      "text/plain": [
       "<Figure size 640x480 with 1 Axes>"
      ]
     },
     "metadata": {},
     "output_type": "display_data"
    }
   ],
   "source": [
    "sns.histplot(taxes_adjusted)\n",
    "plt.show()"
   ]
  },
  {
   "cell_type": "code",
   "execution_count": null,
   "id": "287802ef",
   "metadata": {},
   "outputs": [],
   "source": []
  }
 ],
 "metadata": {
  "kernelspec": {
   "display_name": "Python 3 (ipykernel)",
   "language": "python",
   "name": "python3"
  },
  "language_info": {
   "codemirror_mode": {
    "name": "ipython",
    "version": 3
   },
   "file_extension": ".py",
   "mimetype": "text/x-python",
   "name": "python",
   "nbconvert_exporter": "python",
   "pygments_lexer": "ipython3",
   "version": "3.9.13"
  }
 },
 "nbformat": 4,
 "nbformat_minor": 5
}
