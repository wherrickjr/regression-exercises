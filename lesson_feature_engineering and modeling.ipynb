{
 "cells": [
  {
   "cell_type": "code",
   "execution_count": 118,
   "id": "c4b1e73c",
   "metadata": {},
   "outputs": [],
   "source": [
    "import pandas as pd\n",
    "import numpy as np\n",
    "import matplotlib.pyplot as plt\n",
    "import seaborn as sns\n",
    "from sklearn.model_selection import train_test_split\n",
    "from sklearn.preprocessing import RobustScaler\n",
    "from sklearn.preprocessing import QuantileTransformer\n",
    "from sklearn.preprocessing import MinMaxScaler\n",
    "from sklearn.preprocessing import StandardScaler\n",
    "from sklearn.feature_selection import SelectKBest, f_regression\n",
    "from sklearn.linear_model import LinearRegression\n",
    "from sklearn.feature_selection import RFE\n",
    "from sklearn.metrics import mean_squared_error\n",
    "from sklearn.linear_model import LassoLars\n",
    "from sklearn.preprocessing import PolynomialFeatures\n",
    "from sklearn.linear_model import TweedieRegressor\n",
    "from math import sqrt\n",
    "\n",
    "\n",
    "from env import get_connection\n",
    "import wrangle_zillow\n",
    "import prepare\n",
    "from regprepare import get_auto_mpg, train_val_test\n",
    "\n",
    "# turn off pink boxes for demo\n",
    "import warnings\n",
    "warnings.filterwarnings(\"ignore\")"
   ]
  },
  {
   "cell_type": "code",
   "execution_count": 2,
   "id": "0628b55f",
   "metadata": {},
   "outputs": [],
   "source": [
    "df = get_auto_mpg()"
   ]
  },
  {
   "cell_type": "code",
   "execution_count": 3,
   "id": "abb2bb62",
   "metadata": {},
   "outputs": [
    {
     "data": {
      "text/html": [
       "<div>\n",
       "<style scoped>\n",
       "    .dataframe tbody tr th:only-of-type {\n",
       "        vertical-align: middle;\n",
       "    }\n",
       "\n",
       "    .dataframe tbody tr th {\n",
       "        vertical-align: top;\n",
       "    }\n",
       "\n",
       "    .dataframe thead th {\n",
       "        text-align: right;\n",
       "    }\n",
       "</style>\n",
       "<table border=\"1\" class=\"dataframe\">\n",
       "  <thead>\n",
       "    <tr style=\"text-align: right;\">\n",
       "      <th></th>\n",
       "      <th>mpg</th>\n",
       "      <th>cylinders</th>\n",
       "      <th>displ</th>\n",
       "      <th>horsepower</th>\n",
       "      <th>weight</th>\n",
       "      <th>acc</th>\n",
       "      <th>model_year</th>\n",
       "      <th>origin</th>\n",
       "      <th>name</th>\n",
       "    </tr>\n",
       "  </thead>\n",
       "  <tbody>\n",
       "    <tr>\n",
       "      <th>0</th>\n",
       "      <td>18.0</td>\n",
       "      <td>8</td>\n",
       "      <td>307.0</td>\n",
       "      <td>130.0</td>\n",
       "      <td>3504.0</td>\n",
       "      <td>12.0</td>\n",
       "      <td>70</td>\n",
       "      <td>1</td>\n",
       "      <td>\"chevrolet chevelle malibu\"</td>\n",
       "    </tr>\n",
       "    <tr>\n",
       "      <th>1</th>\n",
       "      <td>15.0</td>\n",
       "      <td>8</td>\n",
       "      <td>350.0</td>\n",
       "      <td>165.0</td>\n",
       "      <td>3693.0</td>\n",
       "      <td>11.5</td>\n",
       "      <td>70</td>\n",
       "      <td>1</td>\n",
       "      <td>\"buick skylark 320\"</td>\n",
       "    </tr>\n",
       "    <tr>\n",
       "      <th>2</th>\n",
       "      <td>18.0</td>\n",
       "      <td>8</td>\n",
       "      <td>318.0</td>\n",
       "      <td>150.0</td>\n",
       "      <td>3436.0</td>\n",
       "      <td>11.0</td>\n",
       "      <td>70</td>\n",
       "      <td>1</td>\n",
       "      <td>\"plymouth satellite\"</td>\n",
       "    </tr>\n",
       "    <tr>\n",
       "      <th>3</th>\n",
       "      <td>16.0</td>\n",
       "      <td>8</td>\n",
       "      <td>304.0</td>\n",
       "      <td>150.0</td>\n",
       "      <td>3433.0</td>\n",
       "      <td>12.0</td>\n",
       "      <td>70</td>\n",
       "      <td>1</td>\n",
       "      <td>\"amc rebel sst\"</td>\n",
       "    </tr>\n",
       "    <tr>\n",
       "      <th>4</th>\n",
       "      <td>17.0</td>\n",
       "      <td>8</td>\n",
       "      <td>302.0</td>\n",
       "      <td>140.0</td>\n",
       "      <td>3449.0</td>\n",
       "      <td>10.5</td>\n",
       "      <td>70</td>\n",
       "      <td>1</td>\n",
       "      <td>\"ford torino\"</td>\n",
       "    </tr>\n",
       "  </tbody>\n",
       "</table>\n",
       "</div>"
      ],
      "text/plain": [
       "    mpg  cylinders  displ  horsepower  weight   acc  model_year  origin  \\\n",
       "0  18.0          8  307.0       130.0  3504.0  12.0          70       1   \n",
       "1  15.0          8  350.0       165.0  3693.0  11.5          70       1   \n",
       "2  18.0          8  318.0       150.0  3436.0  11.0          70       1   \n",
       "3  16.0          8  304.0       150.0  3433.0  12.0          70       1   \n",
       "4  17.0          8  302.0       140.0  3449.0  10.5          70       1   \n",
       "\n",
       "                          name  \n",
       "0  \"chevrolet chevelle malibu\"  \n",
       "1          \"buick skylark 320\"  \n",
       "2         \"plymouth satellite\"  \n",
       "3              \"amc rebel sst\"  \n",
       "4                \"ford torino\"  "
      ]
     },
     "execution_count": 3,
     "metadata": {},
     "output_type": "execute_result"
    }
   ],
   "source": [
    "df.head()"
   ]
  },
  {
   "cell_type": "code",
   "execution_count": 4,
   "id": "d69c7146",
   "metadata": {},
   "outputs": [
    {
     "data": {
      "text/plain": [
       "((235, 9), (78, 9), (79, 9))"
      ]
     },
     "execution_count": 4,
     "metadata": {},
     "output_type": "execute_result"
    }
   ],
   "source": [
    "train, val, test = train_val_test(df)\n",
    "train.shape, val.shape, test.shape"
   ]
  },
  {
   "cell_type": "code",
   "execution_count": 5,
   "id": "046f9f91",
   "metadata": {},
   "outputs": [
    {
     "data": {
      "text/html": [
       "<div>\n",
       "<style scoped>\n",
       "    .dataframe tbody tr th:only-of-type {\n",
       "        vertical-align: middle;\n",
       "    }\n",
       "\n",
       "    .dataframe tbody tr th {\n",
       "        vertical-align: top;\n",
       "    }\n",
       "\n",
       "    .dataframe thead th {\n",
       "        text-align: right;\n",
       "    }\n",
       "</style>\n",
       "<table border=\"1\" class=\"dataframe\">\n",
       "  <thead>\n",
       "    <tr style=\"text-align: right;\">\n",
       "      <th></th>\n",
       "      <th>mpg</th>\n",
       "      <th>cylinders</th>\n",
       "      <th>displ</th>\n",
       "      <th>horsepower</th>\n",
       "      <th>weight</th>\n",
       "      <th>acc</th>\n",
       "      <th>model_year</th>\n",
       "      <th>origin</th>\n",
       "      <th>name</th>\n",
       "    </tr>\n",
       "  </thead>\n",
       "  <tbody>\n",
       "    <tr>\n",
       "      <th>212</th>\n",
       "      <td>16.5</td>\n",
       "      <td>8</td>\n",
       "      <td>0.727273</td>\n",
       "      <td>0.725275</td>\n",
       "      <td>0.784519</td>\n",
       "      <td>0.244048</td>\n",
       "      <td>76</td>\n",
       "      <td>1</td>\n",
       "      <td>\"cadillac seville\"</td>\n",
       "    </tr>\n",
       "    <tr>\n",
       "      <th>346</th>\n",
       "      <td>32.3</td>\n",
       "      <td>4</td>\n",
       "      <td>0.070130</td>\n",
       "      <td>0.104396</td>\n",
       "      <td>0.128154</td>\n",
       "      <td>0.583333</td>\n",
       "      <td>81</td>\n",
       "      <td>3</td>\n",
       "      <td>\"subaru\"</td>\n",
       "    </tr>\n",
       "    <tr>\n",
       "      <th>325</th>\n",
       "      <td>44.3</td>\n",
       "      <td>4</td>\n",
       "      <td>0.051948</td>\n",
       "      <td>0.000000</td>\n",
       "      <td>0.133825</td>\n",
       "      <td>0.815476</td>\n",
       "      <td>80</td>\n",
       "      <td>2</td>\n",
       "      <td>\"vw rabbit c (diesel)\"</td>\n",
       "    </tr>\n",
       "    <tr>\n",
       "      <th>90</th>\n",
       "      <td>12.0</td>\n",
       "      <td>8</td>\n",
       "      <td>0.932468</td>\n",
       "      <td>0.824176</td>\n",
       "      <td>0.946697</td>\n",
       "      <td>0.208333</td>\n",
       "      <td>73</td>\n",
       "      <td>1</td>\n",
       "      <td>\"mercury marquis brougham\"</td>\n",
       "    </tr>\n",
       "    <tr>\n",
       "      <th>246</th>\n",
       "      <td>32.8</td>\n",
       "      <td>4</td>\n",
       "      <td>0.020779</td>\n",
       "      <td>0.021978</td>\n",
       "      <td>0.105472</td>\n",
       "      <td>0.678571</td>\n",
       "      <td>78</td>\n",
       "      <td>3</td>\n",
       "      <td>\"mazda glc deluxe\"</td>\n",
       "    </tr>\n",
       "  </tbody>\n",
       "</table>\n",
       "</div>"
      ],
      "text/plain": [
       "      mpg  cylinders     displ  horsepower    weight       acc  model_year  \\\n",
       "212  16.5          8  0.727273    0.725275  0.784519  0.244048          76   \n",
       "346  32.3          4  0.070130    0.104396  0.128154  0.583333          81   \n",
       "325  44.3          4  0.051948    0.000000  0.133825  0.815476          80   \n",
       "90   12.0          8  0.932468    0.824176  0.946697  0.208333          73   \n",
       "246  32.8          4  0.020779    0.021978  0.105472  0.678571          78   \n",
       "\n",
       "     origin                        name  \n",
       "212       1          \"cadillac seville\"  \n",
       "346       3                    \"subaru\"  \n",
       "325       2      \"vw rabbit c (diesel)\"  \n",
       "90        1  \"mercury marquis brougham\"  \n",
       "246       3          \"mazda glc deluxe\"  "
      ]
     },
     "execution_count": 5,
     "metadata": {},
     "output_type": "execute_result"
    }
   ],
   "source": [
    "mms = MinMaxScaler()\n",
    "# This reassigns the scaled versions into the dataframe by replacing the old numbers\n",
    "train[['displ', 'horsepower', 'weight', 'acc']] = mms.fit_transform(train[['displ', 'horsepower', 'weight', 'acc']])\n",
    "\n",
    "train.head()"
   ]
  },
  {
   "cell_type": "markdown",
   "id": "5a0157e2",
   "metadata": {},
   "source": [
    "#### Select K Best uses a statisitcal test to find to best \"predicting\" power features that will best find the target variable"
   ]
  },
  {
   "cell_type": "code",
   "execution_count": 6,
   "id": "d475fbb7",
   "metadata": {},
   "outputs": [],
   "source": [
    "X_train_scaled = train[['displ', 'horsepower', 'weight', 'acc']]\n",
    "y_train = train['mpg']"
   ]
  },
  {
   "cell_type": "code",
   "execution_count": 7,
   "id": "954b0ca6",
   "metadata": {},
   "outputs": [
    {
     "data": {
      "text/html": [
       "<style>#sk-container-id-1 {color: black;background-color: white;}#sk-container-id-1 pre{padding: 0;}#sk-container-id-1 div.sk-toggleable {background-color: white;}#sk-container-id-1 label.sk-toggleable__label {cursor: pointer;display: block;width: 100%;margin-bottom: 0;padding: 0.3em;box-sizing: border-box;text-align: center;}#sk-container-id-1 label.sk-toggleable__label-arrow:before {content: \"▸\";float: left;margin-right: 0.25em;color: #696969;}#sk-container-id-1 label.sk-toggleable__label-arrow:hover:before {color: black;}#sk-container-id-1 div.sk-estimator:hover label.sk-toggleable__label-arrow:before {color: black;}#sk-container-id-1 div.sk-toggleable__content {max-height: 0;max-width: 0;overflow: hidden;text-align: left;background-color: #f0f8ff;}#sk-container-id-1 div.sk-toggleable__content pre {margin: 0.2em;color: black;border-radius: 0.25em;background-color: #f0f8ff;}#sk-container-id-1 input.sk-toggleable__control:checked~div.sk-toggleable__content {max-height: 200px;max-width: 100%;overflow: auto;}#sk-container-id-1 input.sk-toggleable__control:checked~label.sk-toggleable__label-arrow:before {content: \"▾\";}#sk-container-id-1 div.sk-estimator input.sk-toggleable__control:checked~label.sk-toggleable__label {background-color: #d4ebff;}#sk-container-id-1 div.sk-label input.sk-toggleable__control:checked~label.sk-toggleable__label {background-color: #d4ebff;}#sk-container-id-1 input.sk-hidden--visually {border: 0;clip: rect(1px 1px 1px 1px);clip: rect(1px, 1px, 1px, 1px);height: 1px;margin: -1px;overflow: hidden;padding: 0;position: absolute;width: 1px;}#sk-container-id-1 div.sk-estimator {font-family: monospace;background-color: #f0f8ff;border: 1px dotted black;border-radius: 0.25em;box-sizing: border-box;margin-bottom: 0.5em;}#sk-container-id-1 div.sk-estimator:hover {background-color: #d4ebff;}#sk-container-id-1 div.sk-parallel-item::after {content: \"\";width: 100%;border-bottom: 1px solid gray;flex-grow: 1;}#sk-container-id-1 div.sk-label:hover label.sk-toggleable__label {background-color: #d4ebff;}#sk-container-id-1 div.sk-serial::before {content: \"\";position: absolute;border-left: 1px solid gray;box-sizing: border-box;top: 0;bottom: 0;left: 50%;z-index: 0;}#sk-container-id-1 div.sk-serial {display: flex;flex-direction: column;align-items: center;background-color: white;padding-right: 0.2em;padding-left: 0.2em;position: relative;}#sk-container-id-1 div.sk-item {position: relative;z-index: 1;}#sk-container-id-1 div.sk-parallel {display: flex;align-items: stretch;justify-content: center;background-color: white;position: relative;}#sk-container-id-1 div.sk-item::before, #sk-container-id-1 div.sk-parallel-item::before {content: \"\";position: absolute;border-left: 1px solid gray;box-sizing: border-box;top: 0;bottom: 0;left: 50%;z-index: -1;}#sk-container-id-1 div.sk-parallel-item {display: flex;flex-direction: column;z-index: 1;position: relative;background-color: white;}#sk-container-id-1 div.sk-parallel-item:first-child::after {align-self: flex-end;width: 50%;}#sk-container-id-1 div.sk-parallel-item:last-child::after {align-self: flex-start;width: 50%;}#sk-container-id-1 div.sk-parallel-item:only-child::after {width: 0;}#sk-container-id-1 div.sk-dashed-wrapped {border: 1px dashed gray;margin: 0 0.4em 0.5em 0.4em;box-sizing: border-box;padding-bottom: 0.4em;background-color: white;}#sk-container-id-1 div.sk-label label {font-family: monospace;font-weight: bold;display: inline-block;line-height: 1.2em;}#sk-container-id-1 div.sk-label-container {text-align: center;}#sk-container-id-1 div.sk-container {/* jupyter's `normalize.less` sets `[hidden] { display: none; }` but bootstrap.min.css set `[hidden] { display: none !important; }` so we also need the `!important` here to be able to override the default hidden behavior on the sphinx rendered scikit-learn.org. See: https://github.com/scikit-learn/scikit-learn/issues/21755 */display: inline-block !important;position: relative;}#sk-container-id-1 div.sk-text-repr-fallback {display: none;}</style><div id=\"sk-container-id-1\" class=\"sk-top-container\"><div class=\"sk-text-repr-fallback\"><pre>SelectKBest(k=2, score_func=&lt;function f_regression at 0x1389e1af0&gt;)</pre><b>In a Jupyter environment, please rerun this cell to show the HTML representation or trust the notebook. <br />On GitHub, the HTML representation is unable to render, please try loading this page with nbviewer.org.</b></div><div class=\"sk-container\" hidden><div class=\"sk-item\"><div class=\"sk-estimator sk-toggleable\"><input class=\"sk-toggleable__control sk-hidden--visually\" id=\"sk-estimator-id-1\" type=\"checkbox\" checked><label for=\"sk-estimator-id-1\" class=\"sk-toggleable__label sk-toggleable__label-arrow\">SelectKBest</label><div class=\"sk-toggleable__content\"><pre>SelectKBest(k=2, score_func=&lt;function f_regression at 0x1389e1af0&gt;)</pre></div></div></div></div></div>"
      ],
      "text/plain": [
       "SelectKBest(k=2, score_func=<function f_regression at 0x1389e1af0>)"
      ]
     },
     "execution_count": 7,
     "metadata": {},
     "output_type": "execute_result"
    }
   ],
   "source": [
    "f_selector = SelectKBest(f_regression, k = 2)\n",
    "\n",
    "f_selector.fit(X_train_scaled, y_train)"
   ]
  },
  {
   "cell_type": "code",
   "execution_count": 8,
   "id": "3d2627b7",
   "metadata": {},
   "outputs": [],
   "source": [
    "f_select_mask = f_selector.get_support()"
   ]
  },
  {
   "cell_type": "code",
   "execution_count": 9,
   "id": "5a94f0a1",
   "metadata": {},
   "outputs": [
    {
     "data": {
      "text/plain": [
       "Index(['displ', 'weight'], dtype='object')"
      ]
     },
     "execution_count": 9,
     "metadata": {},
     "output_type": "execute_result"
    }
   ],
   "source": [
    "X_train_scaled.columns[f_select_mask]"
   ]
  },
  {
   "cell_type": "code",
   "execution_count": 10,
   "id": "6a9c0f28",
   "metadata": {},
   "outputs": [
    {
     "data": {
      "text/html": [
       "<div>\n",
       "<style scoped>\n",
       "    .dataframe tbody tr th:only-of-type {\n",
       "        vertical-align: middle;\n",
       "    }\n",
       "\n",
       "    .dataframe tbody tr th {\n",
       "        vertical-align: top;\n",
       "    }\n",
       "\n",
       "    .dataframe thead th {\n",
       "        text-align: right;\n",
       "    }\n",
       "</style>\n",
       "<table border=\"1\" class=\"dataframe\">\n",
       "  <thead>\n",
       "    <tr style=\"text-align: right;\">\n",
       "      <th></th>\n",
       "      <th>displ</th>\n",
       "      <th>weight</th>\n",
       "    </tr>\n",
       "  </thead>\n",
       "  <tbody>\n",
       "    <tr>\n",
       "      <th>212</th>\n",
       "      <td>0.727273</td>\n",
       "      <td>0.784519</td>\n",
       "    </tr>\n",
       "    <tr>\n",
       "      <th>346</th>\n",
       "      <td>0.070130</td>\n",
       "      <td>0.128154</td>\n",
       "    </tr>\n",
       "    <tr>\n",
       "      <th>325</th>\n",
       "      <td>0.051948</td>\n",
       "      <td>0.133825</td>\n",
       "    </tr>\n",
       "    <tr>\n",
       "      <th>90</th>\n",
       "      <td>0.932468</td>\n",
       "      <td>0.946697</td>\n",
       "    </tr>\n",
       "    <tr>\n",
       "      <th>246</th>\n",
       "      <td>0.020779</td>\n",
       "      <td>0.105472</td>\n",
       "    </tr>\n",
       "    <tr>\n",
       "      <th>...</th>\n",
       "      <td>...</td>\n",
       "      <td>...</td>\n",
       "    </tr>\n",
       "    <tr>\n",
       "      <th>72</th>\n",
       "      <td>0.607792</td>\n",
       "      <td>0.646158</td>\n",
       "    </tr>\n",
       "    <tr>\n",
       "      <th>107</th>\n",
       "      <td>0.420779</td>\n",
       "      <td>0.333428</td>\n",
       "    </tr>\n",
       "    <tr>\n",
       "      <th>272</th>\n",
       "      <td>0.210390</td>\n",
       "      <td>0.352141</td>\n",
       "    </tr>\n",
       "    <tr>\n",
       "      <th>352</th>\n",
       "      <td>0.072727</td>\n",
       "      <td>0.217465</td>\n",
       "    </tr>\n",
       "    <tr>\n",
       "      <th>103</th>\n",
       "      <td>0.857143</td>\n",
       "      <td>0.959456</td>\n",
       "    </tr>\n",
       "  </tbody>\n",
       "</table>\n",
       "<p>235 rows × 2 columns</p>\n",
       "</div>"
      ],
      "text/plain": [
       "        displ    weight\n",
       "212  0.727273  0.784519\n",
       "346  0.070130  0.128154\n",
       "325  0.051948  0.133825\n",
       "90   0.932468  0.946697\n",
       "246  0.020779  0.105472\n",
       "..        ...       ...\n",
       "72   0.607792  0.646158\n",
       "107  0.420779  0.333428\n",
       "272  0.210390  0.352141\n",
       "352  0.072727  0.217465\n",
       "103  0.857143  0.959456\n",
       "\n",
       "[235 rows x 2 columns]"
      ]
     },
     "execution_count": 10,
     "metadata": {},
     "output_type": "execute_result"
    }
   ],
   "source": [
    "X_train_scaled.iloc[:,f_select_mask]"
   ]
  },
  {
   "cell_type": "code",
   "execution_count": 11,
   "id": "bdc80528",
   "metadata": {},
   "outputs": [
    {
     "data": {
      "text/plain": [
       "array([[0.72727273, 0.78451942],\n",
       "       [0.07012987, 0.12815424],\n",
       "       [0.05194805, 0.13382478],\n",
       "       [0.93246753, 0.94669691],\n",
       "       [0.02077922, 0.10547207],\n",
       "       [0.12987013, 0.24836972],\n",
       "       [0.6025974 , 0.45137511],\n",
       "       [0.64415584, 0.74397505],\n",
       "       [0.85714286, 0.79642756],\n",
       "       [0.72727273, 0.58151403],\n",
       "       [0.4025974 , 0.42755883],\n",
       "       [0.03376623, 0.11057556],\n",
       "       [0.18441558, 0.4471222 ],\n",
       "       [0.46753247, 0.47207258],\n",
       "       [0.46753247, 0.54068614],\n",
       "       [0.72727273, 0.80606748],\n",
       "       [0.13246753, 0.17607031],\n",
       "       [0.72727273, 0.73603629],\n",
       "       [0.05194805, 0.14516586],\n",
       "       [0.22337662, 0.33853133],\n",
       "       [0.72727273, 0.81910972],\n",
       "       [0.16883117, 0.24865325],\n",
       "       [0.16883117, 0.25857669],\n",
       "       [0.4025974 , 0.50127587],\n",
       "       [0.21038961, 0.30195634],\n",
       "       [0.21038961, 0.3790757 ],\n",
       "       [0.42077922, 0.36518287],\n",
       "       [0.11948052, 0.17947264],\n",
       "       [0.72727273, 0.7235611 ],\n",
       "       [0.72727273, 0.67337681],\n",
       "       [0.4987013 , 0.39750496],\n",
       "       [0.46753247, 0.5559966 ],\n",
       "       [0.        , 0.22880635],\n",
       "       [0.07272727, 0.15622342],\n",
       "       [0.10909091, 0.22171817],\n",
       "       [0.72727273, 0.64842642],\n",
       "       [0.07272727, 0.18202438],\n",
       "       [0.05454545, 0.05160193],\n",
       "       [0.07272727, 0.14800113],\n",
       "       [0.6025974 , 0.76041962],\n",
       "       [0.18181818, 0.3549759 ],\n",
       "       [0.0025974 , 0.06322654],\n",
       "       [0.85714286, 0.8083357 ],\n",
       "       [0.7012987 , 0.56592005],\n",
       "       [0.02337662, 0.04026084],\n",
       "       [0.61038961, 0.73773745],\n",
       "       [0.61038961, 0.6314148 ],\n",
       "       [0.22077922, 0.24354976],\n",
       "       [0.05454545, 0.05160193],\n",
       "       [0.22337662, 0.28551177],\n",
       "       [0.15844156, 0.34505245],\n",
       "       [0.11948052, 0.15452226],\n",
       "       [0.33766234, 0.41026368],\n",
       "       [0.12727273, 0.22455344],\n",
       "       [0.0987013 , 0.17918911],\n",
       "       [0.42077922, 0.46838673],\n",
       "       [0.18441558, 0.45846328],\n",
       "       [0.6025974 , 0.44116813],\n",
       "       [0.03896104, 0.12957187],\n",
       "       [0.64415584, 0.80635101],\n",
       "       [0.85714286, 0.86617522],\n",
       "       [0.46753247, 0.57612702],\n",
       "       [0.4025974 , 0.57782818],\n",
       "       [0.19220779, 0.29827048],\n",
       "       [0.64415584, 0.51686986],\n",
       "       [0.18181818, 0.26991778],\n",
       "       [0.85714286, 0.75559966],\n",
       "       [0.85714286, 0.73915509],\n",
       "       [0.07012987, 0.09271335],\n",
       "       [0.61558442, 0.78338531],\n",
       "       [0.64415584, 0.50637936],\n",
       "       [0.04155844, 0.14091296],\n",
       "       [0.41818182, 0.51375106],\n",
       "       [0.05454545, 0.11681316],\n",
       "       [0.41818182, 0.5194216 ],\n",
       "       [0.05454545, 0.06719592],\n",
       "       [0.26753247, 0.31528211],\n",
       "       [0.02337662, 0.09554862],\n",
       "       [0.64415584, 0.69861072],\n",
       "       [0.16623377, 0.31131273],\n",
       "       [0.07012987, 0.1465835 ],\n",
       "       [0.07012987, 0.13807769],\n",
       "       [0.05194805, 0.20470655],\n",
       "       [0.07012987, 0.18882903],\n",
       "       [0.07272727, 0.14516586],\n",
       "       [0.6025974 , 0.55486249],\n",
       "       [0.4025974 , 0.56705415],\n",
       "       [0.08051948, 0.16699745],\n",
       "       [0.6025974 , 0.59880919],\n",
       "       [0.48831169, 0.38247803],\n",
       "       [0.05454545, 0.09980153],\n",
       "       [0.60779221, 0.58378225],\n",
       "       [0.75324675, 0.65976751],\n",
       "       [0.60779221, 0.58378225],\n",
       "       [0.05194805, 0.10547207],\n",
       "       [0.64415584, 0.73064928],\n",
       "       [0.        , 0.20328891],\n",
       "       [0.46753247, 0.64757584],\n",
       "       [0.85714286, 0.60901616],\n",
       "       [0.46753247, 0.47887723],\n",
       "       [0.60779221, 0.88432095],\n",
       "       [0.05194805, 0.17295152],\n",
       "       [0.01558442, 0.01020697],\n",
       "       [0.18181818, 0.35639354],\n",
       "       [0.12727273, 0.1947831 ],\n",
       "       [0.64415584, 0.71647292],\n",
       "       [0.75324675, 0.62602779],\n",
       "       [0.04675325, 0.12815424],\n",
       "       [0.13246753, 0.27984122],\n",
       "       [0.04155844, 0.1026368 ],\n",
       "       [0.49350649, 0.51233343],\n",
       "       [0.13246753, 0.29997165],\n",
       "       [0.81298701, 0.94754749],\n",
       "       [0.26753247, 0.27842359],\n",
       "       [0.64415584, 0.65976751],\n",
       "       [0.4025974 , 0.5151687 ],\n",
       "       [0.13246753, 0.3790757 ],\n",
       "       [0.6025974 , 0.52055571],\n",
       "       [0.41818182, 0.50099234],\n",
       "       [0.0961039 , 0.16926566],\n",
       "       [0.33246753, 0.36603346],\n",
       "       [0.46753247, 0.54210377],\n",
       "       [0.21038961, 0.28976467],\n",
       "       [0.64415584, 0.607315  ],\n",
       "       [0.12727273, 0.26424724],\n",
       "       [0.42077922, 0.37765807],\n",
       "       [0.10649351, 0.15367168],\n",
       "       [0.72727273, 0.75446555],\n",
       "       [0.46753247, 0.43266232],\n",
       "       [0.42077922, 0.28948115],\n",
       "       [0.09090909, 0.17493621],\n",
       "       [0.48831169, 0.44797278],\n",
       "       [0.12987013, 0.2869294 ],\n",
       "       [0.64415584, 0.78508648],\n",
       "       [0.09090909, 0.16359512],\n",
       "       [0.72987013, 0.7717607 ],\n",
       "       [0.61038961, 0.51375106],\n",
       "       [0.72987013, 0.69208959],\n",
       "       [0.41818182, 0.40430961],\n",
       "       [0.0961039 , 0.19194783],\n",
       "       [0.60779221, 0.74964559],\n",
       "       [0.85714286, 0.78593706],\n",
       "       [0.72727273, 0.87496456],\n",
       "       [0.13506494, 0.23759569],\n",
       "       [1.        , 0.79727814],\n",
       "       [0.72987013, 0.71335413],\n",
       "       [0.09090909, 0.15225404],\n",
       "       [0.11168831, 0.21519705],\n",
       "       [0.64415584, 0.81797562],\n",
       "       [0.64415584, 0.70399773],\n",
       "       [0.41818182, 0.51091579],\n",
       "       [0.12987013, 0.26339665],\n",
       "       [0.02337662, 0.06010774],\n",
       "       [0.33766234, 0.39041678],\n",
       "       [0.16883117, 0.2188829 ],\n",
       "       [0.07272727, 0.13098951],\n",
       "       [0.12987013, 0.46980437],\n",
       "       [0.6025974 , 0.63992061],\n",
       "       [0.29350649, 0.54352141],\n",
       "       [0.25454545, 0.36489935],\n",
       "       [0.33766234, 0.43719875],\n",
       "       [0.22337662, 0.27558832],\n",
       "       [0.1974026 , 0.37340516],\n",
       "       [0.21038961, 0.29968812],\n",
       "       [0.22337662, 0.32095265],\n",
       "       [0.07012987, 0.06010774],\n",
       "       [0.4025974 , 0.61582081],\n",
       "       [0.85714286, 1.        ],\n",
       "       [0.13506494, 0.1947831 ],\n",
       "       [0.46753247, 0.49333711],\n",
       "       [0.07272727, 0.14374823],\n",
       "       [0.48831169, 0.50949816],\n",
       "       [0.72727273, 0.81825914],\n",
       "       [0.00519481, 0.        ],\n",
       "       [0.72727273, 0.58973632],\n",
       "       [0.11948052, 0.14459881],\n",
       "       [0.07012987, 0.19138078],\n",
       "       [0.15584416, 0.43578112],\n",
       "       [0.46753247, 0.48653246],\n",
       "       [0.64415584, 0.6994613 ],\n",
       "       [0.72987013, 0.77969946],\n",
       "       [0.0025974 , 0.04536433],\n",
       "       [0.07272727, 0.15367168],\n",
       "       [0.02597403, 0.31386447],\n",
       "       [1.        , 0.41763538],\n",
       "       [0.07012987, 0.16302807],\n",
       "       [0.64415584, 0.61355259],\n",
       "       [0.24155844, 0.43294585],\n",
       "       [0.18181818, 0.29089878],\n",
       "       [0.07012987, 0.1508364 ],\n",
       "       [0.16883117, 0.21463   ],\n",
       "       [0.6025974 , 0.71675645],\n",
       "       [0.21038961, 0.26736603],\n",
       "       [0.0961039 , 0.16784803],\n",
       "       [0.0987013 , 0.18485965],\n",
       "       [0.07272727, 0.05301956],\n",
       "       [0.07012987, 0.06265948],\n",
       "       [0.02337662, 0.13070598],\n",
       "       [0.42077922, 0.45307627],\n",
       "       [0.4025974 , 0.45931386],\n",
       "       [0.16883117, 0.19336547],\n",
       "       [0.60779221, 0.6660051 ],\n",
       "       [0.16623377, 0.30876099],\n",
       "       [0.07012987, 0.18174086],\n",
       "       [0.13506494, 0.17210094],\n",
       "       [0.04935065, 0.12390133],\n",
       "       [0.07272727, 0.12418486],\n",
       "       [0.33766234, 0.38332861],\n",
       "       [0.0961039 , 0.23164162],\n",
       "       [0.21038961, 0.39410264],\n",
       "       [0.48831169, 0.60022682],\n",
       "       [0.04935065, 0.10688971],\n",
       "       [0.33766234, 0.39665438],\n",
       "       [0.07272727, 0.08562518],\n",
       "       [0.03896104, 0.1026368 ],\n",
       "       [0.33766234, 0.41309895],\n",
       "       [0.04935065, 0.10065211],\n",
       "       [0.02337662, 0.10972498],\n",
       "       [0.18181818, 0.26339665],\n",
       "       [0.46753247, 0.52339098],\n",
       "       [0.72727273, 0.59880919],\n",
       "       [0.46753247, 0.39920612],\n",
       "       [0.09090909, 0.14516586],\n",
       "       [0.6025974 , 0.68868727],\n",
       "       [0.25454545, 0.36773462],\n",
       "       [0.07272727, 0.1224837 ],\n",
       "       [0.13246753, 0.29685285],\n",
       "       [0.12727273, 0.31386447],\n",
       "       [0.1038961 , 0.30025517],\n",
       "       [0.72987013, 0.73773745],\n",
       "       [0.60779221, 0.64615821],\n",
       "       [0.42077922, 0.33342784],\n",
       "       [0.21038961, 0.35214063],\n",
       "       [0.07272727, 0.21746527],\n",
       "       [0.85714286, 0.95945563]])"
      ]
     },
     "execution_count": 11,
     "metadata": {},
     "output_type": "execute_result"
    }
   ],
   "source": [
    "f_selector.transform(X_train_scaled)"
   ]
  },
  {
   "cell_type": "code",
   "execution_count": 12,
   "id": "63544d48",
   "metadata": {},
   "outputs": [
    {
     "data": {
      "text/html": [
       "<div>\n",
       "<style scoped>\n",
       "    .dataframe tbody tr th:only-of-type {\n",
       "        vertical-align: middle;\n",
       "    }\n",
       "\n",
       "    .dataframe tbody tr th {\n",
       "        vertical-align: top;\n",
       "    }\n",
       "\n",
       "    .dataframe thead th {\n",
       "        text-align: right;\n",
       "    }\n",
       "</style>\n",
       "<table border=\"1\" class=\"dataframe\">\n",
       "  <thead>\n",
       "    <tr style=\"text-align: right;\">\n",
       "      <th></th>\n",
       "      <th>cylinders</th>\n",
       "      <th>displ</th>\n",
       "      <th>horsepower</th>\n",
       "      <th>weight</th>\n",
       "      <th>acc</th>\n",
       "      <th>origin</th>\n",
       "    </tr>\n",
       "  </thead>\n",
       "  <tbody>\n",
       "    <tr>\n",
       "      <th>212</th>\n",
       "      <td>8</td>\n",
       "      <td>0.727273</td>\n",
       "      <td>0.725275</td>\n",
       "      <td>0.784519</td>\n",
       "      <td>0.244048</td>\n",
       "      <td>1</td>\n",
       "    </tr>\n",
       "    <tr>\n",
       "      <th>346</th>\n",
       "      <td>4</td>\n",
       "      <td>0.070130</td>\n",
       "      <td>0.104396</td>\n",
       "      <td>0.128154</td>\n",
       "      <td>0.583333</td>\n",
       "      <td>3</td>\n",
       "    </tr>\n",
       "    <tr>\n",
       "      <th>325</th>\n",
       "      <td>4</td>\n",
       "      <td>0.051948</td>\n",
       "      <td>0.000000</td>\n",
       "      <td>0.133825</td>\n",
       "      <td>0.815476</td>\n",
       "      <td>2</td>\n",
       "    </tr>\n",
       "    <tr>\n",
       "      <th>90</th>\n",
       "      <td>8</td>\n",
       "      <td>0.932468</td>\n",
       "      <td>0.824176</td>\n",
       "      <td>0.946697</td>\n",
       "      <td>0.208333</td>\n",
       "      <td>1</td>\n",
       "    </tr>\n",
       "    <tr>\n",
       "      <th>246</th>\n",
       "      <td>4</td>\n",
       "      <td>0.020779</td>\n",
       "      <td>0.021978</td>\n",
       "      <td>0.105472</td>\n",
       "      <td>0.678571</td>\n",
       "      <td>3</td>\n",
       "    </tr>\n",
       "  </tbody>\n",
       "</table>\n",
       "</div>"
      ],
      "text/plain": [
       "     cylinders     displ  horsepower    weight       acc  origin\n",
       "212          8  0.727273    0.725275  0.784519  0.244048       1\n",
       "346          4  0.070130    0.104396  0.128154  0.583333       3\n",
       "325          4  0.051948    0.000000  0.133825  0.815476       2\n",
       "90           8  0.932468    0.824176  0.946697  0.208333       1\n",
       "246          4  0.020779    0.021978  0.105472  0.678571       3"
      ]
     },
     "execution_count": 12,
     "metadata": {},
     "output_type": "execute_result"
    }
   ],
   "source": [
    "X_train = train.drop(columns = ['mpg', 'model_year', 'name'])\n",
    "X_train.head()"
   ]
  },
  {
   "cell_type": "code",
   "execution_count": 13,
   "id": "0e7915df",
   "metadata": {},
   "outputs": [],
   "source": [
    "X_train = pd.get_dummies(X_train, columns = ['cylinders', 'origin'])"
   ]
  },
  {
   "cell_type": "code",
   "execution_count": 14,
   "id": "5132cf59",
   "metadata": {},
   "outputs": [
    {
     "data": {
      "text/html": [
       "<div>\n",
       "<style scoped>\n",
       "    .dataframe tbody tr th:only-of-type {\n",
       "        vertical-align: middle;\n",
       "    }\n",
       "\n",
       "    .dataframe tbody tr th {\n",
       "        vertical-align: top;\n",
       "    }\n",
       "\n",
       "    .dataframe thead th {\n",
       "        text-align: right;\n",
       "    }\n",
       "</style>\n",
       "<table border=\"1\" class=\"dataframe\">\n",
       "  <thead>\n",
       "    <tr style=\"text-align: right;\">\n",
       "      <th></th>\n",
       "      <th>displ</th>\n",
       "      <th>horsepower</th>\n",
       "      <th>weight</th>\n",
       "      <th>acc</th>\n",
       "      <th>cylinders_3</th>\n",
       "      <th>cylinders_4</th>\n",
       "      <th>cylinders_5</th>\n",
       "      <th>cylinders_6</th>\n",
       "      <th>cylinders_8</th>\n",
       "      <th>origin_1</th>\n",
       "      <th>origin_2</th>\n",
       "      <th>origin_3</th>\n",
       "    </tr>\n",
       "  </thead>\n",
       "  <tbody>\n",
       "    <tr>\n",
       "      <th>212</th>\n",
       "      <td>0.727273</td>\n",
       "      <td>0.725275</td>\n",
       "      <td>0.784519</td>\n",
       "      <td>0.244048</td>\n",
       "      <td>0</td>\n",
       "      <td>0</td>\n",
       "      <td>0</td>\n",
       "      <td>0</td>\n",
       "      <td>1</td>\n",
       "      <td>1</td>\n",
       "      <td>0</td>\n",
       "      <td>0</td>\n",
       "    </tr>\n",
       "    <tr>\n",
       "      <th>346</th>\n",
       "      <td>0.070130</td>\n",
       "      <td>0.104396</td>\n",
       "      <td>0.128154</td>\n",
       "      <td>0.583333</td>\n",
       "      <td>0</td>\n",
       "      <td>1</td>\n",
       "      <td>0</td>\n",
       "      <td>0</td>\n",
       "      <td>0</td>\n",
       "      <td>0</td>\n",
       "      <td>0</td>\n",
       "      <td>1</td>\n",
       "    </tr>\n",
       "    <tr>\n",
       "      <th>325</th>\n",
       "      <td>0.051948</td>\n",
       "      <td>0.000000</td>\n",
       "      <td>0.133825</td>\n",
       "      <td>0.815476</td>\n",
       "      <td>0</td>\n",
       "      <td>1</td>\n",
       "      <td>0</td>\n",
       "      <td>0</td>\n",
       "      <td>0</td>\n",
       "      <td>0</td>\n",
       "      <td>1</td>\n",
       "      <td>0</td>\n",
       "    </tr>\n",
       "    <tr>\n",
       "      <th>90</th>\n",
       "      <td>0.932468</td>\n",
       "      <td>0.824176</td>\n",
       "      <td>0.946697</td>\n",
       "      <td>0.208333</td>\n",
       "      <td>0</td>\n",
       "      <td>0</td>\n",
       "      <td>0</td>\n",
       "      <td>0</td>\n",
       "      <td>1</td>\n",
       "      <td>1</td>\n",
       "      <td>0</td>\n",
       "      <td>0</td>\n",
       "    </tr>\n",
       "    <tr>\n",
       "      <th>246</th>\n",
       "      <td>0.020779</td>\n",
       "      <td>0.021978</td>\n",
       "      <td>0.105472</td>\n",
       "      <td>0.678571</td>\n",
       "      <td>0</td>\n",
       "      <td>1</td>\n",
       "      <td>0</td>\n",
       "      <td>0</td>\n",
       "      <td>0</td>\n",
       "      <td>0</td>\n",
       "      <td>0</td>\n",
       "      <td>1</td>\n",
       "    </tr>\n",
       "  </tbody>\n",
       "</table>\n",
       "</div>"
      ],
      "text/plain": [
       "        displ  horsepower    weight       acc  cylinders_3  cylinders_4  \\\n",
       "212  0.727273    0.725275  0.784519  0.244048            0            0   \n",
       "346  0.070130    0.104396  0.128154  0.583333            0            1   \n",
       "325  0.051948    0.000000  0.133825  0.815476            0            1   \n",
       "90   0.932468    0.824176  0.946697  0.208333            0            0   \n",
       "246  0.020779    0.021978  0.105472  0.678571            0            1   \n",
       "\n",
       "     cylinders_5  cylinders_6  cylinders_8  origin_1  origin_2  origin_3  \n",
       "212            0            0            1         1         0         0  \n",
       "346            0            0            0         0         0         1  \n",
       "325            0            0            0         0         1         0  \n",
       "90             0            0            1         1         0         0  \n",
       "246            0            0            0         0         0         1  "
      ]
     },
     "execution_count": 14,
     "metadata": {},
     "output_type": "execute_result"
    }
   ],
   "source": [
    "X_train.head()"
   ]
  },
  {
   "cell_type": "code",
   "execution_count": 15,
   "id": "5b8ea937",
   "metadata": {},
   "outputs": [],
   "source": [
    "lm = LinearRegression()\n",
    "\n",
    "rfe = RFE(lm, n_features_to_select = 7)"
   ]
  },
  {
   "cell_type": "code",
   "execution_count": 16,
   "id": "dabb8aab",
   "metadata": {},
   "outputs": [
    {
     "data": {
      "text/html": [
       "<style>#sk-container-id-2 {color: black;background-color: white;}#sk-container-id-2 pre{padding: 0;}#sk-container-id-2 div.sk-toggleable {background-color: white;}#sk-container-id-2 label.sk-toggleable__label {cursor: pointer;display: block;width: 100%;margin-bottom: 0;padding: 0.3em;box-sizing: border-box;text-align: center;}#sk-container-id-2 label.sk-toggleable__label-arrow:before {content: \"▸\";float: left;margin-right: 0.25em;color: #696969;}#sk-container-id-2 label.sk-toggleable__label-arrow:hover:before {color: black;}#sk-container-id-2 div.sk-estimator:hover label.sk-toggleable__label-arrow:before {color: black;}#sk-container-id-2 div.sk-toggleable__content {max-height: 0;max-width: 0;overflow: hidden;text-align: left;background-color: #f0f8ff;}#sk-container-id-2 div.sk-toggleable__content pre {margin: 0.2em;color: black;border-radius: 0.25em;background-color: #f0f8ff;}#sk-container-id-2 input.sk-toggleable__control:checked~div.sk-toggleable__content {max-height: 200px;max-width: 100%;overflow: auto;}#sk-container-id-2 input.sk-toggleable__control:checked~label.sk-toggleable__label-arrow:before {content: \"▾\";}#sk-container-id-2 div.sk-estimator input.sk-toggleable__control:checked~label.sk-toggleable__label {background-color: #d4ebff;}#sk-container-id-2 div.sk-label input.sk-toggleable__control:checked~label.sk-toggleable__label {background-color: #d4ebff;}#sk-container-id-2 input.sk-hidden--visually {border: 0;clip: rect(1px 1px 1px 1px);clip: rect(1px, 1px, 1px, 1px);height: 1px;margin: -1px;overflow: hidden;padding: 0;position: absolute;width: 1px;}#sk-container-id-2 div.sk-estimator {font-family: monospace;background-color: #f0f8ff;border: 1px dotted black;border-radius: 0.25em;box-sizing: border-box;margin-bottom: 0.5em;}#sk-container-id-2 div.sk-estimator:hover {background-color: #d4ebff;}#sk-container-id-2 div.sk-parallel-item::after {content: \"\";width: 100%;border-bottom: 1px solid gray;flex-grow: 1;}#sk-container-id-2 div.sk-label:hover label.sk-toggleable__label {background-color: #d4ebff;}#sk-container-id-2 div.sk-serial::before {content: \"\";position: absolute;border-left: 1px solid gray;box-sizing: border-box;top: 0;bottom: 0;left: 50%;z-index: 0;}#sk-container-id-2 div.sk-serial {display: flex;flex-direction: column;align-items: center;background-color: white;padding-right: 0.2em;padding-left: 0.2em;position: relative;}#sk-container-id-2 div.sk-item {position: relative;z-index: 1;}#sk-container-id-2 div.sk-parallel {display: flex;align-items: stretch;justify-content: center;background-color: white;position: relative;}#sk-container-id-2 div.sk-item::before, #sk-container-id-2 div.sk-parallel-item::before {content: \"\";position: absolute;border-left: 1px solid gray;box-sizing: border-box;top: 0;bottom: 0;left: 50%;z-index: -1;}#sk-container-id-2 div.sk-parallel-item {display: flex;flex-direction: column;z-index: 1;position: relative;background-color: white;}#sk-container-id-2 div.sk-parallel-item:first-child::after {align-self: flex-end;width: 50%;}#sk-container-id-2 div.sk-parallel-item:last-child::after {align-self: flex-start;width: 50%;}#sk-container-id-2 div.sk-parallel-item:only-child::after {width: 0;}#sk-container-id-2 div.sk-dashed-wrapped {border: 1px dashed gray;margin: 0 0.4em 0.5em 0.4em;box-sizing: border-box;padding-bottom: 0.4em;background-color: white;}#sk-container-id-2 div.sk-label label {font-family: monospace;font-weight: bold;display: inline-block;line-height: 1.2em;}#sk-container-id-2 div.sk-label-container {text-align: center;}#sk-container-id-2 div.sk-container {/* jupyter's `normalize.less` sets `[hidden] { display: none; }` but bootstrap.min.css set `[hidden] { display: none !important; }` so we also need the `!important` here to be able to override the default hidden behavior on the sphinx rendered scikit-learn.org. See: https://github.com/scikit-learn/scikit-learn/issues/21755 */display: inline-block !important;position: relative;}#sk-container-id-2 div.sk-text-repr-fallback {display: none;}</style><div id=\"sk-container-id-2\" class=\"sk-top-container\"><div class=\"sk-text-repr-fallback\"><pre>RFE(estimator=LinearRegression(), n_features_to_select=7)</pre><b>In a Jupyter environment, please rerun this cell to show the HTML representation or trust the notebook. <br />On GitHub, the HTML representation is unable to render, please try loading this page with nbviewer.org.</b></div><div class=\"sk-container\" hidden><div class=\"sk-item sk-dashed-wrapped\"><div class=\"sk-label-container\"><div class=\"sk-label sk-toggleable\"><input class=\"sk-toggleable__control sk-hidden--visually\" id=\"sk-estimator-id-2\" type=\"checkbox\" ><label for=\"sk-estimator-id-2\" class=\"sk-toggleable__label sk-toggleable__label-arrow\">RFE</label><div class=\"sk-toggleable__content\"><pre>RFE(estimator=LinearRegression(), n_features_to_select=7)</pre></div></div></div><div class=\"sk-parallel\"><div class=\"sk-parallel-item\"><div class=\"sk-item\"><div class=\"sk-label-container\"><div class=\"sk-label sk-toggleable\"><input class=\"sk-toggleable__control sk-hidden--visually\" id=\"sk-estimator-id-3\" type=\"checkbox\" ><label for=\"sk-estimator-id-3\" class=\"sk-toggleable__label sk-toggleable__label-arrow\">estimator: LinearRegression</label><div class=\"sk-toggleable__content\"><pre>LinearRegression()</pre></div></div></div><div class=\"sk-serial\"><div class=\"sk-item\"><div class=\"sk-estimator sk-toggleable\"><input class=\"sk-toggleable__control sk-hidden--visually\" id=\"sk-estimator-id-4\" type=\"checkbox\" ><label for=\"sk-estimator-id-4\" class=\"sk-toggleable__label sk-toggleable__label-arrow\">LinearRegression</label><div class=\"sk-toggleable__content\"><pre>LinearRegression()</pre></div></div></div></div></div></div></div></div></div></div>"
      ],
      "text/plain": [
       "RFE(estimator=LinearRegression(), n_features_to_select=7)"
      ]
     },
     "execution_count": 16,
     "metadata": {},
     "output_type": "execute_result"
    }
   ],
   "source": [
    "rfe.fit(X_train, y_train)"
   ]
  },
  {
   "cell_type": "code",
   "execution_count": 17,
   "id": "d781f60a",
   "metadata": {},
   "outputs": [],
   "source": [
    "rfe.ranking_\n",
    "\n",
    "ranks = rfe.ranking_\n",
    "columns = X_train.columns.tolist()\n",
    "\n",
    "feature_ranks = pd.DataFrame({'ranking': ranks,\n",
    "             'feature': columns})"
   ]
  },
  {
   "cell_type": "code",
   "execution_count": 18,
   "id": "bf1e1dc0",
   "metadata": {},
   "outputs": [
    {
     "data": {
      "text/html": [
       "<div>\n",
       "<style scoped>\n",
       "    .dataframe tbody tr th:only-of-type {\n",
       "        vertical-align: middle;\n",
       "    }\n",
       "\n",
       "    .dataframe tbody tr th {\n",
       "        vertical-align: top;\n",
       "    }\n",
       "\n",
       "    .dataframe thead th {\n",
       "        text-align: right;\n",
       "    }\n",
       "</style>\n",
       "<table border=\"1\" class=\"dataframe\">\n",
       "  <thead>\n",
       "    <tr style=\"text-align: right;\">\n",
       "      <th></th>\n",
       "      <th>ranking</th>\n",
       "      <th>feature</th>\n",
       "    </tr>\n",
       "  </thead>\n",
       "  <tbody>\n",
       "    <tr>\n",
       "      <th>0</th>\n",
       "      <td>1</td>\n",
       "      <td>displ</td>\n",
       "    </tr>\n",
       "    <tr>\n",
       "      <th>1</th>\n",
       "      <td>1</td>\n",
       "      <td>horsepower</td>\n",
       "    </tr>\n",
       "    <tr>\n",
       "      <th>2</th>\n",
       "      <td>1</td>\n",
       "      <td>weight</td>\n",
       "    </tr>\n",
       "    <tr>\n",
       "      <th>4</th>\n",
       "      <td>1</td>\n",
       "      <td>cylinders_3</td>\n",
       "    </tr>\n",
       "    <tr>\n",
       "      <th>5</th>\n",
       "      <td>1</td>\n",
       "      <td>cylinders_4</td>\n",
       "    </tr>\n",
       "    <tr>\n",
       "      <th>6</th>\n",
       "      <td>1</td>\n",
       "      <td>cylinders_5</td>\n",
       "    </tr>\n",
       "    <tr>\n",
       "      <th>11</th>\n",
       "      <td>1</td>\n",
       "      <td>origin_3</td>\n",
       "    </tr>\n",
       "  </tbody>\n",
       "</table>\n",
       "</div>"
      ],
      "text/plain": [
       "    ranking      feature\n",
       "0         1        displ\n",
       "1         1   horsepower\n",
       "2         1       weight\n",
       "4         1  cylinders_3\n",
       "5         1  cylinders_4\n",
       "6         1  cylinders_5\n",
       "11        1     origin_3"
      ]
     },
     "execution_count": 18,
     "metadata": {},
     "output_type": "execute_result"
    }
   ],
   "source": [
    "feature_ranks.sort_values('ranking')[feature_ranks.ranking == 1]"
   ]
  },
  {
   "cell_type": "markdown",
   "id": "4013f51c",
   "metadata": {},
   "source": [
    "# OLS (Linear regression)"
   ]
  },
  {
   "cell_type": "code",
   "execution_count": 20,
   "id": "028a33d9",
   "metadata": {},
   "outputs": [],
   "source": [
    "val[['displ', 'horsepower', 'weight', 'acc']] = mms.transform(val[['displ', 'horsepower', 'weight', 'acc']])\n",
    "\n",
    "X_val = val.drop(columns = ['mpg', 'model_year', 'name'])\n",
    "\n",
    "X_val = pd.get_dummies(X_val, columns = ['cylinders', 'origin'])\n",
    "\n",
    "y_val = val['mpg']"
   ]
  },
  {
   "cell_type": "code",
   "execution_count": 25,
   "id": "1ab6ce59",
   "metadata": {},
   "outputs": [],
   "source": [
    "X_train.drop(columns = 'cylinders_5', inplace = True)"
   ]
  },
  {
   "cell_type": "code",
   "execution_count": 27,
   "id": "01390e7e",
   "metadata": {},
   "outputs": [],
   "source": [
    "lm = LinearRegression()"
   ]
  },
  {
   "cell_type": "code",
   "execution_count": 28,
   "id": "a4b27df6",
   "metadata": {},
   "outputs": [
    {
     "data": {
      "text/html": [
       "<style>#sk-container-id-3 {color: black;background-color: white;}#sk-container-id-3 pre{padding: 0;}#sk-container-id-3 div.sk-toggleable {background-color: white;}#sk-container-id-3 label.sk-toggleable__label {cursor: pointer;display: block;width: 100%;margin-bottom: 0;padding: 0.3em;box-sizing: border-box;text-align: center;}#sk-container-id-3 label.sk-toggleable__label-arrow:before {content: \"▸\";float: left;margin-right: 0.25em;color: #696969;}#sk-container-id-3 label.sk-toggleable__label-arrow:hover:before {color: black;}#sk-container-id-3 div.sk-estimator:hover label.sk-toggleable__label-arrow:before {color: black;}#sk-container-id-3 div.sk-toggleable__content {max-height: 0;max-width: 0;overflow: hidden;text-align: left;background-color: #f0f8ff;}#sk-container-id-3 div.sk-toggleable__content pre {margin: 0.2em;color: black;border-radius: 0.25em;background-color: #f0f8ff;}#sk-container-id-3 input.sk-toggleable__control:checked~div.sk-toggleable__content {max-height: 200px;max-width: 100%;overflow: auto;}#sk-container-id-3 input.sk-toggleable__control:checked~label.sk-toggleable__label-arrow:before {content: \"▾\";}#sk-container-id-3 div.sk-estimator input.sk-toggleable__control:checked~label.sk-toggleable__label {background-color: #d4ebff;}#sk-container-id-3 div.sk-label input.sk-toggleable__control:checked~label.sk-toggleable__label {background-color: #d4ebff;}#sk-container-id-3 input.sk-hidden--visually {border: 0;clip: rect(1px 1px 1px 1px);clip: rect(1px, 1px, 1px, 1px);height: 1px;margin: -1px;overflow: hidden;padding: 0;position: absolute;width: 1px;}#sk-container-id-3 div.sk-estimator {font-family: monospace;background-color: #f0f8ff;border: 1px dotted black;border-radius: 0.25em;box-sizing: border-box;margin-bottom: 0.5em;}#sk-container-id-3 div.sk-estimator:hover {background-color: #d4ebff;}#sk-container-id-3 div.sk-parallel-item::after {content: \"\";width: 100%;border-bottom: 1px solid gray;flex-grow: 1;}#sk-container-id-3 div.sk-label:hover label.sk-toggleable__label {background-color: #d4ebff;}#sk-container-id-3 div.sk-serial::before {content: \"\";position: absolute;border-left: 1px solid gray;box-sizing: border-box;top: 0;bottom: 0;left: 50%;z-index: 0;}#sk-container-id-3 div.sk-serial {display: flex;flex-direction: column;align-items: center;background-color: white;padding-right: 0.2em;padding-left: 0.2em;position: relative;}#sk-container-id-3 div.sk-item {position: relative;z-index: 1;}#sk-container-id-3 div.sk-parallel {display: flex;align-items: stretch;justify-content: center;background-color: white;position: relative;}#sk-container-id-3 div.sk-item::before, #sk-container-id-3 div.sk-parallel-item::before {content: \"\";position: absolute;border-left: 1px solid gray;box-sizing: border-box;top: 0;bottom: 0;left: 50%;z-index: -1;}#sk-container-id-3 div.sk-parallel-item {display: flex;flex-direction: column;z-index: 1;position: relative;background-color: white;}#sk-container-id-3 div.sk-parallel-item:first-child::after {align-self: flex-end;width: 50%;}#sk-container-id-3 div.sk-parallel-item:last-child::after {align-self: flex-start;width: 50%;}#sk-container-id-3 div.sk-parallel-item:only-child::after {width: 0;}#sk-container-id-3 div.sk-dashed-wrapped {border: 1px dashed gray;margin: 0 0.4em 0.5em 0.4em;box-sizing: border-box;padding-bottom: 0.4em;background-color: white;}#sk-container-id-3 div.sk-label label {font-family: monospace;font-weight: bold;display: inline-block;line-height: 1.2em;}#sk-container-id-3 div.sk-label-container {text-align: center;}#sk-container-id-3 div.sk-container {/* jupyter's `normalize.less` sets `[hidden] { display: none; }` but bootstrap.min.css set `[hidden] { display: none !important; }` so we also need the `!important` here to be able to override the default hidden behavior on the sphinx rendered scikit-learn.org. See: https://github.com/scikit-learn/scikit-learn/issues/21755 */display: inline-block !important;position: relative;}#sk-container-id-3 div.sk-text-repr-fallback {display: none;}</style><div id=\"sk-container-id-3\" class=\"sk-top-container\"><div class=\"sk-text-repr-fallback\"><pre>LinearRegression()</pre><b>In a Jupyter environment, please rerun this cell to show the HTML representation or trust the notebook. <br />On GitHub, the HTML representation is unable to render, please try loading this page with nbviewer.org.</b></div><div class=\"sk-container\" hidden><div class=\"sk-item\"><div class=\"sk-estimator sk-toggleable\"><input class=\"sk-toggleable__control sk-hidden--visually\" id=\"sk-estimator-id-5\" type=\"checkbox\" checked><label for=\"sk-estimator-id-5\" class=\"sk-toggleable__label sk-toggleable__label-arrow\">LinearRegression</label><div class=\"sk-toggleable__content\"><pre>LinearRegression()</pre></div></div></div></div></div>"
      ],
      "text/plain": [
       "LinearRegression()"
      ]
     },
     "execution_count": 28,
     "metadata": {},
     "output_type": "execute_result"
    }
   ],
   "source": [
    "lm.fit(X_train, y_train)"
   ]
  },
  {
   "cell_type": "code",
   "execution_count": 30,
   "id": "6860092c",
   "metadata": {},
   "outputs": [
    {
     "data": {
      "text/plain": [
       "212    16.5\n",
       "346    32.3\n",
       "325    44.3\n",
       "90     12.0\n",
       "246    32.8\n",
       "Name: mpg, dtype: float64"
      ]
     },
     "execution_count": 30,
     "metadata": {},
     "output_type": "execute_result"
    }
   ],
   "source": [
    "y_train.head()"
   ]
  },
  {
   "cell_type": "code",
   "execution_count": 31,
   "id": "73dea005",
   "metadata": {},
   "outputs": [],
   "source": [
    "lm_preds = lm.predict(X_train)"
   ]
  },
  {
   "cell_type": "code",
   "execution_count": 34,
   "id": "3a6ce3aa",
   "metadata": {},
   "outputs": [],
   "source": [
    "preds_df = pd.DataFrame({'actual': y_train,\n",
    "                         'lm_preds': lm_preds})"
   ]
  },
  {
   "cell_type": "code",
   "execution_count": 136,
   "id": "c82b5bb0",
   "metadata": {},
   "outputs": [
    {
     "data": {
      "text/plain": [
       "3.744575765652876"
      ]
     },
     "execution_count": 136,
     "metadata": {},
     "output_type": "execute_result"
    }
   ],
   "source": [
    "lm_rmse = sqrt(mean_squared_error(preds_df['lm_preds'], preds_df['actual']))\n",
    "lm_rmse\n",
    "# This means that the linear regression model is missing the actual by this amount on average"
   ]
  },
  {
   "cell_type": "markdown",
   "id": "98663eed",
   "metadata": {},
   "source": [
    "# LASSO + LARS"
   ]
  },
  {
   "cell_type": "code",
   "execution_count": 65,
   "id": "85517db5",
   "metadata": {},
   "outputs": [],
   "source": [
    "lasso = LassoLars(alpha = 0.05)"
   ]
  },
  {
   "cell_type": "code",
   "execution_count": 66,
   "id": "c7b6ab1f",
   "metadata": {},
   "outputs": [],
   "source": [
    "lasso.fit(X_train, y_train)\n",
    "\n",
    "lasso_preds = lasso.predict(X_train)"
   ]
  },
  {
   "cell_type": "code",
   "execution_count": 67,
   "id": "3fbfe7df",
   "metadata": {},
   "outputs": [
    {
     "data": {
      "text/html": [
       "<div>\n",
       "<style scoped>\n",
       "    .dataframe tbody tr th:only-of-type {\n",
       "        vertical-align: middle;\n",
       "    }\n",
       "\n",
       "    .dataframe tbody tr th {\n",
       "        vertical-align: top;\n",
       "    }\n",
       "\n",
       "    .dataframe thead th {\n",
       "        text-align: right;\n",
       "    }\n",
       "</style>\n",
       "<table border=\"1\" class=\"dataframe\">\n",
       "  <thead>\n",
       "    <tr style=\"text-align: right;\">\n",
       "      <th></th>\n",
       "      <th>actual</th>\n",
       "      <th>lm_preds</th>\n",
       "      <th>lasso_preds</th>\n",
       "    </tr>\n",
       "  </thead>\n",
       "  <tbody>\n",
       "    <tr>\n",
       "      <th>212</th>\n",
       "      <td>16.5</td>\n",
       "      <td>12.008899</td>\n",
       "      <td>13.344142</td>\n",
       "    </tr>\n",
       "    <tr>\n",
       "      <th>346</th>\n",
       "      <td>32.3</td>\n",
       "      <td>33.327807</td>\n",
       "      <td>31.104773</td>\n",
       "    </tr>\n",
       "    <tr>\n",
       "      <th>325</th>\n",
       "      <td>44.3</td>\n",
       "      <td>31.963603</td>\n",
       "      <td>31.277887</td>\n",
       "    </tr>\n",
       "    <tr>\n",
       "      <th>90</th>\n",
       "      <td>12.0</td>\n",
       "      <td>8.817639</td>\n",
       "      <td>10.520505</td>\n",
       "    </tr>\n",
       "    <tr>\n",
       "      <th>246</th>\n",
       "      <td>32.8</td>\n",
       "      <td>34.716194</td>\n",
       "      <td>32.172975</td>\n",
       "    </tr>\n",
       "  </tbody>\n",
       "</table>\n",
       "</div>"
      ],
      "text/plain": [
       "     actual   lm_preds  lasso_preds\n",
       "212    16.5  12.008899    13.344142\n",
       "346    32.3  33.327807    31.104773\n",
       "325    44.3  31.963603    31.277887\n",
       "90     12.0   8.817639    10.520505\n",
       "246    32.8  34.716194    32.172975"
      ]
     },
     "execution_count": 67,
     "metadata": {},
     "output_type": "execute_result"
    }
   ],
   "source": [
    "preds_df['lasso_preds'] = lasso_preds\n",
    "preds_df.head()"
   ]
  },
  {
   "cell_type": "code",
   "execution_count": 68,
   "id": "4535b4e2",
   "metadata": {},
   "outputs": [
    {
     "data": {
      "text/plain": [
       "3.9767066566241396"
      ]
     },
     "execution_count": 68,
     "metadata": {},
     "output_type": "execute_result"
    }
   ],
   "source": [
    "lasso_rmse = sqrt(mean_squared_error(preds_df['actual'], preds_df['lasso_preds']))\n",
    "lasso_rmse"
   ]
  },
  {
   "cell_type": "markdown",
   "id": "e2f5417e",
   "metadata": {},
   "source": [
    "# Polynomial regression"
   ]
  },
  {
   "cell_type": "code",
   "execution_count": 102,
   "id": "b34efb59",
   "metadata": {},
   "outputs": [
    {
     "data": {
      "text/html": [
       "<style>#sk-container-id-14 {color: black;background-color: white;}#sk-container-id-14 pre{padding: 0;}#sk-container-id-14 div.sk-toggleable {background-color: white;}#sk-container-id-14 label.sk-toggleable__label {cursor: pointer;display: block;width: 100%;margin-bottom: 0;padding: 0.3em;box-sizing: border-box;text-align: center;}#sk-container-id-14 label.sk-toggleable__label-arrow:before {content: \"▸\";float: left;margin-right: 0.25em;color: #696969;}#sk-container-id-14 label.sk-toggleable__label-arrow:hover:before {color: black;}#sk-container-id-14 div.sk-estimator:hover label.sk-toggleable__label-arrow:before {color: black;}#sk-container-id-14 div.sk-toggleable__content {max-height: 0;max-width: 0;overflow: hidden;text-align: left;background-color: #f0f8ff;}#sk-container-id-14 div.sk-toggleable__content pre {margin: 0.2em;color: black;border-radius: 0.25em;background-color: #f0f8ff;}#sk-container-id-14 input.sk-toggleable__control:checked~div.sk-toggleable__content {max-height: 200px;max-width: 100%;overflow: auto;}#sk-container-id-14 input.sk-toggleable__control:checked~label.sk-toggleable__label-arrow:before {content: \"▾\";}#sk-container-id-14 div.sk-estimator input.sk-toggleable__control:checked~label.sk-toggleable__label {background-color: #d4ebff;}#sk-container-id-14 div.sk-label input.sk-toggleable__control:checked~label.sk-toggleable__label {background-color: #d4ebff;}#sk-container-id-14 input.sk-hidden--visually {border: 0;clip: rect(1px 1px 1px 1px);clip: rect(1px, 1px, 1px, 1px);height: 1px;margin: -1px;overflow: hidden;padding: 0;position: absolute;width: 1px;}#sk-container-id-14 div.sk-estimator {font-family: monospace;background-color: #f0f8ff;border: 1px dotted black;border-radius: 0.25em;box-sizing: border-box;margin-bottom: 0.5em;}#sk-container-id-14 div.sk-estimator:hover {background-color: #d4ebff;}#sk-container-id-14 div.sk-parallel-item::after {content: \"\";width: 100%;border-bottom: 1px solid gray;flex-grow: 1;}#sk-container-id-14 div.sk-label:hover label.sk-toggleable__label {background-color: #d4ebff;}#sk-container-id-14 div.sk-serial::before {content: \"\";position: absolute;border-left: 1px solid gray;box-sizing: border-box;top: 0;bottom: 0;left: 50%;z-index: 0;}#sk-container-id-14 div.sk-serial {display: flex;flex-direction: column;align-items: center;background-color: white;padding-right: 0.2em;padding-left: 0.2em;position: relative;}#sk-container-id-14 div.sk-item {position: relative;z-index: 1;}#sk-container-id-14 div.sk-parallel {display: flex;align-items: stretch;justify-content: center;background-color: white;position: relative;}#sk-container-id-14 div.sk-item::before, #sk-container-id-14 div.sk-parallel-item::before {content: \"\";position: absolute;border-left: 1px solid gray;box-sizing: border-box;top: 0;bottom: 0;left: 50%;z-index: -1;}#sk-container-id-14 div.sk-parallel-item {display: flex;flex-direction: column;z-index: 1;position: relative;background-color: white;}#sk-container-id-14 div.sk-parallel-item:first-child::after {align-self: flex-end;width: 50%;}#sk-container-id-14 div.sk-parallel-item:last-child::after {align-self: flex-start;width: 50%;}#sk-container-id-14 div.sk-parallel-item:only-child::after {width: 0;}#sk-container-id-14 div.sk-dashed-wrapped {border: 1px dashed gray;margin: 0 0.4em 0.5em 0.4em;box-sizing: border-box;padding-bottom: 0.4em;background-color: white;}#sk-container-id-14 div.sk-label label {font-family: monospace;font-weight: bold;display: inline-block;line-height: 1.2em;}#sk-container-id-14 div.sk-label-container {text-align: center;}#sk-container-id-14 div.sk-container {/* jupyter's `normalize.less` sets `[hidden] { display: none; }` but bootstrap.min.css set `[hidden] { display: none !important; }` so we also need the `!important` here to be able to override the default hidden behavior on the sphinx rendered scikit-learn.org. See: https://github.com/scikit-learn/scikit-learn/issues/21755 */display: inline-block !important;position: relative;}#sk-container-id-14 div.sk-text-repr-fallback {display: none;}</style><div id=\"sk-container-id-14\" class=\"sk-top-container\"><div class=\"sk-text-repr-fallback\"><pre>PolynomialFeatures()</pre><b>In a Jupyter environment, please rerun this cell to show the HTML representation or trust the notebook. <br />On GitHub, the HTML representation is unable to render, please try loading this page with nbviewer.org.</b></div><div class=\"sk-container\" hidden><div class=\"sk-item\"><div class=\"sk-estimator sk-toggleable\"><input class=\"sk-toggleable__control sk-hidden--visually\" id=\"sk-estimator-id-16\" type=\"checkbox\" checked><label for=\"sk-estimator-id-16\" class=\"sk-toggleable__label sk-toggleable__label-arrow\">PolynomialFeatures</label><div class=\"sk-toggleable__content\"><pre>PolynomialFeatures()</pre></div></div></div></div></div>"
      ],
      "text/plain": [
       "PolynomialFeatures()"
      ]
     },
     "execution_count": 102,
     "metadata": {},
     "output_type": "execute_result"
    }
   ],
   "source": [
    "pf = PolynomialFeatures(degree = 2)\n",
    "\n",
    "pf.fit(X_train, y_train)"
   ]
  },
  {
   "cell_type": "code",
   "execution_count": 103,
   "id": "208f0841",
   "metadata": {},
   "outputs": [],
   "source": [
    "X_polynomial = pf.transform(X_train)"
   ]
  },
  {
   "cell_type": "code",
   "execution_count": 104,
   "id": "7508bee8",
   "metadata": {},
   "outputs": [
    {
     "data": {
      "text/html": [
       "<style>#sk-container-id-15 {color: black;background-color: white;}#sk-container-id-15 pre{padding: 0;}#sk-container-id-15 div.sk-toggleable {background-color: white;}#sk-container-id-15 label.sk-toggleable__label {cursor: pointer;display: block;width: 100%;margin-bottom: 0;padding: 0.3em;box-sizing: border-box;text-align: center;}#sk-container-id-15 label.sk-toggleable__label-arrow:before {content: \"▸\";float: left;margin-right: 0.25em;color: #696969;}#sk-container-id-15 label.sk-toggleable__label-arrow:hover:before {color: black;}#sk-container-id-15 div.sk-estimator:hover label.sk-toggleable__label-arrow:before {color: black;}#sk-container-id-15 div.sk-toggleable__content {max-height: 0;max-width: 0;overflow: hidden;text-align: left;background-color: #f0f8ff;}#sk-container-id-15 div.sk-toggleable__content pre {margin: 0.2em;color: black;border-radius: 0.25em;background-color: #f0f8ff;}#sk-container-id-15 input.sk-toggleable__control:checked~div.sk-toggleable__content {max-height: 200px;max-width: 100%;overflow: auto;}#sk-container-id-15 input.sk-toggleable__control:checked~label.sk-toggleable__label-arrow:before {content: \"▾\";}#sk-container-id-15 div.sk-estimator input.sk-toggleable__control:checked~label.sk-toggleable__label {background-color: #d4ebff;}#sk-container-id-15 div.sk-label input.sk-toggleable__control:checked~label.sk-toggleable__label {background-color: #d4ebff;}#sk-container-id-15 input.sk-hidden--visually {border: 0;clip: rect(1px 1px 1px 1px);clip: rect(1px, 1px, 1px, 1px);height: 1px;margin: -1px;overflow: hidden;padding: 0;position: absolute;width: 1px;}#sk-container-id-15 div.sk-estimator {font-family: monospace;background-color: #f0f8ff;border: 1px dotted black;border-radius: 0.25em;box-sizing: border-box;margin-bottom: 0.5em;}#sk-container-id-15 div.sk-estimator:hover {background-color: #d4ebff;}#sk-container-id-15 div.sk-parallel-item::after {content: \"\";width: 100%;border-bottom: 1px solid gray;flex-grow: 1;}#sk-container-id-15 div.sk-label:hover label.sk-toggleable__label {background-color: #d4ebff;}#sk-container-id-15 div.sk-serial::before {content: \"\";position: absolute;border-left: 1px solid gray;box-sizing: border-box;top: 0;bottom: 0;left: 50%;z-index: 0;}#sk-container-id-15 div.sk-serial {display: flex;flex-direction: column;align-items: center;background-color: white;padding-right: 0.2em;padding-left: 0.2em;position: relative;}#sk-container-id-15 div.sk-item {position: relative;z-index: 1;}#sk-container-id-15 div.sk-parallel {display: flex;align-items: stretch;justify-content: center;background-color: white;position: relative;}#sk-container-id-15 div.sk-item::before, #sk-container-id-15 div.sk-parallel-item::before {content: \"\";position: absolute;border-left: 1px solid gray;box-sizing: border-box;top: 0;bottom: 0;left: 50%;z-index: -1;}#sk-container-id-15 div.sk-parallel-item {display: flex;flex-direction: column;z-index: 1;position: relative;background-color: white;}#sk-container-id-15 div.sk-parallel-item:first-child::after {align-self: flex-end;width: 50%;}#sk-container-id-15 div.sk-parallel-item:last-child::after {align-self: flex-start;width: 50%;}#sk-container-id-15 div.sk-parallel-item:only-child::after {width: 0;}#sk-container-id-15 div.sk-dashed-wrapped {border: 1px dashed gray;margin: 0 0.4em 0.5em 0.4em;box-sizing: border-box;padding-bottom: 0.4em;background-color: white;}#sk-container-id-15 div.sk-label label {font-family: monospace;font-weight: bold;display: inline-block;line-height: 1.2em;}#sk-container-id-15 div.sk-label-container {text-align: center;}#sk-container-id-15 div.sk-container {/* jupyter's `normalize.less` sets `[hidden] { display: none; }` but bootstrap.min.css set `[hidden] { display: none !important; }` so we also need the `!important` here to be able to override the default hidden behavior on the sphinx rendered scikit-learn.org. See: https://github.com/scikit-learn/scikit-learn/issues/21755 */display: inline-block !important;position: relative;}#sk-container-id-15 div.sk-text-repr-fallback {display: none;}</style><div id=\"sk-container-id-15\" class=\"sk-top-container\"><div class=\"sk-text-repr-fallback\"><pre>LinearRegression()</pre><b>In a Jupyter environment, please rerun this cell to show the HTML representation or trust the notebook. <br />On GitHub, the HTML representation is unable to render, please try loading this page with nbviewer.org.</b></div><div class=\"sk-container\" hidden><div class=\"sk-item\"><div class=\"sk-estimator sk-toggleable\"><input class=\"sk-toggleable__control sk-hidden--visually\" id=\"sk-estimator-id-17\" type=\"checkbox\" checked><label for=\"sk-estimator-id-17\" class=\"sk-toggleable__label sk-toggleable__label-arrow\">LinearRegression</label><div class=\"sk-toggleable__content\"><pre>LinearRegression()</pre></div></div></div></div></div>"
      ],
      "text/plain": [
       "LinearRegression()"
      ]
     },
     "execution_count": 104,
     "metadata": {},
     "output_type": "execute_result"
    }
   ],
   "source": [
    "lmtwo = LinearRegression()\n",
    "\n",
    "lmtwo.fit(X_polynomial, y_train)"
   ]
  },
  {
   "cell_type": "code",
   "execution_count": 105,
   "id": "c2c8d0fd",
   "metadata": {},
   "outputs": [
    {
     "data": {
      "text/html": [
       "<div>\n",
       "<style scoped>\n",
       "    .dataframe tbody tr th:only-of-type {\n",
       "        vertical-align: middle;\n",
       "    }\n",
       "\n",
       "    .dataframe tbody tr th {\n",
       "        vertical-align: top;\n",
       "    }\n",
       "\n",
       "    .dataframe thead th {\n",
       "        text-align: right;\n",
       "    }\n",
       "</style>\n",
       "<table border=\"1\" class=\"dataframe\">\n",
       "  <thead>\n",
       "    <tr style=\"text-align: right;\">\n",
       "      <th></th>\n",
       "      <th>actual</th>\n",
       "      <th>lm_preds</th>\n",
       "      <th>lasso_preds</th>\n",
       "      <th>poly_preds</th>\n",
       "    </tr>\n",
       "  </thead>\n",
       "  <tbody>\n",
       "    <tr>\n",
       "      <th>212</th>\n",
       "      <td>16.5</td>\n",
       "      <td>12.008899</td>\n",
       "      <td>13.344142</td>\n",
       "      <td>17.1250</td>\n",
       "    </tr>\n",
       "    <tr>\n",
       "      <th>346</th>\n",
       "      <td>32.3</td>\n",
       "      <td>33.327807</td>\n",
       "      <td>31.104773</td>\n",
       "      <td>32.6250</td>\n",
       "    </tr>\n",
       "    <tr>\n",
       "      <th>325</th>\n",
       "      <td>44.3</td>\n",
       "      <td>31.963603</td>\n",
       "      <td>31.277887</td>\n",
       "      <td>36.1250</td>\n",
       "    </tr>\n",
       "    <tr>\n",
       "      <th>90</th>\n",
       "      <td>12.0</td>\n",
       "      <td>8.817639</td>\n",
       "      <td>10.520505</td>\n",
       "      <td>8.9375</td>\n",
       "    </tr>\n",
       "    <tr>\n",
       "      <th>246</th>\n",
       "      <td>32.8</td>\n",
       "      <td>34.716194</td>\n",
       "      <td>32.172975</td>\n",
       "      <td>40.6250</td>\n",
       "    </tr>\n",
       "  </tbody>\n",
       "</table>\n",
       "</div>"
      ],
      "text/plain": [
       "     actual   lm_preds  lasso_preds  poly_preds\n",
       "212    16.5  12.008899    13.344142     17.1250\n",
       "346    32.3  33.327807    31.104773     32.6250\n",
       "325    44.3  31.963603    31.277887     36.1250\n",
       "90     12.0   8.817639    10.520505      8.9375\n",
       "246    32.8  34.716194    32.172975     40.6250"
      ]
     },
     "execution_count": 105,
     "metadata": {},
     "output_type": "execute_result"
    }
   ],
   "source": [
    "preds_df['poly_preds'] = lmtwo.predict(X_polynomial)\n",
    "preds_df.head()"
   ]
  },
  {
   "cell_type": "code",
   "execution_count": 106,
   "id": "a72fb403",
   "metadata": {},
   "outputs": [
    {
     "data": {
      "text/plain": [
       "5.837485306829201"
      ]
     },
     "execution_count": 106,
     "metadata": {},
     "output_type": "execute_result"
    }
   ],
   "source": [
    "poly_rmse = sqrt(mean_squared_error(preds_df['actual'], preds_df['poly_preds']))\n",
    "poly_rmse"
   ]
  },
  {
   "cell_type": "code",
   "execution_count": 111,
   "id": "b43ab02d",
   "metadata": {},
   "outputs": [
    {
     "data": {
      "text/html": [
       "<style>#sk-container-id-18 {color: black;background-color: white;}#sk-container-id-18 pre{padding: 0;}#sk-container-id-18 div.sk-toggleable {background-color: white;}#sk-container-id-18 label.sk-toggleable__label {cursor: pointer;display: block;width: 100%;margin-bottom: 0;padding: 0.3em;box-sizing: border-box;text-align: center;}#sk-container-id-18 label.sk-toggleable__label-arrow:before {content: \"▸\";float: left;margin-right: 0.25em;color: #696969;}#sk-container-id-18 label.sk-toggleable__label-arrow:hover:before {color: black;}#sk-container-id-18 div.sk-estimator:hover label.sk-toggleable__label-arrow:before {color: black;}#sk-container-id-18 div.sk-toggleable__content {max-height: 0;max-width: 0;overflow: hidden;text-align: left;background-color: #f0f8ff;}#sk-container-id-18 div.sk-toggleable__content pre {margin: 0.2em;color: black;border-radius: 0.25em;background-color: #f0f8ff;}#sk-container-id-18 input.sk-toggleable__control:checked~div.sk-toggleable__content {max-height: 200px;max-width: 100%;overflow: auto;}#sk-container-id-18 input.sk-toggleable__control:checked~label.sk-toggleable__label-arrow:before {content: \"▾\";}#sk-container-id-18 div.sk-estimator input.sk-toggleable__control:checked~label.sk-toggleable__label {background-color: #d4ebff;}#sk-container-id-18 div.sk-label input.sk-toggleable__control:checked~label.sk-toggleable__label {background-color: #d4ebff;}#sk-container-id-18 input.sk-hidden--visually {border: 0;clip: rect(1px 1px 1px 1px);clip: rect(1px, 1px, 1px, 1px);height: 1px;margin: -1px;overflow: hidden;padding: 0;position: absolute;width: 1px;}#sk-container-id-18 div.sk-estimator {font-family: monospace;background-color: #f0f8ff;border: 1px dotted black;border-radius: 0.25em;box-sizing: border-box;margin-bottom: 0.5em;}#sk-container-id-18 div.sk-estimator:hover {background-color: #d4ebff;}#sk-container-id-18 div.sk-parallel-item::after {content: \"\";width: 100%;border-bottom: 1px solid gray;flex-grow: 1;}#sk-container-id-18 div.sk-label:hover label.sk-toggleable__label {background-color: #d4ebff;}#sk-container-id-18 div.sk-serial::before {content: \"\";position: absolute;border-left: 1px solid gray;box-sizing: border-box;top: 0;bottom: 0;left: 50%;z-index: 0;}#sk-container-id-18 div.sk-serial {display: flex;flex-direction: column;align-items: center;background-color: white;padding-right: 0.2em;padding-left: 0.2em;position: relative;}#sk-container-id-18 div.sk-item {position: relative;z-index: 1;}#sk-container-id-18 div.sk-parallel {display: flex;align-items: stretch;justify-content: center;background-color: white;position: relative;}#sk-container-id-18 div.sk-item::before, #sk-container-id-18 div.sk-parallel-item::before {content: \"\";position: absolute;border-left: 1px solid gray;box-sizing: border-box;top: 0;bottom: 0;left: 50%;z-index: -1;}#sk-container-id-18 div.sk-parallel-item {display: flex;flex-direction: column;z-index: 1;position: relative;background-color: white;}#sk-container-id-18 div.sk-parallel-item:first-child::after {align-self: flex-end;width: 50%;}#sk-container-id-18 div.sk-parallel-item:last-child::after {align-self: flex-start;width: 50%;}#sk-container-id-18 div.sk-parallel-item:only-child::after {width: 0;}#sk-container-id-18 div.sk-dashed-wrapped {border: 1px dashed gray;margin: 0 0.4em 0.5em 0.4em;box-sizing: border-box;padding-bottom: 0.4em;background-color: white;}#sk-container-id-18 div.sk-label label {font-family: monospace;font-weight: bold;display: inline-block;line-height: 1.2em;}#sk-container-id-18 div.sk-label-container {text-align: center;}#sk-container-id-18 div.sk-container {/* jupyter's `normalize.less` sets `[hidden] { display: none; }` but bootstrap.min.css set `[hidden] { display: none !important; }` so we also need the `!important` here to be able to override the default hidden behavior on the sphinx rendered scikit-learn.org. See: https://github.com/scikit-learn/scikit-learn/issues/21755 */display: inline-block !important;position: relative;}#sk-container-id-18 div.sk-text-repr-fallback {display: none;}</style><div id=\"sk-container-id-18\" class=\"sk-top-container\"><div class=\"sk-text-repr-fallback\"><pre>LassoLars(alpha=0.1)</pre><b>In a Jupyter environment, please rerun this cell to show the HTML representation or trust the notebook. <br />On GitHub, the HTML representation is unable to render, please try loading this page with nbviewer.org.</b></div><div class=\"sk-container\" hidden><div class=\"sk-item\"><div class=\"sk-estimator sk-toggleable\"><input class=\"sk-toggleable__control sk-hidden--visually\" id=\"sk-estimator-id-20\" type=\"checkbox\" checked><label for=\"sk-estimator-id-20\" class=\"sk-toggleable__label sk-toggleable__label-arrow\">LassoLars</label><div class=\"sk-toggleable__content\"><pre>LassoLars(alpha=0.1)</pre></div></div></div></div></div>"
      ],
      "text/plain": [
       "LassoLars(alpha=0.1)"
      ]
     },
     "execution_count": 111,
     "metadata": {},
     "output_type": "execute_result"
    }
   ],
   "source": [
    "lassotwo = LassoLars(alpha = 0.1)\n",
    "lassotwo.fit(X_polynomial, y_train)"
   ]
  },
  {
   "cell_type": "code",
   "execution_count": 116,
   "id": "5853b4a8",
   "metadata": {},
   "outputs": [
    {
     "data": {
      "text/html": [
       "<div>\n",
       "<style scoped>\n",
       "    .dataframe tbody tr th:only-of-type {\n",
       "        vertical-align: middle;\n",
       "    }\n",
       "\n",
       "    .dataframe tbody tr th {\n",
       "        vertical-align: top;\n",
       "    }\n",
       "\n",
       "    .dataframe thead th {\n",
       "        text-align: right;\n",
       "    }\n",
       "</style>\n",
       "<table border=\"1\" class=\"dataframe\">\n",
       "  <thead>\n",
       "    <tr style=\"text-align: right;\">\n",
       "      <th></th>\n",
       "      <th>actual</th>\n",
       "      <th>lm_preds</th>\n",
       "      <th>lasso_preds</th>\n",
       "      <th>poly_preds</th>\n",
       "      <th>lasso_poly</th>\n",
       "    </tr>\n",
       "  </thead>\n",
       "  <tbody>\n",
       "    <tr>\n",
       "      <th>212</th>\n",
       "      <td>16.5</td>\n",
       "      <td>12.008899</td>\n",
       "      <td>13.344142</td>\n",
       "      <td>17.1250</td>\n",
       "      <td>14.808871</td>\n",
       "    </tr>\n",
       "    <tr>\n",
       "      <th>346</th>\n",
       "      <td>32.3</td>\n",
       "      <td>33.327807</td>\n",
       "      <td>31.104773</td>\n",
       "      <td>32.6250</td>\n",
       "      <td>29.745845</td>\n",
       "    </tr>\n",
       "    <tr>\n",
       "      <th>325</th>\n",
       "      <td>44.3</td>\n",
       "      <td>31.963603</td>\n",
       "      <td>31.277887</td>\n",
       "      <td>36.1250</td>\n",
       "      <td>31.196280</td>\n",
       "    </tr>\n",
       "    <tr>\n",
       "      <th>90</th>\n",
       "      <td>12.0</td>\n",
       "      <td>8.817639</td>\n",
       "      <td>10.520505</td>\n",
       "      <td>8.9375</td>\n",
       "      <td>12.503780</td>\n",
       "    </tr>\n",
       "    <tr>\n",
       "      <th>246</th>\n",
       "      <td>32.8</td>\n",
       "      <td>34.716194</td>\n",
       "      <td>32.172975</td>\n",
       "      <td>40.6250</td>\n",
       "      <td>31.103780</td>\n",
       "    </tr>\n",
       "  </tbody>\n",
       "</table>\n",
       "</div>"
      ],
      "text/plain": [
       "     actual   lm_preds  lasso_preds  poly_preds  lasso_poly\n",
       "212    16.5  12.008899    13.344142     17.1250   14.808871\n",
       "346    32.3  33.327807    31.104773     32.6250   29.745845\n",
       "325    44.3  31.963603    31.277887     36.1250   31.196280\n",
       "90     12.0   8.817639    10.520505      8.9375   12.503780\n",
       "246    32.8  34.716194    32.172975     40.6250   31.103780"
      ]
     },
     "execution_count": 116,
     "metadata": {},
     "output_type": "execute_result"
    }
   ],
   "source": [
    "preds_df['lasso_poly'] = lassotwo.predict(X_polynomial)\n",
    "preds_df.head()"
   ]
  },
  {
   "cell_type": "code",
   "execution_count": 117,
   "id": "d56faa01",
   "metadata": {},
   "outputs": [
    {
     "data": {
      "text/plain": [
       "4.2027306640299456"
      ]
     },
     "execution_count": 117,
     "metadata": {},
     "output_type": "execute_result"
    }
   ],
   "source": [
    "lassopoly_rmse = sqrt(mean_squared_error(preds_df['actual'], preds_df['lasso_poly']))\n",
    "lassopoly_rmse"
   ]
  },
  {
   "cell_type": "markdown",
   "id": "d0a7d83a",
   "metadata": {},
   "source": [
    "# Generalized Linear Model"
   ]
  },
  {
   "cell_type": "code",
   "execution_count": 119,
   "id": "1222d8c2",
   "metadata": {},
   "outputs": [
    {
     "data": {
      "text/plain": [
       "(array([ 9., 48., 44., 33., 28., 29., 23., 14.,  2.,  5.]),\n",
       " array([ 9.  , 12.76, 16.52, 20.28, 24.04, 27.8 , 31.56, 35.32, 39.08,\n",
       "        42.84, 46.6 ]),\n",
       " <BarContainer object of 10 artists>)"
      ]
     },
     "execution_count": 119,
     "metadata": {},
     "output_type": "execute_result"
    },
    {
     "data": {
      "image/png": "[encoded data removed]",
      "text/plain": [
       "<Figure size 640x480 with 1 Axes>"
      ]
     },
     "metadata": {},
     "output_type": "display_data"
    }
   ],
   "source": [
    "plt.hist(y_train)"
   ]
  },
  {
   "cell_type": "code",
   "execution_count": 127,
   "id": "561d34e0",
   "metadata": {},
   "outputs": [
    {
     "data": {
      "text/html": [
       "<style>#sk-container-id-21 {color: black;background-color: white;}#sk-container-id-21 pre{padding: 0;}#sk-container-id-21 div.sk-toggleable {background-color: white;}#sk-container-id-21 label.sk-toggleable__label {cursor: pointer;display: block;width: 100%;margin-bottom: 0;padding: 0.3em;box-sizing: border-box;text-align: center;}#sk-container-id-21 label.sk-toggleable__label-arrow:before {content: \"▸\";float: left;margin-right: 0.25em;color: #696969;}#sk-container-id-21 label.sk-toggleable__label-arrow:hover:before {color: black;}#sk-container-id-21 div.sk-estimator:hover label.sk-toggleable__label-arrow:before {color: black;}#sk-container-id-21 div.sk-toggleable__content {max-height: 0;max-width: 0;overflow: hidden;text-align: left;background-color: #f0f8ff;}#sk-container-id-21 div.sk-toggleable__content pre {margin: 0.2em;color: black;border-radius: 0.25em;background-color: #f0f8ff;}#sk-container-id-21 input.sk-toggleable__control:checked~div.sk-toggleable__content {max-height: 200px;max-width: 100%;overflow: auto;}#sk-container-id-21 input.sk-toggleable__control:checked~label.sk-toggleable__label-arrow:before {content: \"▾\";}#sk-container-id-21 div.sk-estimator input.sk-toggleable__control:checked~label.sk-toggleable__label {background-color: #d4ebff;}#sk-container-id-21 div.sk-label input.sk-toggleable__control:checked~label.sk-toggleable__label {background-color: #d4ebff;}#sk-container-id-21 input.sk-hidden--visually {border: 0;clip: rect(1px 1px 1px 1px);clip: rect(1px, 1px, 1px, 1px);height: 1px;margin: -1px;overflow: hidden;padding: 0;position: absolute;width: 1px;}#sk-container-id-21 div.sk-estimator {font-family: monospace;background-color: #f0f8ff;border: 1px dotted black;border-radius: 0.25em;box-sizing: border-box;margin-bottom: 0.5em;}#sk-container-id-21 div.sk-estimator:hover {background-color: #d4ebff;}#sk-container-id-21 div.sk-parallel-item::after {content: \"\";width: 100%;border-bottom: 1px solid gray;flex-grow: 1;}#sk-container-id-21 div.sk-label:hover label.sk-toggleable__label {background-color: #d4ebff;}#sk-container-id-21 div.sk-serial::before {content: \"\";position: absolute;border-left: 1px solid gray;box-sizing: border-box;top: 0;bottom: 0;left: 50%;z-index: 0;}#sk-container-id-21 div.sk-serial {display: flex;flex-direction: column;align-items: center;background-color: white;padding-right: 0.2em;padding-left: 0.2em;position: relative;}#sk-container-id-21 div.sk-item {position: relative;z-index: 1;}#sk-container-id-21 div.sk-parallel {display: flex;align-items: stretch;justify-content: center;background-color: white;position: relative;}#sk-container-id-21 div.sk-item::before, #sk-container-id-21 div.sk-parallel-item::before {content: \"\";position: absolute;border-left: 1px solid gray;box-sizing: border-box;top: 0;bottom: 0;left: 50%;z-index: -1;}#sk-container-id-21 div.sk-parallel-item {display: flex;flex-direction: column;z-index: 1;position: relative;background-color: white;}#sk-container-id-21 div.sk-parallel-item:first-child::after {align-self: flex-end;width: 50%;}#sk-container-id-21 div.sk-parallel-item:last-child::after {align-self: flex-start;width: 50%;}#sk-container-id-21 div.sk-parallel-item:only-child::after {width: 0;}#sk-container-id-21 div.sk-dashed-wrapped {border: 1px dashed gray;margin: 0 0.4em 0.5em 0.4em;box-sizing: border-box;padding-bottom: 0.4em;background-color: white;}#sk-container-id-21 div.sk-label label {font-family: monospace;font-weight: bold;display: inline-block;line-height: 1.2em;}#sk-container-id-21 div.sk-label-container {text-align: center;}#sk-container-id-21 div.sk-container {/* jupyter's `normalize.less` sets `[hidden] { display: none; }` but bootstrap.min.css set `[hidden] { display: none !important; }` so we also need the `!important` here to be able to override the default hidden behavior on the sphinx rendered scikit-learn.org. See: https://github.com/scikit-learn/scikit-learn/issues/21755 */display: inline-block !important;position: relative;}#sk-container-id-21 div.sk-text-repr-fallback {display: none;}</style><div id=\"sk-container-id-21\" class=\"sk-top-container\"><div class=\"sk-text-repr-fallback\"><pre>TweedieRegressor(power=0)</pre><b>In a Jupyter environment, please rerun this cell to show the HTML representation or trust the notebook. <br />On GitHub, the HTML representation is unable to render, please try loading this page with nbviewer.org.</b></div><div class=\"sk-container\" hidden><div class=\"sk-item\"><div class=\"sk-estimator sk-toggleable\"><input class=\"sk-toggleable__control sk-hidden--visually\" id=\"sk-estimator-id-23\" type=\"checkbox\" checked><label for=\"sk-estimator-id-23\" class=\"sk-toggleable__label sk-toggleable__label-arrow\">TweedieRegressor</label><div class=\"sk-toggleable__content\"><pre>TweedieRegressor(power=0)</pre></div></div></div></div></div>"
      ],
      "text/plain": [
       "TweedieRegressor(power=0)"
      ]
     },
     "execution_count": 127,
     "metadata": {},
     "output_type": "execute_result"
    }
   ],
   "source": [
    "tweedie = TweedieRegressor(power = 0)\n",
    "\n",
    "tweedie.fit(X_train, y_train)\n",
    "\n",
    "preds_df['tweedie'] = tweedie.predict(X_train)\n",
    "preds_df.head()"
   ]
  },
  {
   "cell_type": "code",
   "execution_count": 132,
   "id": "48d186e7",
   "metadata": {},
   "outputs": [
    {
     "data": {
      "text/plain": [
       "5.9264707758233515"
      ]
     },
     "execution_count": 132,
     "metadata": {},
     "output_type": "execute_result"
    }
   ],
   "source": [
    "tweedie_norm = sqrt(mean_squared_error(preds_df['actual'], preds_df['tweedie']))\n",
    "tweedie_norm"
   ]
  },
  {
   "cell_type": "code",
   "execution_count": 130,
   "id": "9ede146a",
   "metadata": {},
   "outputs": [
    {
     "data": {
      "text/html": [
       "<div>\n",
       "<style scoped>\n",
       "    .dataframe tbody tr th:only-of-type {\n",
       "        vertical-align: middle;\n",
       "    }\n",
       "\n",
       "    .dataframe tbody tr th {\n",
       "        vertical-align: top;\n",
       "    }\n",
       "\n",
       "    .dataframe thead th {\n",
       "        text-align: right;\n",
       "    }\n",
       "</style>\n",
       "<table border=\"1\" class=\"dataframe\">\n",
       "  <thead>\n",
       "    <tr style=\"text-align: right;\">\n",
       "      <th></th>\n",
       "      <th>actual</th>\n",
       "      <th>lm_preds</th>\n",
       "      <th>lasso_preds</th>\n",
       "      <th>poly_preds</th>\n",
       "      <th>lasso_poly</th>\n",
       "      <th>tweedie</th>\n",
       "      <th>tweedie2</th>\n",
       "    </tr>\n",
       "  </thead>\n",
       "  <tbody>\n",
       "    <tr>\n",
       "      <th>212</th>\n",
       "      <td>16.5</td>\n",
       "      <td>12.008899</td>\n",
       "      <td>13.344142</td>\n",
       "      <td>17.1250</td>\n",
       "      <td>14.808871</td>\n",
       "      <td>19.790974</td>\n",
       "      <td>14.753256</td>\n",
       "    </tr>\n",
       "    <tr>\n",
       "      <th>346</th>\n",
       "      <td>32.3</td>\n",
       "      <td>33.327807</td>\n",
       "      <td>31.104773</td>\n",
       "      <td>32.6250</td>\n",
       "      <td>29.745845</td>\n",
       "      <td>27.220785</td>\n",
       "      <td>32.368355</td>\n",
       "    </tr>\n",
       "    <tr>\n",
       "      <th>325</th>\n",
       "      <td>44.3</td>\n",
       "      <td>31.963603</td>\n",
       "      <td>31.277887</td>\n",
       "      <td>36.1250</td>\n",
       "      <td>31.196280</td>\n",
       "      <td>26.852609</td>\n",
       "      <td>31.182495</td>\n",
       "    </tr>\n",
       "    <tr>\n",
       "      <th>90</th>\n",
       "      <td>12.0</td>\n",
       "      <td>8.817639</td>\n",
       "      <td>10.520505</td>\n",
       "      <td>8.9375</td>\n",
       "      <td>12.503780</td>\n",
       "      <td>19.299961</td>\n",
       "      <td>13.588848</td>\n",
       "    </tr>\n",
       "    <tr>\n",
       "      <th>246</th>\n",
       "      <td>32.8</td>\n",
       "      <td>34.716194</td>\n",
       "      <td>32.172975</td>\n",
       "      <td>40.6250</td>\n",
       "      <td>31.103780</td>\n",
       "      <td>27.407288</td>\n",
       "      <td>33.435556</td>\n",
       "    </tr>\n",
       "  </tbody>\n",
       "</table>\n",
       "</div>"
      ],
      "text/plain": [
       "     actual   lm_preds  lasso_preds  poly_preds  lasso_poly    tweedie  \\\n",
       "212    16.5  12.008899    13.344142     17.1250   14.808871  19.790974   \n",
       "346    32.3  33.327807    31.104773     32.6250   29.745845  27.220785   \n",
       "325    44.3  31.963603    31.277887     36.1250   31.196280  26.852609   \n",
       "90     12.0   8.817639    10.520505      8.9375   12.503780  19.299961   \n",
       "246    32.8  34.716194    32.172975     40.6250   31.103780  27.407288   \n",
       "\n",
       "      tweedie2  \n",
       "212  14.753256  \n",
       "346  32.368355  \n",
       "325  31.182495  \n",
       "90   13.588848  \n",
       "246  33.435556  "
      ]
     },
     "execution_count": 130,
     "metadata": {},
     "output_type": "execute_result"
    }
   ],
   "source": [
    "tweedie2 = TweedieRegressor(power = 1)\n",
    "\n",
    "tweedie2.fit(X_train, y_train)\n",
    "\n",
    "preds_df['tweedie2'] = tweedie2.predict(X_train)\n",
    "preds_df.head()"
   ]
  },
  {
   "cell_type": "code",
   "execution_count": 134,
   "id": "fef979b4",
   "metadata": {},
   "outputs": [
    {
     "data": {
      "text/plain": [
       "4.049857590714997"
      ]
     },
     "execution_count": 134,
     "metadata": {},
     "output_type": "execute_result"
    }
   ],
   "source": [
    "tweedie_poisson = sqrt(mean_squared_error(preds_df['actual'], preds_df['tweedie2']))\n",
    "tweedie_poisson"
   ]
  },
  {
   "cell_type": "code",
   "execution_count": 137,
   "id": "6a7ef88e",
   "metadata": {},
   "outputs": [
    {
     "data": {
      "text/html": [
       "<div>\n",
       "<style scoped>\n",
       "    .dataframe tbody tr th:only-of-type {\n",
       "        vertical-align: middle;\n",
       "    }\n",
       "\n",
       "    .dataframe tbody tr th {\n",
       "        vertical-align: top;\n",
       "    }\n",
       "\n",
       "    .dataframe thead th {\n",
       "        text-align: right;\n",
       "    }\n",
       "</style>\n",
       "<table border=\"1\" class=\"dataframe\">\n",
       "  <thead>\n",
       "    <tr style=\"text-align: right;\">\n",
       "      <th></th>\n",
       "      <th>model</th>\n",
       "      <th>rmse</th>\n",
       "    </tr>\n",
       "  </thead>\n",
       "  <tbody>\n",
       "    <tr>\n",
       "      <th>0</th>\n",
       "      <td>linear</td>\n",
       "      <td>3.744576</td>\n",
       "    </tr>\n",
       "    <tr>\n",
       "      <th>1</th>\n",
       "      <td>lasso</td>\n",
       "      <td>3.976707</td>\n",
       "    </tr>\n",
       "    <tr>\n",
       "      <th>2</th>\n",
       "      <td>linear_poly</td>\n",
       "      <td>5.837485</td>\n",
       "    </tr>\n",
       "    <tr>\n",
       "      <th>3</th>\n",
       "      <td>lasso_poly</td>\n",
       "      <td>4.202731</td>\n",
       "    </tr>\n",
       "    <tr>\n",
       "      <th>4</th>\n",
       "      <td>tweedie_norm</td>\n",
       "      <td>5.926471</td>\n",
       "    </tr>\n",
       "    <tr>\n",
       "      <th>5</th>\n",
       "      <td>tweedie_poisson</td>\n",
       "      <td>4.049858</td>\n",
       "    </tr>\n",
       "  </tbody>\n",
       "</table>\n",
       "</div>"
      ],
      "text/plain": [
       "             model      rmse\n",
       "0           linear  3.744576\n",
       "1            lasso  3.976707\n",
       "2      linear_poly  5.837485\n",
       "3       lasso_poly  4.202731\n",
       "4     tweedie_norm  5.926471\n",
       "5  tweedie_poisson  4.049858"
      ]
     },
     "execution_count": 137,
     "metadata": {},
     "output_type": "execute_result"
    }
   ],
   "source": [
    "pd.DataFrame({'model': ['linear', 'lasso', 'linear_poly', 'lasso_poly', 'tweedie_norm', 'tweedie_poisson'],\n",
    "             'rmse': [lm_rmse, lasso_rmse, poly_rmse, lassopoly_rmse, tweedie_norm, tweedie_poisson]})"
   ]
  },
  {
   "cell_type": "code",
   "execution_count": 144,
   "id": "0ded5ea1",
   "metadata": {},
   "outputs": [
    {
     "data": {
      "text/html": [
       "<div>\n",
       "<style scoped>\n",
       "    .dataframe tbody tr th:only-of-type {\n",
       "        vertical-align: middle;\n",
       "    }\n",
       "\n",
       "    .dataframe tbody tr th {\n",
       "        vertical-align: top;\n",
       "    }\n",
       "\n",
       "    .dataframe thead th {\n",
       "        text-align: right;\n",
       "    }\n",
       "</style>\n",
       "<table border=\"1\" class=\"dataframe\">\n",
       "  <thead>\n",
       "    <tr style=\"text-align: right;\">\n",
       "      <th></th>\n",
       "      <th>actual</th>\n",
       "      <th>lm_preds</th>\n",
       "      <th>lasso_preds</th>\n",
       "      <th>poly_preds</th>\n",
       "      <th>lasso_poly</th>\n",
       "      <th>tweedie</th>\n",
       "      <th>tweedie2</th>\n",
       "      <th>baseline</th>\n",
       "    </tr>\n",
       "  </thead>\n",
       "  <tbody>\n",
       "    <tr>\n",
       "      <th>212</th>\n",
       "      <td>16.5</td>\n",
       "      <td>12.008899</td>\n",
       "      <td>13.344142</td>\n",
       "      <td>17.1250</td>\n",
       "      <td>14.808871</td>\n",
       "      <td>19.790974</td>\n",
       "      <td>14.753256</td>\n",
       "      <td>23.50383</td>\n",
       "    </tr>\n",
       "    <tr>\n",
       "      <th>346</th>\n",
       "      <td>32.3</td>\n",
       "      <td>33.327807</td>\n",
       "      <td>31.104773</td>\n",
       "      <td>32.6250</td>\n",
       "      <td>29.745845</td>\n",
       "      <td>27.220785</td>\n",
       "      <td>32.368355</td>\n",
       "      <td>23.50383</td>\n",
       "    </tr>\n",
       "    <tr>\n",
       "      <th>325</th>\n",
       "      <td>44.3</td>\n",
       "      <td>31.963603</td>\n",
       "      <td>31.277887</td>\n",
       "      <td>36.1250</td>\n",
       "      <td>31.196280</td>\n",
       "      <td>26.852609</td>\n",
       "      <td>31.182495</td>\n",
       "      <td>23.50383</td>\n",
       "    </tr>\n",
       "    <tr>\n",
       "      <th>90</th>\n",
       "      <td>12.0</td>\n",
       "      <td>8.817639</td>\n",
       "      <td>10.520505</td>\n",
       "      <td>8.9375</td>\n",
       "      <td>12.503780</td>\n",
       "      <td>19.299961</td>\n",
       "      <td>13.588848</td>\n",
       "      <td>23.50383</td>\n",
       "    </tr>\n",
       "    <tr>\n",
       "      <th>246</th>\n",
       "      <td>32.8</td>\n",
       "      <td>34.716194</td>\n",
       "      <td>32.172975</td>\n",
       "      <td>40.6250</td>\n",
       "      <td>31.103780</td>\n",
       "      <td>27.407288</td>\n",
       "      <td>33.435556</td>\n",
       "      <td>23.50383</td>\n",
       "    </tr>\n",
       "  </tbody>\n",
       "</table>\n",
       "</div>"
      ],
      "text/plain": [
       "     actual   lm_preds  lasso_preds  poly_preds  lasso_poly    tweedie  \\\n",
       "212    16.5  12.008899    13.344142     17.1250   14.808871  19.790974   \n",
       "346    32.3  33.327807    31.104773     32.6250   29.745845  27.220785   \n",
       "325    44.3  31.963603    31.277887     36.1250   31.196280  26.852609   \n",
       "90     12.0   8.817639    10.520505      8.9375   12.503780  19.299961   \n",
       "246    32.8  34.716194    32.172975     40.6250   31.103780  27.407288   \n",
       "\n",
       "      tweedie2  baseline  \n",
       "212  14.753256  23.50383  \n",
       "346  32.368355  23.50383  \n",
       "325  31.182495  23.50383  \n",
       "90   13.588848  23.50383  \n",
       "246  33.435556  23.50383  "
      ]
     },
     "execution_count": 144,
     "metadata": {},
     "output_type": "execute_result"
    }
   ],
   "source": [
    "preds_df['baseline'] = y_train.mean()\n",
    "preds_df.head()"
   ]
  },
  {
   "cell_type": "code",
   "execution_count": 141,
   "id": "15612115",
   "metadata": {},
   "outputs": [
    {
     "data": {
      "text/plain": [
       "8.092675963815624"
      ]
     },
     "execution_count": 141,
     "metadata": {},
     "output_type": "execute_result"
    }
   ],
   "source": [
    "sqrt(mean_squared_error(preds_df['actual'], preds_df['baseline']))"
   ]
  },
  {
   "cell_type": "code",
   "execution_count": null,
   "id": "132acf4c",
   "metadata": {},
   "outputs": [],
   "source": []
  }
 ],
 "metadata": {
  "kernelspec": {
   "display_name": "Python 3 (ipykernel)",
   "language": "python",
   "name": "python3"
  },
  "language_info": {
   "codemirror_mode": {
    "name": "ipython",
    "version": 3
   },
   "file_extension": ".py",
   "mimetype": "text/x-python",
   "name": "python",
   "nbconvert_exporter": "python",
   "pygments_lexer": "ipython3",
   "version": "3.9.13"
  }
 },
 "nbformat": 4,
 "nbformat_minor": 5
}
